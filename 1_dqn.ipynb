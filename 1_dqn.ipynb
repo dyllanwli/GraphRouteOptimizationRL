{
 "cells": [
  {
   "cell_type": "markdown",
   "metadata": {
    "id": "klGNgWREsvQv"
   },
   "source": [
    "##### Copyright 2021 The TF-Agents Authors."
   ]
  },
  {
   "cell_type": "code",
   "execution_count": 1,
   "metadata": {
    "cellView": "form",
    "execution": {
     "iopub.execute_input": "2021-09-29T12:18:09.444263Z",
     "iopub.status.busy": "2021-09-29T12:18:09.443600Z",
     "iopub.status.idle": "2021-09-29T12:18:09.446089Z",
     "shell.execute_reply": "2021-09-29T12:18:09.446490Z"
    },
    "id": "nQnmcm0oI1Q-"
   },
   "outputs": [],
   "source": [
    "#@title Licensed under the Apache License, Version 2.0 (the \"License\");\n",
    "# you may not use this file except in compliance with the License.\n",
    "# You may obtain a copy of the License at\n",
    "#\n",
    "# https://www.apache.org/licenses/LICENSE-2.0\n",
    "#\n",
    "# Unless required by applicable law or agreed to in writing, software\n",
    "# distributed under the License is distributed on an \"AS IS\" BASIS,\n",
    "# WITHOUT WARRANTIES OR CONDITIONS OF ANY KIND, either express or implied.\n",
    "# See the License for the specific language governing permissions and\n",
    "# limitations under the License."
   ]
  },
  {
   "cell_type": "markdown",
   "metadata": {
    "id": "lsaQlK8fFQqH"
   },
   "source": [
    "## Introduction\n"
   ]
  },
  {
   "cell_type": "markdown",
   "metadata": {
    "id": "1u9QVVsShC9X"
   },
   "source": [
    "## Setup"
   ]
  },
  {
   "cell_type": "markdown",
   "metadata": {
    "id": "kNrNXKI7bINP"
   },
   "source": [
    "If you haven't installed the following dependencies, run:"
   ]
  },
  {
   "cell_type": "code",
   "execution_count": null,
   "metadata": {
    "execution": {
     "iopub.execute_input": "2021-09-29T12:18:09.461645Z",
     "iopub.status.busy": "2021-09-29T12:18:09.457756Z",
     "iopub.status.idle": "2021-09-29T12:18:26.451099Z",
     "shell.execute_reply": "2021-09-29T12:18:26.450515Z"
    },
    "id": "KEHR2Ui-lo8O"
   },
   "outputs": [],
   "source": [
    "!sudo apt-get update\n",
    "!sudo apt-get install -y xvfb ffmpeg freeglut3-dev\n",
    "!pip install 'imageio==2.4.0'\n",
    "!pip install pyvirtualdisplay\n",
    "!pip install tf-agents[reverb]\n",
    "!pip install pyglet"
   ]
  },
  {
   "cell_type": "code",
   "execution_count": 2,
   "metadata": {
    "execution": {
     "iopub.execute_input": "2021-09-29T12:18:26.459143Z",
     "iopub.status.busy": "2021-09-29T12:18:26.458377Z",
     "iopub.status.idle": "2021-09-29T12:18:28.978630Z",
     "shell.execute_reply": "2021-09-29T12:18:28.979073Z"
    },
    "id": "sMitx5qSgJk1"
   },
   "outputs": [],
   "source": [
    "from __future__ import absolute_import, division, print_function\n",
    "\n",
    "import base64\n",
    "import imageio\n",
    "import IPython\n",
    "import matplotlib\n",
    "import matplotlib.pyplot as plt\n",
    "import numpy as np\n",
    "import PIL.Image\n",
    "import pyvirtualdisplay\n",
    "import reverb\n",
    "\n",
    "import tensorflow as tf\n",
    "\n",
    "from tf_agents.agents.dqn import dqn_agent\n",
    "from tf_agents.drivers import py_driver\n",
    "from tf_agents.environments import suite_gym\n",
    "from tf_agents.environments import tf_py_environment\n",
    "from tf_agents.eval import metric_utils\n",
    "from tf_agents.metrics import tf_metrics\n",
    "from tf_agents.networks import sequential\n",
    "from tf_agents.policies import py_tf_eager_policy\n",
    "from tf_agents.policies import random_tf_policy\n",
    "from tf_agents.replay_buffers import reverb_replay_buffer\n",
    "from tf_agents.replay_buffers import reverb_utils\n",
    "from tf_agents.trajectories import trajectory\n",
    "from tf_agents.specs import tensor_spec\n",
    "from tf_agents.utils import common"
   ]
  },
  {
   "cell_type": "code",
   "execution_count": 3,
   "metadata": {
    "execution": {
     "iopub.execute_input": "2021-09-29T12:18:28.988837Z",
     "iopub.status.busy": "2021-09-29T12:18:28.983226Z",
     "iopub.status.idle": "2021-09-29T12:18:29.051303Z",
     "shell.execute_reply": "2021-09-29T12:18:29.051762Z"
    },
    "id": "J6HsdS5GbSjd"
   },
   "outputs": [],
   "source": [
    "# Set up a virtual display for rendering OpenAI gym environments.\n",
    "display = pyvirtualdisplay.Display(visible=0, size=(1400, 900)).start()"
   ]
  },
  {
   "cell_type": "code",
   "execution_count": 4,
   "metadata": {
    "execution": {
     "iopub.execute_input": "2021-09-29T12:18:29.059432Z",
     "iopub.status.busy": "2021-09-29T12:18:29.058733Z",
     "iopub.status.idle": "2021-09-29T12:18:29.061537Z",
     "shell.execute_reply": "2021-09-29T12:18:29.061945Z"
    },
    "id": "NspmzG4nP3b9"
   },
   "outputs": [
    {
     "data": {
      "text/plain": [
       "'2.8.0'"
      ]
     },
     "execution_count": 4,
     "metadata": {},
     "output_type": "execute_result"
    }
   ],
   "source": [
    "tf.version.VERSION"
   ]
  },
  {
   "cell_type": "markdown",
   "metadata": {
    "id": "LmC0NDhdLIKY"
   },
   "source": [
    "## Hyperparameters"
   ]
  },
  {
   "cell_type": "code",
   "execution_count": 5,
   "metadata": {
    "execution": {
     "iopub.execute_input": "2021-09-29T12:18:29.067093Z",
     "iopub.status.busy": "2021-09-29T12:18:29.066347Z",
     "iopub.status.idle": "2021-09-29T12:18:29.068583Z",
     "shell.execute_reply": "2021-09-29T12:18:29.068116Z"
    },
    "id": "HC1kNrOsLSIZ"
   },
   "outputs": [],
   "source": [
    "num_iterations = 20000 # @param {type:\"integer\"}\n",
    "\n",
    "initial_collect_steps = 100  # @param {type:\"integer\"}\n",
    "collect_steps_per_iteration =   1# @param {type:\"integer\"}\n",
    "replay_buffer_max_length = 100000  # @param {type:\"integer\"}\n",
    "\n",
    "batch_size = 64  # @param {type:\"integer\"}\n",
    "learning_rate = 1e-3  # @param {type:\"number\"}\n",
    "log_interval = 200  # @param {type:\"integer\"}\n",
    "\n",
    "num_eval_episodes = 10  # @param {type:\"integer\"}\n",
    "eval_interval = 1000  # @param {type:\"integer\"}"
   ]
  },
  {
   "cell_type": "markdown",
   "metadata": {
    "id": "VMsJC3DEgI0x"
   },
   "source": [
    "## Environment\n",
    "\n",
    "In Reinforcement Learning (RL), an environment represents the task or problem to be solved. Standard environments can be created in TF-Agents using `tf_agents.environments` suites. TF-Agents has suites for loading environments from sources such as the OpenAI Gym, Atari, and DM Control.\n",
    "\n",
    "Load the CartPole environment from the OpenAI Gym suite. "
   ]
  },
  {
   "cell_type": "code",
   "execution_count": 7,
   "metadata": {
    "execution": {
     "iopub.execute_input": "2021-09-29T12:18:29.072624Z",
     "iopub.status.busy": "2021-09-29T12:18:29.071999Z",
     "iopub.status.idle": "2021-09-29T12:18:29.079030Z",
     "shell.execute_reply": "2021-09-29T12:18:29.078449Z"
    },
    "id": "pYEz-S9gEv2-"
   },
   "outputs": [],
   "source": [
    "env_name = 'CartPole-v0'\n",
    "env = suite_gym.load(env_name)"
   ]
  },
  {
   "cell_type": "markdown",
   "metadata": {
    "id": "IIHYVBkuvPNw"
   },
   "source": [
    "You can render this environment to see how it looks. A free-swinging pole is attached to a cart.  The goal is to move the cart right or left in order to keep the pole pointing up."
   ]
  },
  {
   "cell_type": "code",
   "execution_count": 8,
   "metadata": {
    "execution": {
     "iopub.execute_input": "2021-09-29T12:18:29.084007Z",
     "iopub.status.busy": "2021-09-29T12:18:29.083346Z",
     "iopub.status.idle": "2021-09-29T12:18:29.656202Z",
     "shell.execute_reply": "2021-09-29T12:18:29.655645Z"
    },
    "id": "RlO7WIQHu_7D"
   },
   "outputs": [
    {
     "data": {
      "image/png": "[encoded data removed]",
      "text/plain": [
       "<PIL.Image.Image image mode=RGB size=600x400 at 0x7F3DABDF0640>"
      ]
     },
     "execution_count": 8,
     "metadata": {},
     "output_type": "execute_result"
    }
   ],
   "source": [
    "#@test {\"skip\": true}\n",
    "env.reset()\n",
    "PIL.Image.fromarray(env.render())"
   ]
  },
  {
   "cell_type": "markdown",
   "metadata": {
    "id": "B9_lskPOey18"
   },
   "source": [
    "The `environment.step` method takes an `action` in the environment and returns a `TimeStep` tuple containing the next observation of the environment and the reward for the action.\n",
    "\n",
    "The `time_step_spec()` method returns the specification for the `TimeStep` tuple. Its `observation` attribute shows the shape of observations, the data types, and the ranges of allowed values. The `reward` attribute shows the same details for the reward.\n"
   ]
  },
  {
   "cell_type": "code",
   "execution_count": 9,
   "metadata": {
    "execution": {
     "iopub.execute_input": "2021-09-29T12:18:29.666514Z",
     "iopub.status.busy": "2021-09-29T12:18:29.665846Z",
     "iopub.status.idle": "2021-09-29T12:18:29.668705Z",
     "shell.execute_reply": "2021-09-29T12:18:29.668199Z"
    },
    "id": "exDv57iHfwQV"
   },
   "outputs": [
    {
     "name": "stdout",
     "output_type": "stream",
     "text": [
      "Observation Spec:\n",
      "BoundedArraySpec(shape=(4,), dtype=dtype('float32'), name='observation', minimum=[-4.8000002e+00 -3.4028235e+38 -4.1887903e-01 -3.4028235e+38], maximum=[4.8000002e+00 3.4028235e+38 4.1887903e-01 3.4028235e+38])\n"
     ]
    }
   ],
   "source": [
    "print('Observation Spec:')\n",
    "print(env.time_step_spec().observation)"
   ]
  },
  {
   "cell_type": "code",
   "execution_count": 10,
   "metadata": {
    "execution": {
     "iopub.execute_input": "2021-09-29T12:18:29.673630Z",
     "iopub.status.busy": "2021-09-29T12:18:29.672934Z",
     "iopub.status.idle": "2021-09-29T12:18:29.676023Z",
     "shell.execute_reply": "2021-09-29T12:18:29.675527Z"
    },
    "id": "UxiSyCbBUQPi"
   },
   "outputs": [
    {
     "name": "stdout",
     "output_type": "stream",
     "text": [
      "Reward Spec:\n",
      "ArraySpec(shape=(), dtype=dtype('float32'), name='reward')\n"
     ]
    }
   ],
   "source": [
    "print('Reward Spec:')\n",
    "print(env.time_step_spec().reward)"
   ]
  },
  {
   "cell_type": "markdown",
   "metadata": {
    "id": "b_lHcIcqUaqB"
   },
   "source": [
    "The `action_spec()` method returns the shape, data types, and allowed values of valid actions."
   ]
  },
  {
   "cell_type": "code",
   "execution_count": 11,
   "metadata": {
    "execution": {
     "iopub.execute_input": "2021-09-29T12:18:29.680665Z",
     "iopub.status.busy": "2021-09-29T12:18:29.679897Z",
     "iopub.status.idle": "2021-09-29T12:18:29.682489Z",
     "shell.execute_reply": "2021-09-29T12:18:29.682921Z"
    },
    "id": "bttJ4uxZUQBr"
   },
   "outputs": [
    {
     "name": "stdout",
     "output_type": "stream",
     "text": [
      "Action Spec:\n",
      "BoundedArraySpec(shape=(), dtype=dtype('int64'), name='action', minimum=0, maximum=1)\n"
     ]
    }
   ],
   "source": [
    "print('Action Spec:')\n",
    "print(env.action_spec())"
   ]
  },
  {
   "cell_type": "markdown",
   "metadata": {
    "id": "eJCgJnx3g0yY"
   },
   "source": [
    "In the Cartpole environment:\n",
    "\n",
    "-   `observation` is an array of 4 floats: \n",
    "    -   the position and velocity of the cart\n",
    "    -   the angular position and velocity of the pole \n",
    "-   `reward` is a scalar float value\n",
    "-   `action` is a scalar integer with only two possible values:\n",
    "    -   `0` — \"move left\"\n",
    "    -   `1` — \"move right\"\n"
   ]
  },
  {
   "cell_type": "code",
   "execution_count": 12,
   "metadata": {
    "execution": {
     "iopub.execute_input": "2021-09-29T12:18:29.691706Z",
     "iopub.status.busy": "2021-09-29T12:18:29.690994Z",
     "iopub.status.idle": "2021-09-29T12:18:29.693556Z",
     "shell.execute_reply": "2021-09-29T12:18:29.693968Z"
    },
    "id": "V2UGR5t_iZX-"
   },
   "outputs": [
    {
     "name": "stdout",
     "output_type": "stream",
     "text": [
      "Time step:\n",
      "TimeStep(\n",
      "{'discount': array(1., dtype=float32),\n",
      " 'observation': array([-0.02322505, -0.04141347, -0.01900171,  0.0489972 ], dtype=float32),\n",
      " 'reward': array(0., dtype=float32),\n",
      " 'step_type': array(0, dtype=int32)})\n",
      "Next time step:\n",
      "TimeStep(\n",
      "{'discount': array(1., dtype=float32),\n",
      " 'observation': array([-0.02405332,  0.15397573, -0.01802177, -0.24961986], dtype=float32),\n",
      " 'reward': array(1., dtype=float32),\n",
      " 'step_type': array(1, dtype=int32)})\n"
     ]
    }
   ],
   "source": [
    "time_step = env.reset()\n",
    "print('Time step:')\n",
    "print(time_step)\n",
    "\n",
    "action = np.array(1, dtype=np.int32)\n",
    "\n",
    "next_time_step = env.step(action)\n",
    "print('Next time step:')\n",
    "print(next_time_step)"
   ]
  },
  {
   "cell_type": "markdown",
   "metadata": {
    "id": "4JSc9GviWUBK"
   },
   "source": [
    "Usually two environments are instantiated: one for training and one for evaluation. "
   ]
  },
  {
   "cell_type": "code",
   "execution_count": 13,
   "metadata": {
    "execution": {
     "iopub.execute_input": "2021-09-29T12:18:29.700960Z",
     "iopub.status.busy": "2021-09-29T12:18:29.699585Z",
     "iopub.status.idle": "2021-09-29T12:18:29.702765Z",
     "shell.execute_reply": "2021-09-29T12:18:29.703225Z"
    },
    "id": "N7brXNIGWXjC"
   },
   "outputs": [],
   "source": [
    "train_py_env = suite_gym.load(env_name)\n",
    "eval_py_env = suite_gym.load(env_name)"
   ]
  },
  {
   "cell_type": "markdown",
   "metadata": {
    "id": "zuUqXAVmecTU"
   },
   "source": [
    "The Cartpole environment, like most environments, is written in pure Python. This is converted to TensorFlow using the `TFPyEnvironment` wrapper.\n",
    "\n",
    "The original environment's API uses Numpy arrays. The `TFPyEnvironment` converts these to `Tensors` to make it compatible with Tensorflow agents and policies.\n"
   ]
  },
  {
   "cell_type": "code",
   "execution_count": 14,
   "metadata": {
    "execution": {
     "iopub.execute_input": "2021-09-29T12:18:29.709094Z",
     "iopub.status.busy": "2021-09-29T12:18:29.708120Z",
     "iopub.status.idle": "2021-09-29T12:18:29.714433Z",
     "shell.execute_reply": "2021-09-29T12:18:29.713860Z"
    },
    "id": "Xp-Y4mD6eDhF"
   },
   "outputs": [],
   "source": [
    "train_env = tf_py_environment.TFPyEnvironment(train_py_env)\n",
    "eval_env = tf_py_environment.TFPyEnvironment(eval_py_env)"
   ]
  },
  {
   "cell_type": "markdown",
   "metadata": {
    "id": "E9lW_OZYFR8A"
   },
   "source": [
    "## Agent\n",
    "\n",
    "The algorithm used to solve an RL problem is represented by an `Agent`. TF-Agents provides standard implementations of a variety of `Agents`, including:\n",
    "\n",
    "-   [DQN](https://storage.googleapis.com/deepmind-media/dqn/DQNNaturePaper.pdf) (used in this tutorial)\n",
    "-   [REINFORCE](https://www-anw.cs.umass.edu/~barto/courses/cs687/williams92simple.pdf)\n",
    "-   [DDPG](https://arxiv.org/pdf/1509.02971.pdf)\n",
    "-   [TD3](https://arxiv.org/pdf/1802.09477.pdf)\n",
    "-   [PPO](https://arxiv.org/abs/1707.06347)\n",
    "-   [SAC](https://arxiv.org/abs/1801.01290)\n",
    "\n",
    "The DQN agent can be used in any environment which has a discrete action space.\n",
    "\n",
    "At the heart of a DQN Agent is a `QNetwork`, a neural network model that can learn to predict `QValues` (expected returns) for all actions, given an observation from the environment.\n",
    "\n",
    "We will use `tf_agents.networks.` to create a `QNetwork`. The network will consist of a sequence of `tf.keras.layers.Dense` layers, where the final layer will have 1 output for each possible action."
   ]
  },
  {
   "cell_type": "code",
   "execution_count": 15,
   "metadata": {
    "execution": {
     "iopub.execute_input": "2021-09-29T12:18:29.723529Z",
     "iopub.status.busy": "2021-09-29T12:18:29.721782Z",
     "iopub.status.idle": "2021-09-29T12:18:29.741288Z",
     "shell.execute_reply": "2021-09-29T12:18:29.741683Z"
    },
    "id": "TgkdEPg_muzV"
   },
   "outputs": [],
   "source": [
    "fc_layer_params = (100, 50)\n",
    "action_tensor_spec = tensor_spec.from_spec(env.action_spec())\n",
    "num_actions = action_tensor_spec.maximum - action_tensor_spec.minimum + 1\n",
    "\n",
    "# Define a helper function to create Dense layers configured with the right\n",
    "# activation and kernel initializer.\n",
    "def dense_layer(num_units):\n",
    "  return tf.keras.layers.Dense(\n",
    "      num_units,\n",
    "      activation=tf.keras.activations.relu,\n",
    "      kernel_initializer=tf.keras.initializers.VarianceScaling(\n",
    "          scale=2.0, mode='fan_in', distribution='truncated_normal'))\n",
    "\n",
    "# QNetwork consists of a sequence of Dense layers followed by a dense layer\n",
    "# with `num_actions` units to generate one q_value per available action as\n",
    "# its output.\n",
    "dense_layers = [dense_layer(num_units) for num_units in fc_layer_params]\n",
    "q_values_layer = tf.keras.layers.Dense(\n",
    "    num_actions,\n",
    "    activation=None,\n",
    "    kernel_initializer=tf.keras.initializers.RandomUniform(\n",
    "        minval=-0.03, maxval=0.03),\n",
    "    bias_initializer=tf.keras.initializers.Constant(-0.2))\n",
    "q_net = sequential.Sequential(dense_layers + [q_values_layer])"
   ]
  },
  {
   "cell_type": "markdown",
   "metadata": {
    "id": "z62u55hSmviJ"
   },
   "source": [
    "Now use `tf_agents.agents.dqn.dqn_agent` to instantiate a `DqnAgent`. In addition to the `time_step_spec`, `action_spec` and the QNetwork, the agent constructor also requires an optimizer (in this case, `AdamOptimizer`), a loss function, and an integer step counter."
   ]
  },
  {
   "cell_type": "code",
   "execution_count": 16,
   "metadata": {
    "execution": {
     "iopub.execute_input": "2021-09-29T12:18:31.430740Z",
     "iopub.status.busy": "2021-09-29T12:18:31.126752Z",
     "iopub.status.idle": "2021-09-29T12:18:31.892899Z",
     "shell.execute_reply": "2021-09-29T12:18:31.892316Z"
    },
    "id": "jbY4yrjTEyc9"
   },
   "outputs": [],
   "source": [
    "optimizer = tf.keras.optimizers.Adam(learning_rate=learning_rate)\n",
    "\n",
    "train_step_counter = tf.Variable(0)\n",
    "\n",
    "agent = dqn_agent.DqnAgent(\n",
    "    train_env.time_step_spec(),\n",
    "    train_env.action_spec(),\n",
    "    q_network=q_net,\n",
    "    optimizer=optimizer,\n",
    "    td_errors_loss_fn=common.element_wise_squared_loss,\n",
    "    train_step_counter=train_step_counter)\n",
    "\n",
    "agent.initialize()"
   ]
  },
  {
   "cell_type": "markdown",
   "metadata": {
    "id": "I0KLrEPwkn5x"
   },
   "source": [
    "## Policies\n",
    "\n",
    "A policy defines the way an agent acts in an environment. Typically, the goal of reinforcement learning is to train the underlying model until the policy produces the desired outcome.\n",
    "\n",
    "In this tutorial:\n",
    "\n",
    "-   The desired outcome is keeping the pole balanced upright over the cart.\n",
    "-   The policy returns an action (left or right) for each `time_step` observation.\n",
    "\n",
    "Agents contain two policies: \n",
    "\n",
    "-   `agent.policy` — The main policy that is used for evaluation and deployment.\n",
    "-   `agent.collect_policy` — A second policy that is used for data collection.\n"
   ]
  },
  {
   "cell_type": "code",
   "execution_count": 17,
   "metadata": {
    "execution": {
     "iopub.execute_input": "2021-09-29T12:18:31.897610Z",
     "iopub.status.busy": "2021-09-29T12:18:31.896972Z",
     "iopub.status.idle": "2021-09-29T12:18:31.899396Z",
     "shell.execute_reply": "2021-09-29T12:18:31.898941Z"
    },
    "id": "BwY7StuMkuV4"
   },
   "outputs": [],
   "source": [
    "eval_policy = agent.policy\n",
    "collect_policy = agent.collect_policy"
   ]
  },
  {
   "cell_type": "markdown",
   "metadata": {
    "id": "2Qs1Fl3dV0ae"
   },
   "source": [
    "Policies can be created independently of agents. For example, use `tf_agents.policies.random_tf_policy` to create a policy which will randomly select an action for each `time_step`."
   ]
  },
  {
   "cell_type": "code",
   "execution_count": 18,
   "metadata": {
    "execution": {
     "iopub.execute_input": "2021-09-29T12:18:31.904090Z",
     "iopub.status.busy": "2021-09-29T12:18:31.903426Z",
     "iopub.status.idle": "2021-09-29T12:18:31.905901Z",
     "shell.execute_reply": "2021-09-29T12:18:31.905428Z"
    },
    "id": "HE37-UCIrE69"
   },
   "outputs": [],
   "source": [
    "random_policy = random_tf_policy.RandomTFPolicy(train_env.time_step_spec(),\n",
    "                                                train_env.action_spec())"
   ]
  },
  {
   "cell_type": "markdown",
   "metadata": {
    "id": "dOlnlRRsUbxP"
   },
   "source": [
    "To get an action from a policy, call the `policy.action(time_step)` method. The `time_step` contains the observation from the environment. This method returns a `PolicyStep`, which is a named tuple with three components:\n",
    "\n",
    "-   `action` — the action to be taken (in this case, `0` or `1`)\n",
    "-   `state` — used for stateful (that is, RNN-based) policies\n",
    "-   `info` — auxiliary data, such as log probabilities of actions"
   ]
  },
  {
   "cell_type": "code",
   "execution_count": 19,
   "metadata": {
    "execution": {
     "iopub.execute_input": "2021-09-29T12:18:31.912250Z",
     "iopub.status.busy": "2021-09-29T12:18:31.911622Z",
     "iopub.status.idle": "2021-09-29T12:18:31.915308Z",
     "shell.execute_reply": "2021-09-29T12:18:31.914860Z"
    },
    "id": "5gCcpXswVAxk"
   },
   "outputs": [],
   "source": [
    "example_environment = tf_py_environment.TFPyEnvironment(\n",
    "    suite_gym.load('CartPole-v0'))"
   ]
  },
  {
   "cell_type": "code",
   "execution_count": 20,
   "metadata": {
    "execution": {
     "iopub.execute_input": "2021-09-29T12:18:31.920437Z",
     "iopub.status.busy": "2021-09-29T12:18:31.919763Z",
     "iopub.status.idle": "2021-09-29T12:18:31.922888Z",
     "shell.execute_reply": "2021-09-29T12:18:31.922412Z"
    },
    "id": "D4DHZtq3Ndis"
   },
   "outputs": [],
   "source": [
    "time_step = example_environment.reset()"
   ]
  },
  {
   "cell_type": "code",
   "execution_count": 21,
   "metadata": {
    "execution": {
     "iopub.execute_input": "2021-09-29T12:18:31.927772Z",
     "iopub.status.busy": "2021-09-29T12:18:31.926565Z",
     "iopub.status.idle": "2021-09-29T12:18:31.933402Z",
     "shell.execute_reply": "2021-09-29T12:18:31.932954Z"
    },
    "id": "PRFqAUzpNaAW"
   },
   "outputs": [
    {
     "data": {
      "text/plain": [
       "PolicyStep(action=<tf.Tensor: shape=(1,), dtype=int64, numpy=array([0])>, state=(), info=())"
      ]
     },
     "execution_count": 21,
     "metadata": {},
     "output_type": "execute_result"
    }
   ],
   "source": [
    "random_policy.action(time_step)"
   ]
  },
  {
   "cell_type": "markdown",
   "metadata": {
    "id": "94rCXQtbUbXv"
   },
   "source": [
    "## Metrics and Evaluation\n",
    "\n",
    "The most common metric used to evaluate a policy is the average return. The return is the sum of rewards obtained while running a policy in an environment for an episode. Several episodes are run, creating an average return.\n",
    "\n",
    "The following function computes the average return of a policy, given the policy, environment, and a number of episodes.\n"
   ]
  },
  {
   "cell_type": "code",
   "execution_count": 22,
   "metadata": {
    "execution": {
     "iopub.execute_input": "2021-09-29T12:18:31.938973Z",
     "iopub.status.busy": "2021-09-29T12:18:31.938317Z",
     "iopub.status.idle": "2021-09-29T12:18:31.940967Z",
     "shell.execute_reply": "2021-09-29T12:18:31.940505Z"
    },
    "id": "bitzHo5_UbXy"
   },
   "outputs": [],
   "source": [
    "#@test {\"skip\": true}\n",
    "def compute_avg_return(environment, policy, num_episodes=10):\n",
    "\n",
    "  total_return = 0.0\n",
    "  for _ in range(num_episodes):\n",
    "\n",
    "    time_step = environment.reset()\n",
    "    episode_return = 0.0\n",
    "\n",
    "    while not time_step.is_last():\n",
    "      action_step = policy.action(time_step)\n",
    "      time_step = environment.step(action_step.action)\n",
    "      episode_return += time_step.reward\n",
    "    total_return += episode_return\n",
    "\n",
    "  avg_return = total_return / num_episodes\n",
    "  return avg_return.numpy()[0]\n",
    "\n",
    "\n",
    "# See also the metrics module for standard implementations of different metrics.\n",
    "# https://github.com/tensorflow/agents/tree/master/tf_agents/metrics"
   ]
  },
  {
   "cell_type": "markdown",
   "metadata": {
    "id": "_snCVvq5Z8lJ"
   },
   "source": [
    "Running this computation on the `random_policy` shows a baseline performance in the environment."
   ]
  },
  {
   "cell_type": "code",
   "execution_count": 23,
   "metadata": {
    "execution": {
     "iopub.execute_input": "2021-09-29T12:18:31.946328Z",
     "iopub.status.busy": "2021-09-29T12:18:31.945713Z",
     "iopub.status.idle": "2021-09-29T12:18:32.524300Z",
     "shell.execute_reply": "2021-09-29T12:18:32.524733Z"
    },
    "id": "9bgU6Q6BZ8Bp"
   },
   "outputs": [
    {
     "data": {
      "text/plain": [
       "21.3"
      ]
     },
     "execution_count": 23,
     "metadata": {},
     "output_type": "execute_result"
    }
   ],
   "source": [
    "compute_avg_return(eval_env, random_policy, num_eval_episodes)"
   ]
  },
  {
   "cell_type": "markdown",
   "metadata": {
    "id": "NLva6g2jdWgr"
   },
   "source": [
    "## Replay Buffer\n",
    "\n",
    "In order to keep track of the data collected from the environment, we will use [Reverb](https://deepmind.com/research/open-source/Reverb), an efficient, extensible, and easy-to-use replay system by Deepmind. It stores experience data when we collect trajectories and is consumed during training.\n",
    "\n",
    "This replay buffer is constructed using specs describing the tensors that are to be stored, which can be obtained from the agent using agent.collect_data_spec.\n"
   ]
  },
  {
   "cell_type": "code",
   "execution_count": 24,
   "metadata": {
    "execution": {
     "iopub.execute_input": "2021-09-29T12:18:32.534098Z",
     "iopub.status.busy": "2021-09-29T12:18:32.533425Z",
     "iopub.status.idle": "2021-09-29T12:18:32.592073Z",
     "shell.execute_reply": "2021-09-29T12:18:32.591585Z"
    },
    "id": "vX2zGUWJGWAl"
   },
   "outputs": [],
   "source": [
    "table_name = 'uniform_table'\n",
    "replay_buffer_signature = tensor_spec.from_spec(\n",
    "      agent.collect_data_spec)\n",
    "replay_buffer_signature = tensor_spec.add_outer_dim(\n",
    "    replay_buffer_signature)\n",
    "\n",
    "table = reverb.Table(\n",
    "    table_name,\n",
    "    max_size=replay_buffer_max_length,\n",
    "    sampler=reverb.selectors.Uniform(),\n",
    "    remover=reverb.selectors.Fifo(),\n",
    "    rate_limiter=reverb.rate_limiters.MinSize(1),\n",
    "    signature=replay_buffer_signature)\n",
    "\n",
    "reverb_server = reverb.Server([table])\n",
    "\n",
    "replay_buffer = reverb_replay_buffer.ReverbReplayBuffer(\n",
    "    agent.collect_data_spec,\n",
    "    table_name=table_name,\n",
    "    sequence_length=2,\n",
    "    local_server=reverb_server)\n",
    "\n",
    "rb_observer = reverb_utils.ReverbAddTrajectoryObserver(\n",
    "  replay_buffer.py_client,\n",
    "  table_name,\n",
    "  sequence_length=2)"
   ]
  },
  {
   "cell_type": "markdown",
   "metadata": {
    "id": "ZGNTDJpZs4NN"
   },
   "source": [
    "For most agents, `collect_data_spec` is a named tuple called `Trajectory`, containing the specs for observations, actions, rewards, and other items."
   ]
  },
  {
   "cell_type": "code",
   "execution_count": 25,
   "metadata": {
    "execution": {
     "iopub.execute_input": "2021-09-29T12:18:32.599179Z",
     "iopub.status.busy": "2021-09-29T12:18:32.598443Z",
     "iopub.status.idle": "2021-09-29T12:18:32.602124Z",
     "shell.execute_reply": "2021-09-29T12:18:32.601537Z"
    },
    "id": "_IZ-3HcqgE1z"
   },
   "outputs": [
    {
     "data": {
      "text/plain": [
       "Trajectory(\n",
       "{'action': BoundedTensorSpec(shape=(), dtype=tf.int64, name='action', minimum=array(0), maximum=array(1)),\n",
       " 'discount': BoundedTensorSpec(shape=(), dtype=tf.float32, name='discount', minimum=array(0., dtype=float32), maximum=array(1., dtype=float32)),\n",
       " 'next_step_type': TensorSpec(shape=(), dtype=tf.int32, name='step_type'),\n",
       " 'observation': BoundedTensorSpec(shape=(4,), dtype=tf.float32, name='observation', minimum=array([-4.8000002e+00, -3.4028235e+38, -4.1887903e-01, -3.4028235e+38],\n",
       "      dtype=float32), maximum=array([4.8000002e+00, 3.4028235e+38, 4.1887903e-01, 3.4028235e+38],\n",
       "      dtype=float32)),\n",
       " 'policy_info': (),\n",
       " 'reward': TensorSpec(shape=(), dtype=tf.float32, name='reward'),\n",
       " 'step_type': TensorSpec(shape=(), dtype=tf.int32, name='step_type')})"
      ]
     },
     "execution_count": 25,
     "metadata": {},
     "output_type": "execute_result"
    }
   ],
   "source": [
    "agent.collect_data_spec"
   ]
  },
  {
   "cell_type": "code",
   "execution_count": 26,
   "metadata": {
    "execution": {
     "iopub.execute_input": "2021-09-29T12:18:32.606800Z",
     "iopub.status.busy": "2021-09-29T12:18:32.606124Z",
     "iopub.status.idle": "2021-09-29T12:18:32.609584Z",
     "shell.execute_reply": "2021-09-29T12:18:32.609122Z"
    },
    "id": "sy6g1tGcfRlw"
   },
   "outputs": [
    {
     "data": {
      "text/plain": [
       "('step_type',\n",
       " 'observation',\n",
       " 'action',\n",
       " 'policy_info',\n",
       " 'next_step_type',\n",
       " 'reward',\n",
       " 'discount')"
      ]
     },
     "execution_count": 26,
     "metadata": {},
     "output_type": "execute_result"
    }
   ],
   "source": [
    "agent.collect_data_spec._fields"
   ]
  },
  {
   "cell_type": "markdown",
   "metadata": {
    "id": "rVD5nQ9ZGo8_"
   },
   "source": [
    "## Data Collection\n",
    "\n",
    "Now execute the random policy in the environment for a few steps, recording the data in the replay buffer.\n",
    "\n",
    "Here we are using 'PyDriver' to run the experience collecting loop. You can learn more about TF Agents driver in our [drivers tutorial](https://www.tensorflow.org/agents/tutorials/4_drivers_tutorial)."
   ]
  },
  {
   "cell_type": "code",
   "execution_count": 27,
   "metadata": {
    "execution": {
     "iopub.execute_input": "2021-09-29T12:18:32.620962Z",
     "iopub.status.busy": "2021-09-29T12:18:32.620324Z",
     "iopub.status.idle": "2021-09-29T12:18:32.846174Z",
     "shell.execute_reply": "2021-09-29T12:18:32.846597Z"
    },
    "id": "wr1KSAEGG4h9"
   },
   "outputs": [
    {
     "data": {
      "text/plain": [
       "(TimeStep(\n",
       " {'discount': array(1., dtype=float32),\n",
       "  'observation': array([ 0.06462508,  0.53861415, -0.06119043, -0.9452171 ], dtype=float32),\n",
       "  'reward': array(1., dtype=float32),\n",
       "  'step_type': array(1, dtype=int32)}),\n",
       " ())"
      ]
     },
     "execution_count": 27,
     "metadata": {},
     "output_type": "execute_result"
    }
   ],
   "source": [
    "#@test {\"skip\": true}\n",
    "py_driver.PyDriver(\n",
    "    env,\n",
    "    py_tf_eager_policy.PyTFEagerPolicy(\n",
    "      random_policy, use_tf_function=True),\n",
    "    [rb_observer],\n",
    "    max_steps=initial_collect_steps).run(train_py_env.reset())"
   ]
  },
  {
   "cell_type": "markdown",
   "metadata": {
    "id": "84z5pQJdoKxo"
   },
   "source": [
    "The replay buffer is now a collection of Trajectories."
   ]
  },
  {
   "cell_type": "code",
   "execution_count": 28,
   "metadata": {
    "execution": {
     "iopub.execute_input": "2021-09-29T12:18:32.851051Z",
     "iopub.status.busy": "2021-09-29T12:18:32.850261Z",
     "iopub.status.idle": "2021-09-29T12:18:32.852779Z",
     "shell.execute_reply": "2021-09-29T12:18:32.852288Z"
    },
    "id": "4wZnLu2ViO4E"
   },
   "outputs": [],
   "source": [
    "# For the curious:\n",
    "# Uncomment to peel one of these off and inspect it.\n",
    "# iter(replay_buffer.as_dataset()).next()"
   ]
  },
  {
   "cell_type": "markdown",
   "metadata": {
    "id": "TujU-PMUsKjS"
   },
   "source": [
    "The agent needs access to the replay buffer. This is provided by creating an iterable `tf.data.Dataset` pipeline which will feed data to the agent.\n",
    "\n",
    "Each row of the replay buffer only stores a single observation step. But since the DQN Agent needs both the current and next observation to compute the loss, the dataset pipeline will sample two adjacent rows for each item in the batch (`num_steps=2`).\n",
    "\n",
    "This dataset is also optimized by running parallel calls and prefetching data."
   ]
  },
  {
   "cell_type": "code",
   "execution_count": 29,
   "metadata": {
    "execution": {
     "iopub.execute_input": "2021-09-29T12:18:32.886246Z",
     "iopub.status.busy": "2021-09-29T12:18:32.870593Z",
     "iopub.status.idle": "2021-09-29T12:18:33.193567Z",
     "shell.execute_reply": "2021-09-29T12:18:33.193043Z"
    },
    "id": "ba7bilizt_qW"
   },
   "outputs": [
    {
     "data": {
      "text/plain": [
       "<PrefetchDataset element_spec=(Trajectory(\n",
       "{'action': TensorSpec(shape=(64, 2), dtype=tf.int64, name=None),\n",
       " 'discount': TensorSpec(shape=(64, 2), dtype=tf.float32, name=None),\n",
       " 'next_step_type': TensorSpec(shape=(64, 2), dtype=tf.int32, name=None),\n",
       " 'observation': TensorSpec(shape=(64, 2, 4), dtype=tf.float32, name=None),\n",
       " 'policy_info': (),\n",
       " 'reward': TensorSpec(shape=(64, 2), dtype=tf.float32, name=None),\n",
       " 'step_type': TensorSpec(shape=(64, 2), dtype=tf.int32, name=None)}), SampleInfo(key=TensorSpec(shape=(64, 2), dtype=tf.uint64, name=None), probability=TensorSpec(shape=(64, 2), dtype=tf.float64, name=None), table_size=TensorSpec(shape=(64, 2), dtype=tf.int64, name=None), priority=TensorSpec(shape=(64, 2), dtype=tf.float64, name=None)))>"
      ]
     },
     "execution_count": 29,
     "metadata": {},
     "output_type": "execute_result"
    }
   ],
   "source": [
    "# Dataset generates trajectories with shape [Bx2x...]\n",
    "dataset = replay_buffer.as_dataset(\n",
    "    num_parallel_calls=3,\n",
    "    sample_batch_size=batch_size,\n",
    "    num_steps=2).prefetch(3)\n",
    "\n",
    "dataset"
   ]
  },
  {
   "cell_type": "code",
   "execution_count": 30,
   "metadata": {
    "execution": {
     "iopub.execute_input": "2021-09-29T12:18:33.198233Z",
     "iopub.status.busy": "2021-09-29T12:18:33.197570Z",
     "iopub.status.idle": "2021-09-29T12:18:33.250249Z",
     "shell.execute_reply": "2021-09-29T12:18:33.249705Z"
    },
    "id": "K13AST-2ppOq"
   },
   "outputs": [
    {
     "name": "stdout",
     "output_type": "stream",
     "text": [
      "<tensorflow.python.data.ops.iterator_ops.OwnedIterator object at 0x7f3cff948e80>\n"
     ]
    }
   ],
   "source": [
    "iterator = iter(dataset)\n",
    "print(iterator)"
   ]
  },
  {
   "cell_type": "code",
   "execution_count": 31,
   "metadata": {
    "execution": {
     "iopub.execute_input": "2021-09-29T12:18:33.254566Z",
     "iopub.status.busy": "2021-09-29T12:18:33.253844Z",
     "iopub.status.idle": "2021-09-29T12:18:33.255982Z",
     "shell.execute_reply": "2021-09-29T12:18:33.256368Z"
    },
    "id": "Th5w5Sff0b16"
   },
   "outputs": [],
   "source": [
    "# For the curious:\n",
    "# Uncomment to see what the dataset iterator is feeding to the agent.\n",
    "# Compare this representation of replay data \n",
    "# to the collection of individual trajectories shown earlier.\n",
    "\n",
    "# iterator.next()"
   ]
  },
  {
   "cell_type": "markdown",
   "metadata": {
    "id": "hBc9lj9VWWtZ"
   },
   "source": [
    "## Training the agent\n",
    "\n",
    "Two things must happen during the training loop:\n",
    "\n",
    "-   collect data from the environment\n",
    "-   use that data to train the agent's neural network(s)\n",
    "\n",
    "This example also periodicially evaluates the policy and prints the current score.\n",
    "\n",
    "The following will take ~5 minutes to run."
   ]
  },
  {
   "cell_type": "code",
   "execution_count": 31,
   "metadata": {
    "execution": {
     "iopub.execute_input": "2021-09-29T12:18:33.268155Z",
     "iopub.status.busy": "2021-09-29T12:18:33.266196Z",
     "iopub.status.idle": "2021-09-29T12:23:32.202553Z",
     "shell.execute_reply": "2021-09-29T12:23:32.201984Z"
    },
    "id": "0pTbJ3PeyF-u"
   },
   "outputs": [
    {
     "name": "stdout",
     "output_type": "stream",
     "text": [
      "step = 11600: loss = 238.6571044921875\n",
      "step = 11800: loss = 456.07757568359375\n",
      "step = 12000: loss = 430.6259460449219\n",
      "step = 12000: Average Return = 200.0\n",
      "step = 12200: loss = 16231.3447265625\n",
      "step = 12400: loss = 497.50177001953125\n",
      "step = 12600: loss = 548.5401611328125\n",
      "step = 12800: loss = 775.5354614257812\n",
      "step = 13000: loss = 195.69700622558594\n",
      "step = 13000: Average Return = 200.0\n",
      "step = 13200: loss = 415.0104064941406\n",
      "step = 13400: loss = 946.0457153320312\n",
      "step = 13600: loss = 831.78173828125\n",
      "step = 13800: loss = 391.16717529296875\n",
      "step = 14000: loss = 831.6470336914062\n",
      "step = 14000: Average Return = 200.0\n",
      "step = 14200: loss = 385.27655029296875\n",
      "step = 14400: loss = 604.2073974609375\n",
      "step = 14600: loss = 836.9874877929688\n",
      "step = 14800: loss = 4259.28515625\n",
      "step = 15000: loss = 326.09759521484375\n",
      "step = 15000: Average Return = 200.0\n",
      "step = 15200: loss = 763.1043701171875\n",
      "step = 15400: loss = 9740.6943359375\n",
      "step = 15600: loss = 954.904541015625\n",
      "step = 15800: loss = 1074.0111083984375\n",
      "step = 16000: loss = 625.5804443359375\n",
      "step = 16000: Average Return = 200.0\n",
      "step = 16200: loss = 578.3794555664062\n",
      "step = 16400: loss = 2144.436279296875\n",
      "step = 16600: loss = 21288.78515625\n",
      "step = 16800: loss = 2324.396728515625\n",
      "step = 17000: loss = 1082.5654296875\n",
      "step = 17000: Average Return = 200.0\n",
      "step = 17200: loss = 685.3837890625\n",
      "step = 17400: loss = 2331.07373046875\n",
      "step = 17600: loss = 902.4031982421875\n",
      "step = 17800: loss = 1272.4661865234375\n",
      "step = 18000: loss = 1187.72802734375\n",
      "step = 18000: Average Return = 200.0\n",
      "step = 18200: loss = 3334.3828125\n",
      "step = 18400: loss = 1269.4364013671875\n",
      "step = 18600: loss = 34790.4296875\n",
      "step = 18800: loss = 692.57421875\n",
      "step = 19000: loss = 1328.5028076171875\n",
      "step = 19000: Average Return = 200.0\n",
      "step = 19200: loss = 1411.66748046875\n",
      "step = 19400: loss = 955.78662109375\n",
      "step = 19600: loss = 642.2093505859375\n",
      "step = 19800: loss = 44446.4921875\n",
      "step = 20000: loss = 2577.62060546875\n",
      "step = 20000: Average Return = 200.0\n"
     ]
    }
   ],
   "source": [
    "#@test {\"skip\": true}\n",
    "try:\n",
    "  %%time\n",
    "except:\n",
    "  pass\n",
    "\n",
    "# (Optional) Optimize by wrapping some of the code in a graph using TF function.\n",
    "agent.train = common.function(agent.train)\n",
    "\n",
    "# Reset the train step.\n",
    "agent.train_step_counter.assign(0)\n",
    "\n",
    "# Evaluate the agent's policy once before training.\n",
    "avg_return = compute_avg_return(eval_env, agent.policy, num_eval_episodes)\n",
    "returns = [avg_return]\n",
    "\n",
    "# Reset the environment.\n",
    "time_step = train_py_env.reset()\n",
    "\n",
    "# Create a driver to collect experience.\n",
    "collect_driver = py_driver.PyDriver(\n",
    "    env,\n",
    "    py_tf_eager_policy.PyTFEagerPolicy(\n",
    "      agent.collect_policy, use_tf_function=True),\n",
    "    [rb_observer],\n",
    "    max_steps=collect_steps_per_iteration)\n",
    "\n",
    "for _ in range(num_iterations):\n",
    "\n",
    "  # Collect a few steps and save to the replay buffer.\n",
    "  time_step, _ = collect_driver.run(time_step)\n",
    "\n",
    "  # Sample a batch of data from the buffer and update the agent's network.\n",
    "  experience, unused_info = next(iterator)\n",
    "  train_loss = agent.train(experience).loss\n",
    "\n",
    "  step = agent.train_step_counter.numpy()\n",
    "\n",
    "  if step % log_interval == 0:\n",
    "    print('step = {0}: loss = {1}'.format(step, train_loss))\n",
    "\n",
    "  if step % eval_interval == 0:\n",
    "    avg_return = compute_avg_return(eval_env, agent.policy, num_eval_episodes)\n",
    "    print('step = {0}: Average Return = {1}'.format(step, avg_return))\n",
    "    returns.append(avg_return)"
   ]
  },
  {
   "cell_type": "markdown",
   "metadata": {
    "id": "68jNcA_TiJDq"
   },
   "source": [
    "## Visualization\n"
   ]
  },
  {
   "cell_type": "markdown",
   "metadata": {
    "id": "aO-LWCdbbOIC"
   },
   "source": [
    "### Plots\n",
    "\n",
    "Use `matplotlib.pyplot` to chart how the policy improved during training.\n",
    "\n",
    "One iteration of `Cartpole-v0` consists of 200 time steps. The environment gives a reward of `+1` for each step the pole stays up, so the maximum return for one episode is 200. The charts shows the return increasing towards that maximum each time it is evaluated during training. (It may be a little unstable and not increase monotonically each time.)"
   ]
  },
  {
   "cell_type": "code",
   "execution_count": 32,
   "metadata": {
    "execution": {
     "iopub.execute_input": "2021-09-29T12:23:32.231411Z",
     "iopub.status.busy": "2021-09-29T12:23:32.220717Z",
     "iopub.status.idle": "2021-09-29T12:23:32.428018Z",
     "shell.execute_reply": "2021-09-29T12:23:32.427468Z"
    },
    "id": "NxtL1mbOYCVO"
   },
   "outputs": [
    {
     "data": {
      "text/plain": [
       "(0.8150002002716068, 250.0)"
      ]
     },
     "execution_count": 32,
     "metadata": {},
     "output_type": "execute_result"
    },
    {
     "data": {
      "image/png": "[encoded data removed]",
      "text/plain": [
       "<Figure size 432x288 with 1 Axes>"
      ]
     },
     "metadata": {
      "needs_background": "light"
     },
     "output_type": "display_data"
    }
   ],
   "source": [
    "#@test {\"skip\": true}\n",
    "\n",
    "iterations = range(0, num_iterations + 1, eval_interval)\n",
    "plt.plot(iterations, returns)\n",
    "plt.ylabel('Average Return')\n",
    "plt.xlabel('Iterations')\n",
    "plt.ylim(top=250)"
   ]
  },
  {
   "cell_type": "markdown",
   "metadata": {
    "id": "M7-XpPP99Cy7"
   },
   "source": [
    "### Videos"
   ]
  },
  {
   "cell_type": "markdown",
   "metadata": {
    "id": "9pGfGxSH32gn"
   },
   "source": [
    "Charts are nice. But more exciting is seeing an agent actually performing a task in an environment. \n",
    "\n",
    "First, create a function to embed videos in the notebook."
   ]
  },
  {
   "cell_type": "code",
   "execution_count": 33,
   "metadata": {
    "execution": {
     "iopub.execute_input": "2021-09-29T12:23:32.434701Z",
     "iopub.status.busy": "2021-09-29T12:23:32.433890Z",
     "iopub.status.idle": "2021-09-29T12:23:32.436117Z",
     "shell.execute_reply": "2021-09-29T12:23:32.436506Z"
    },
    "id": "ULaGr8pvOKbl"
   },
   "outputs": [],
   "source": [
    "def embed_mp4(filename):\n",
    "  \"\"\"Embeds an mp4 file in the notebook.\"\"\"\n",
    "  video = open(filename,'rb').read()\n",
    "  b64 = base64.b64encode(video)\n",
    "  tag = '''\n",
    "  <video width=\"640\" height=\"480\" controls>\n",
    "    <source src=\"data:video/mp4;base64,{0}\" type=\"video/mp4\">\n",
    "  Your browser does not support the video tag.\n",
    "  </video>'''.format(b64.decode())\n",
    "\n",
    "  return IPython.display.HTML(tag)"
   ]
  },
  {
   "cell_type": "markdown",
   "metadata": {
    "id": "9c_PH-pX4Pr5"
   },
   "source": [
    "Now iterate through a few episodes of the Cartpole game with the agent. The underlying Python environment (the one \"inside\" the TensorFlow environment wrapper) provides a `render()` method, which outputs an image of the environment state. These can be collected into a video."
   ]
  },
  {
   "cell_type": "code",
   "execution_count": 38,
   "metadata": {
    "execution": {
     "iopub.execute_input": "2021-09-29T12:23:32.443717Z",
     "iopub.status.busy": "2021-09-29T12:23:32.443004Z",
     "iopub.status.idle": "2021-09-29T12:23:47.319237Z",
     "shell.execute_reply": "2021-09-29T12:23:47.319732Z"
    },
    "id": "owOVWB158NlF"
   },
   "outputs": [
    {
     "name": "stderr",
     "output_type": "stream",
     "text": [
      "WARNING:root:IMAGEIO FFMPEG_WRITER WARNING: input image is not divisible by macro_block_size=16, resizing from (400, 600) to (400, 608) to ensure video compatibility with most codecs and players. To prevent resizing, make your input image divisible by the macro_block_size or set the macro_block_size to None (risking incompatibility). You may also see a FFMPEG warning concerning speedloss due to data not being aligned.\n"
     ]
    },
    {
     "data": {
      "text/html": [
       "\n",
       "  <video width=\"640\" height=\"480\" controls>\n",
       "    <source src=\"data:video/mp4;base64,AAAAIGZ0eXBpc29tAAACAGlzb21pc28yYXZjMW1wNDEAAAAIZnJlZQAAtrttZGF0AAACoQYF//+d3EXpvebZSLeWLNgg2SPu73gyNjQgLSBjb3JlIDE1NyAtIEguMjY0L01QRUctNCBBVkMgY29kZWMgLSBDb3B5bGVmdCAyMDAzLTIwMTggLSBodHRwOi8vd3d3LnZpZGVvbGFuLm9yZy94MjY0Lmh0bWwgLSBvcHRpb25zOiBjYWJhYz0xIHJlZj0zIGRlYmxvY2s9MTowOjAgYW5hbHlzZT0weDM6MHgxMTMgbWU9aGV4IHN1Ym1lPTcgcHN5PTEgcHN5X3JkPTEuMDA6MC4wMCBtaXhlZF9yZWY9MSBtZV9yYW5nZT0xNiBjaHJvbWFfbWU9MSB0cmVsbGlzPTEgOHg4ZGN0PTEgY3FtPTAgZGVhZHpvbmU9MjEsMTEgZmFzdF9wc2tpcD0xIGNocm9tYV9xcF9vZmZzZXQ9LTIgdGhyZWFkcz0xMiBsb29rYWhlYWRfdGhyZWFkcz0yIHNsaWNlZF90aHJlYWRzPTAgbnI9MCBkZWNpbWF0ZT0xIGludGVybGFjZWQ9MCBibHVyYXlfY29tcGF0PTAgY29uc3RyYWluZWRfaW50cmE9MCBiZnJhbWVzPTMgYl9weXJhbWlkPTIgYl9hZGFwdD0xIGJfYmlhcz0wIGRpcmVjdD0xIHdlaWdodGI9MSBvcGVuX2dvcD0wIHdlaWdodHA9MiBrZXlpbnQ9MjUwIGtleWludF9taW49MjUgc2NlbmVjdXQ9NDAgaW50cmFfcmVmcmVzaD0wIHJjX2xvb2thaGVhZD00MCByYz1jcmYgbWJ0cmVlPTEgY3JmPTI1LjAgcWNvbXA9MC42MCBxcG1pbj0wIHFwbWF4PTY5IHFwc3RlcD00IGlwX3JhdGlvPTEuNDAgYXE9MToxLjAwAIAAAAIxZYiEAC///vWxfApqyfOKDOgyLuGXJMmutiLibQDAACVAAAADAABLJlCWzIByZd0AAAMATIAOKH0GUHmImKsVAlgwUr7wM1EpujAvwOgD17WqhHaZlHAA7aILVjIgobAW3njXJ1YvAzs+yRoymK0jXSngYIsoCO7/ztS3ac/zfzVd1mMdL2G/n84Nxm9QGHr4i/hvh/1m664dO4PfftVsYYuD9mYon3ICQ3vZ6evLrH68BMed91QdWXxrjc++QRM9A9liirfR9VXxXjhMVAABvus+NAT1eRybGxQf4nrXzdX/CZ1qAA51nYoLFr/OwJAgxYhAzp1q/1kwRWWB1E6c+Nd1lS+88VAUB/DaWkUrRtyzmAIc0L5Hs77zJ1EvG4UDCw+U7/Mz7XYq7uTh7Lu6xf95cH/aD0FvQ3KY1CWreWF8/XwI6WHegXnftLZ81CKiqYavZQI5RHAMzHbHqHxTVP83vyGGFp2hMADQ29OyoeILFRiFa29ZDvC40K2SpM0bIc0VYIraM0eL/n6Da5DmskrlEPxfAqiCLcN1BjROSgIZ/tpKp5OkSXolFIEujZeVOxjRfsS7gsRZr+lXZ1h8NHpbiQemhl6ayS104CaHxOZq7e0N6/d/s5SrJ+pLmqsj71WD/Jc28L+F4AAAEFt0Uq17T/a7tbiPHmHLTib+mxF4NuYx7++qFlewkc0OJz63ICSMfGyrc7CBMG9FfvgKEiBtQgToxAygAAADAAADAEBBAAAAYEGaJGxC//3xAAADAp9cSXqBe6QAla8EuNPfCjW6IcAEhmTyWnCM9dm0frd1wEsIXdGpZJJfxPXOBMLdxnLlSWQm6uHAyJnHc659wXO8uEBdtrrCod5S7dVXAhe0RDsuGAAAADBBnkJ4hX8AABa+S7BD+L8BUlj/3mDvGnTZRqyAiLh/gJlN0QEie6SZhG7QZkjlg48AAAATAZ5hdEJ/AAANLxtswu87PPJNOwAAADUBnmNqQn8AACO/BCTGdrIqYAFvHxlenHzm/xRonBM8HHnuesmckbsNU9xWBpC7uNdQcOnTbQAAAFhBmmhJqEFomUwIZ//+OEAAAGT+5wgBbFnv82FQH12Wbi0WZX0V7wcyxsABr8dpKXz62mxKRTIa2wk/swFP6J38UGamAQ0xu8QDYgQlJKrPzTZxdR8+rR/nAAAAM0GehkURLCv/AAADAzhLqbtvHLxpLcBFgI6XrbXPyfThSUCdOX5D5o9aD/BNVAAvSqoE3QAAABwBnqV0Qn8AAAUcUmmwhTl5FIE01NGWnmW1RmNtAAAAHAGep2pCfwAAAwHbgBL44Gm4rXVClwk7Zlbg5IAAAABbQZqsSahBbJlMCF///fEAAAMA9/JYADeYrJohR5aq2MrpWe6e53VBR/mnLW86pIVBYd2oS2orxW+7Nt8r9KaezKzyGGj53llVl4gghGVN/PtVYXsuvI6E4fMMgAAAAC1BnspFFSwr/wAAAwM5Mc2YVI2vjFzGMcqGOGE92OmyNtQAAAMAAAMBnuOEJuEAAAAOAZ7pdEJ/AAADAAADAakAAAAbAZ7rakJ/AAAFHzTVsZMLz+vAFQ1fzZBFsO3AAAAAeUGa8EmoQWyZTAhf//3xAAADAPjx3kgEfejno/v+Bo/PzcTID8bfh/d9/CTsmvBWzxhPSfUgMZeA2RPQ27zTYM+KZ5qJlijt6ihSVbfVHRxPYkOS/F7pmgQPncyiwDq+x467HeTioJLWjOYkk87cMhfr69U3pFTt7yUAAAAyQZ8ORRUsK/8AAAMDL+44WwbpoXyPakYATlFCxPA8XEMhNa8n+KYAAAMAAAMAFX0qhJ0AAAAOAZ8tdEJ/AAADAAADAakAAAAcAZ8vakJ/AAAFHzCWe4ktM2H73BirgZcllnQgIAAAAHlBmzRJqEFsmUwIX//98QAAAwD4caoBX8zwA1GFcYEKIoODbhcVfItLAPhX8V0dvdyyZRoKANAmLVcP1gAxUfWGhdwPpB6MEeAs96TyDg51/hKarpP98rXcr/j2VDSL8YpmrwRPT5eZ2Jrn2ZYvnXTEljdHK9+Rgj5+AAAAK0GfUkUVLCv/AAADAzkweev7K+MlPmm0/kQ6K09jea0eOAAAAwAACALwhH0AAAAOAZ9xdEJ/AAADAAADAakAAAAoAZ9zakJ/AAAjrjEv0u6WPIu/T8ZzNkLk97me0DmCiNH8DM2OGLDZgAAAAGZBm3hJqEFsmUwIZ//+OEAAAGbgy82S06eKYADKFeOnvYci1io/P1tuzLWvS1H+WT6K0xZhZM9ehQYpzfeK+An8x2+amOhu4ogGiKj2a7btBCrcNu2x6w3zAd2cP/+yljmuDvLCW9EAAAArQZ+WRRUsK/8AAAgvKFt6ajIl2AyBHBWWQSV1hLFbw0DAAAADAAANSRVBSQAAABABn7V0Qn8AAAMAAX3CfiaBAAAAHQGft2pCfwAADTSfl81B953uefGB71iAZ/DWIgtxAAAAJ0GbvEmoQWyZTAhf//3xAAADAAUc2J9zPQ1I8gBg0fctX9A/0+jFywAAACBBn9pFFSwr/wAAAwAA7e5tCQZ1CCICQYgAABUepljegQAAABIBn/l0Qn8AAAMARVh5Q3b8qYAAAAAQAZ/7akJ/AAADAAF+k8MDgQAAAFpBm+BJqEFsmUwIV//94QAAAwGRZB/BhX1Ln2eqLeZiDSqUzyCQVB07oUWI3qjIvpMc9e8Ac7yMDjdB5TcD7OHoaObVwaNs2JfZEJuxWKVeXEdMwvDlJGp7Gj8AAAArQZ4eRRUsK/8AAAgsDLTdAp6o6m47S8W4R9Wxc0c7aFo0KxyBgAHwEqgaEAAAAB4Bnj10Qn8AAA017zEKPfK1S1wMRqCPAFCLmivM2YAAAAAQAZ4/akJ/AAADAAF+k8MDgQAAAEpBmiRJqEFsmUwIX//98QAAAwBfXlgU4BqSIAji4+7kOMfENe3TeX9pe+OLzZkw9cYsfSM4MGMXB2Ai2ZgJ1kQuWSK0tiABKj61+gAAAClBnkJFFSwr/wAAAwM4TWbwwHNtLXyKbvGkVNqlyGtR7JN7kAGo44Qm4QAAABsBnmF0Qn8AAAUfy+6KCUcDpt2C4hFEWYQEmckAAAAOAZ5jakJ/AAADAAADAakAAABGQZpoSahBbJlMCF///fEAAAMA+AYP6xonyuz6LN0K/veqAzIRD+wGBl7SVToz7WRAAfdZdKa5L7qvJ419/kKZrvyn4Y93sQAAACpBnoZFFSwr/wAAAwM4TWbtatVoCe7pJoEAfdIeAthS91AA41AAx3HCE3EAAAAcAZ6ldEJ/AAAFH8vtE6UpDRMg0+kgIOEqBcaowQAAAA4BnqdqQn8AAAMAAAMBqQAAADtBmqxJqEFsmUwIX//98QAAAwKfBWDgUPAwhDi4vUyZh2LAPJKYdRVHLya1nsAKJPn1osRjp199rSkuDAAAADJBnspFFSwr/wAAFrxDzRyyAySFsrHUgKi7deEhsDkf0MLBxXkJJwHXnfA/qAAdH/CE3QAAABwBnul0Qn8AAAMB5rF/87sXQggOLWeGiUHlM9swAAAALQGe62pCfwAAI7HMA4kN57AS1uWKCH+moH+vvJ6iCAEu+LMuNTKC8rQRlW4oIAAAAERBmvBJqEFsmUwIX//98QAAAwBf/M/B+7l9EOOT78UygXmPYAX7Y38YHyd8jDIAMMnXDo3ZnSYjBSC3JOMI8/xJr3a4yQAAAChBnw5FFSwr/wAAAwE15Oa8L/t1a2G+EEWPH+m7BcgAAAMAABhK8sHNAAAADgGfLXRCfwAAAwAAAwGpAAAAGwGfL2pCfwAABR801bGTC8/rwBUNX82QQ0pjegAAAFRBmzRJqEFsmUwIZ//+OEAAAQz64C7YAL5vu/021GAlo4wTAD6Fg/KkVXQ2lhQFbTx4l9oQEFKj7bniSXX5XbMtCc0b3Gsl8aodF9TqX11aZYVujYgAAAAwQZ9SRRUsK/8AABa8Q823FcysmUk+B0KLtWRGo4IkKi1sYMLAAAADAAADAqZEIGVBAAAAEQGfcXRCfwAAAwABfcRidi3TAAAAIQGfc2pCfwAAI7HMCW+pcRhgX2XnKIHKshoZugfpBFMufAAAAFRBm3hJqEFsmUwIX//98QAAAwKNRT4TXVldAJWM65TSSWHQ+sXKCp6sC20LuOU0bKkUwz8px4TRHSJpfCnuC4hgDmwrxgYLFvdhXtKheeEDn0YWnyEAAAAqQZ+WRRUsK/8AAAMBLeTm0dvLOJIijWpYsgbosfnAAAADAAADAGbXqgc0AAAAEAGftXRCfwAAAwABUBb+PYEAAAAdAZ+3akJ/AAADAduAEyRcR+3HtHYO8IGWvsUFhlEAAAAwQZu8SahBbJlMCGf//jhAAAEM+t34ro2rcW5GV13e9V5if4Dkrxinn6nM3Gj0c9M0AAAAL0Gf2kUVLCv/AAAWtSs3a1r/kQVss2NMcEeVecnVCilQj/aQAAADAAADACQz5YObAAAAGQGf+XRCfwAAI8MXaKmleTxG6ocMxz0lEEAAAAAbAZ/7akJ/AAAE+zTV3tuIaoJIG+jw6CRwkZOTAAAAVkGb4EmoQWyZTAhX//3hAAADAJZ+14AW8FyPRkG5ISuEvUKwsXXg2wMFPcmSO7plwFK22KH91NC/YKeZoPCQJK4++4pJfm+o3wAtT/loviABvZxBV6mBAAAAKEGeHkUVLCv/AAADAzkwebbiuZWWnqKyGq8Jgql9QAAAAwAANQpljpgAAAAOAZ49dEJ/AAADAAADAakAAAAYAZ4/akJ/AAAFHzCWe4ktM2T/P8gRvBz5AAAAOUGaJEmoQWyZTAhf//3xAAADAp8FKhDgCNa2ZDxsDI8NMI2ZnH8UqDec7gyp9ckj5Mm+ZgnnestUEAAAAChBnkJFFSwr/wAAFrUrNzOEI4F9P/ysDt9ttvWkMaSnXn1YAAIMmWJXAAAAGAGeYXRCfwAAI6v4W3gSnWsdGOqcWUZ/jgAAAA4BnmNqQn8AAAMAAAMBqQAAAGRBmmhJqEFsmUwIZ//+OEAAAQzxrHn228Cl6GEbk1HgmKwAtpMK7JmMJ7uDReaVK9do917R/5MEdEoFzpV/TaVhnH0+v/IaA3fljDnISxKDro5Rg3L2jgAm0HRgdJzqsD5pfhRpAAAAM0GehkUVLCv/AAAWsywDnj3tGsO2AX6QxzAuFY0BIZQxpBDl7l0C/4iqbToBWAAiv8IMqQAAAB8BnqV0Qn8AAA1+EvHrROvqEfV59s6OM5muCbWOb/mLAAAAHgGep2pCfwAAI7HMCW+pcE4CHj8fEK4xWAt6vx7+VAAAAB9BmqxJqEFsmUwIX//98QAAAwAj3tYdZNvVbGbiyEXAAAAAHkGeykUVLCv/AAADAADJbtng5Hm+nkfMAAG/rRlrOQAAAA4Bnul0Qn8AAAMAAAMBqQAAAA4BnutqQn8AAAMAAAMBqQAAAIpBmvBJqEFsmUwIZ//+OEAAAQ7++B4R7TlAIImtulC8duzG/T8/Ha2WaabNPNKNwl6Z9cJrDpsMGhXO0jhLRjtxW4MioKzw/HVsSdoNVsoW1/+vK1JL+XxZ1I6YkOJ1a5j3IalxrrlaOUf/lB+25h8YWgsnsPhxRAK8vpM9PFtV5+r8k285/RqceWEAAAAoQZ8ORRUsK/8AABYlWFWKzj/YoRkVhsp8fX4e6oX+V+pCQ9AJUrCB3QAAACQBny10Qn8AACKsOQVsGo+8HaYR+XaqwtXdXa9lAsJNlXQBk48AAAAOAZ8vakJ/AAADAAADAakAAABPQZs0SahBbJlMCE///IQAAAMA3fokiWLDyNXVoAJYp86fvEXFjp5oyNkzZK1+6s4EhEyM/AMs5gtZraTxzjxE9L+E+PMegXbWgegmpo6d8AAAAC5Bn1JFFSwr/wAAAwEtgRSrL0PEc9U/RTB4eKHV8BHN01WKFtYEYEAAC94VQMyBAAAAHQGfcXRCfwAAAwHbsbDxjZCJFRa8xzKTq3oRs/PgAAAAEAGfc2pCfwAAAwCxZqFAj4AAAAAzQZt1SahBbJlMCGf//jhAAAEE+vhkBM2gG4z0q66gA6zb3ssPqAUBBs4ewUCpIcQAsWCBAAAAHUGbmUnhClJlMCF//fEAAAMA7Rb2cZ9YyUgaFBxAAAAAPEGft0U0TCv/AAAH8AaE/Q+GuUADimuvIMqhwds7aDEQOwCzOKp/vQ+hm8MZ846cldIOI7E3gAD68hCbgQAAAB4Bn9Z0Qn8AAAzeEvOLYs0PaASyTyEZJAIGjrPEKcsAAAAcAZ/YakJ/AAADALWmAcX2V7PPS9e8uTLq3FfegAAAAExBm91JqEFomUwIZ//+OEAAAQT65bkqUAATVhdxVx4Iq4i8jeMaTm8L+VTcr+5dzRnXAFfu9yTELYpV3XwiktKwsIwjJDnLGgeo4rIdAAAAMkGf+0URLCv/AAAWJVhVL1x98zyDFzZVbOm1KIwS9+UB/JeEHJOqVuAAAAMAABi8qhKwAAAAFQGeGnRCfwAAIsM+DnjYT0KUyHnDGwAAAB4BnhxqQn8AAAT5Pl7J5upLYIC2S5QMv8PVER583oEAAAByQZoBSahBbJlMCFf//eEAAAMAN0OSJtrN8/Jum7I8lYBd37bVnfLcfsTXoh39t1mJwKKWst+k5hPU5RAMHVoSVJjX1sn28uIYO5hnCABPU2liSgS1EHyxhirYPEo12nRVTNwTF7rLBMA8RnSlhcNoYq9aAAAAMkGeP0UVLCv/AAADASYqBRvIoYlGKV1k2ty33f9BE1kQOeE1+qTOAAADAAADAAR84Q6oAAAAFwGeXnRCfwAAAwHPih5kub7mo1r3Q1WxAAAAGwGeQGpCfwAAAwHVOWeV1GgaeDI1kgq39cduLAAAADtBmkVJqEFsmUwIZ//+OEAAAQT68oAI4JHlEal1eNGKkU2u5cV2Wo4Okn45t8RJMQ5JVNJtoLaFGLRJwQAAADNBnmNFFSwr/wAAFiVYVS9dQH39fgdAH22zJVz7CCu07y2HbqFodg7ZYAAAAwAAFpyqErAAAAAeAZ6CdEJ/AAAirDkFiGMQNzpLo5BZ1Rx6AE0SFbHxAAAAGwGehGpCfwAABPk+YOJnG7Z8vFjIscAkAc0hsQAAAFRBmolJqEFsmUwIX//98QAAAwBdGY+cOFce3ec+yWxZOukItzOucQKKJrGEBehIqDZO1MBOFi3B4VeJ41DdNjGOE5SkCJtJMS+seiqxXOQqnIMz2U0AAAAtQZ6nRRUsK/8AAAMBLeQ8224CIOSHQSIgGvQqI1Mm9nD7arAAAAMAAVcSqMWBAAAAEAGexnRCfwAAAwAZHCfYnYAAAAAaAZ7IakJ/AAAE+TAOG5Qa4uPtASM0pSrOHgsAAABjQZrNSahBbJlMCF///fEAAAMCjDnXtpLAe7+M/YZ7qF8b2iW11OE26xXro/G9Zyenaqtndq8cSZkGjBbHkcw2BVK5SAEh4tzyrxe16t4w3x3WmBG/ORANvnd+l0wtZxUKuYIlAAAANEGe60UVLCv/AAAWJSs3M4QyYfz2xrs7jcd3DeD5dHpMCENqGYrvfjVmwAAAAwAAGq3wjAgAAAAYAZ8KdEJ/AAAiwxdir13iGP2LldOh5Qh4AAAALwGfDGpCfwAADOSenzGlTaFQNPP4/WHl6/cLoWCHuHgBBMM86vtMMOLSmdXkfsLBAAAASEGbEUmoQWyZTAhf//3xAAADAo+zvDl8RmQ8NZ4LG1oYG5gMp6w1ZHGj96aq7EX3jrSIA+G/Nj2MWHxmWM9yfM73TUNAH8ck0QAAAC1Bny9FFSwr/wAAFixDzbfUfJr7MqfCAgOx+Egt0cL0+GyePmAAAAMAGrUITcEAAAAcAZ9OdEJ/AAAM3hXCh586Fgbosq36JMUrEwuCwAAAABgBn1BqQn8AACK/BCcSyWmauFZrKTQnqCAAAABAQZtVSahBbJlMCF///fEAAAMADSx4YOAaxxpxSouSBlrl2ZgjGUTQXP/TeVl4DRRp91OAm9gE1sephu+DPFgAsQAAAC1Bn3NFFSwr/wAAB9wBC037eGcYQ18VkgjXLMPEgWK3nVHpsHxRLd7MY16oRcAAAAAbAZ+SdEJ/AAAE+Ft5kk93KSSJuDEiiuOfyCY2AAAAEAGflGpCfwAABPs01bqAUkEAAAAmQZuZSahBbJlMCF///fEAAAMCjrUCU98QmeVoX/gPGv9VwObQvYAAAAAoQZ+3RRUsK/8AABYlKzczhCQNqFEMO6gY5dzG0wsJI9gAAAMArJ4StwAAABoBn9Z0Qn8AACLDF2hVEPtA/kkNYFz2Wx3DLwAAABMBn9hqQn8AAAzknkeQtGa5GIOAAAAATkGb3UmoQWyZTAhX//3hAAADAJN7FTHRIgeX9DJp79FOw/BpdAewABRJJ1j/Uzbr+9vH6+bYW2KydaLSgtBDBvC13z8N9xO971zPXiHCYQAAAChBn/tFFSwr/wAAB/NyFplSmLQmBc+Os+gcNRGmbZFZR+P2giePCMCAAAAAHAGeGnRCfwAADN4VwoefOZGrBdkgB8fY+QsG3oEAAAAPAZ4cakJ/AAAM5J4UAHpBAAAAW0GaAUmoQWyZTAhn//44QAABBZSbf9ugpfd6TBekXCPV6T2t0RhJFND86mb/VPjRCffqkifyAFBldbYmBQo+H9OozrmzVIoMGRzQ/L9DgVmTj/9/tCOFY4y5DIAAAAAnQZ4/RRUsK/8AABYlKzdrWl64ooPCMLA53Mel2kxD4RAYNpfYsIdUAAAAIgGeXnRCfwAAIsMXaLI6XT1H0Q8vY/97//xqsz8z09YQZ6cAAAAOAZ5AakJ/AAADAAADAakAAABCQZpFSahBbJlMCFf//eEAAAMANd+STGLCiJ+uCnq4SaFfEYDwCX7bP+EHnvxQNNT7+2yAQZhvarB6yGzhqsAR3aihAAAAKkGeY0UVLCv/AAADAG6mQtvTUZFGCwMeMpynUIHxIwAAAwAAAwAJklUYsAAAAC4BnoJ0Qn8AAATXoIMCuSngAXPWApdwILvGOJmLB1wCMhFYeO7kL7OBbXeOQ35hAAAAGgGehGpCfwAABNUbtnBSqyw6xXkG1VMX6oELAAAAOEGaiUmoQWyZTAhn//44QAABBPrgn68CNuxyE4V/3372JCKXhD7DYvdiQRo08juWXmPVqoQWLCt7AAAAMEGep0UVLCv/AAAWJSs3a2EpIb7txjbseouFTnYAJZXtaCMq0SAsAAADAAAKgGWJWQAAAB8BnsZ0Qn8AACKr+Ft4EjQkK/jTjLb5A5vexh4N7+J8AAAAGgGeyGpCfwAABPk+XsnlN00373y2Nl4+wq4IAAAAP0GazUmoQWyZTAhX//3hAAADABUTQv3Kozrt36coh642Er6mWDZsBANWTINRvWnwCF/eXfI/Tc7sG5vm+Jx5oQAAACpBnutFFSwr/wAAAwElMt0xwgReNQgCYEQL8iqhJo6XEDIAAAMAAhAsIdUAAAASAZ8KdEJ/AAADAc+KRVVGsIGAAAAAGwGfDGpCfwAABNUbtmve1pvR5F/yanXZxWDpgQAAACNBmxFJqEFsmUwIX//98QAAAwKNBR02S0J2cU4KgByKyl4CkwAAADhBny9FFSwr/wAAFiUrN2tVvyO1CIXZpUJACs4YdxZTsTeer5Ml5SgR1Xho12foAAADAAE78qh0wQAAAB4Bn050Qn8AACKr+Ft4Ep1mFk+rVHLK24jUsWrjcEAAAAAZAZ9QakJ/AAAE+T5g4G3b8T8RGfkotHMeCAAAAFtBm1VJqEFsmUwIZ//+OEAAAQVPL93TA68VYUct07W1MSdA/LoILACy2GFp1eANo/lnVjKL0FXaLV304zG4ulmO3XkUo4gRL/qyP7JKztp9UaNZ/vXNygO+Aw8zAAAALkGfc0UVLCv/AAAWJSs3a3GHHVsr6RXXricK6TLBE9xDpRaDOupPGdgAAEtMsdMAAAAaAZ+SdEJ/AAAiwxdoqaVT2lIsk0mZUopcjegAAAAbAZ+UakJ/AAADAdXxwR4EJNWj3V/2Vj1hU7ehAAAAH0GbmUmoQWyZTAhX//3hAAADAABpoHWa9+ACRNoZEYsAAAAdQZ+3RRUsK/8AAAMAAL9u2eDkeb6eR8wA+TUqqGEAAAAOAZ/WdEJ/AAADAAADAakAAAArAZ/YakJ/AAAM3Mhre9hogETm95qXO8d4bcUS4AHvXS6PSBt2NjnmYb/h4AAAAG9Bm91JqEFsmUwIX//98QAAAwKNARC8DJ2bpbhWcfKd2yhXZzZo3jGqAjzUWTza/YfPX4DUBk2j7MXkPw2o6Co97+M9w/qoJQE+lpKFCYZGOshxGov6QQmnUTeEOVc/B4vWGMt4NuTFId4LMw7s2AUAAAAnQZ/7RRUsK/8AABYlKzdrWl64ooPCMLA53Mel2kxD4RAYNpfYsIdUAAAAIgGeGnRCfwAAIsMXYq5rCxJyuhFdbzLRtizDi1dLlUGMqp8AAAAOAZ4cakJ/AAADAAADAakAAAAwQZoBSahBbJlMCF///fEAAAMCjQUaPa8R6PFfUuf1On3oyoigGiJ/BOzUcoiGmHXAAAAAI0GeP0UVLCv/AAAWLEPNtxXMrJlJRL0aotgAAAMAAA/oyzFgAAAADgGeXnRCfwAAAwAAAwGpAAAAFwGeQGpCfwAAIr8EJxLJaZq4VnUpQJruAAAAN0GaRUmoQWyZTAhf//3xAAADAFz3waR3cWItAALFiHcAq6owYyvtYbrXHHGxHBT1n0MuKdRQ+u8AAAAqQZ5jRRUsK/8AAAMDB+5BBH4gqm2znc1tMYcNlR2AHTtY9K4h9A0G+EYEAAAAGwGegnRCfwAABPoyvXKMtSz3JJJlrhascbr9vQAAABABnoRqQn8AAATX41nUwCphAAAAOkGaiUmoQWyZTAhn//44QAABBPrygAz/NS4QiKcuJmpex0bfJZCyAwLMO0qErdmk0s9n1pGHewI4gS8AAAA2QZ6nRRUsK/8AABYsQ823Fcv6lNDvrgSncfHqUJfoYMAG7hV0XQzKurUSj0466EQAAPAxhDphAAAAGwGexnRCfwAABNWHILXewQQIHgDCqZwX7P5CwAAAABwBnshqQn8AACKxzAlvqW+yT6+nsGE/ppN9r06YAAAAO0GazUmoQWyZTAhf//3xAAADACKmBNJO7o+mlei47X8sCEgh3n5ahFzAJwr8qGk2wv27gNCjR56iWH+BAAAALUGe60UVLCv/AAADAxwinwA4fp10QBJqrgWdyM+Q0tYf4TsDFWnPUAPIxhDpgAAAABoBnwp0Qn8AAAT4W6H3NlZr5A3v8sNQCyjXiwAAAA8BnwxqQn8AAAT7NQoAoIEAAABNQZsRSahBbJlMCF///fEAAAMCjQV5kCynaui+87y+2Ogf5yf+s0nkT3TAzzYCbVoqIYSZINnOt7o/9aaAyccLI9GiaPWUFe6K22ltIsEAAAAqQZ8vRRUsK/8AABYsQ823FhfZHdfR0jRPxb0FbItI6M2AAAADAASyUQXFAAAADwGfTnRCfwAABPhb9gDHgAAAACEBn1BqQn8AACK/BCcSyWzo2C9Tr0v9JihvYCopHnyZkLAAAABRQZtVSahBbJlMCF///fEAAAMCkbq4Bc6Zt9cyw8yxDt48tSbzApN1sfduMOJPDSVLIAW3RsaPBHUwlXSLr2LFthlE0/7A1nFJyzhd38KkWYetAAAAKUGfc0UVLCv/AAAWLEPNtxXMrJlJRGbvYsoulKJCTAAAAwAAAwD0eEOOAAAAEAGfknRCfwAAAwAI6w8UsoAAAAAZAZ+UakJ/AAAivwQnEslpmrhWaymHDF1xwQAAAGNBm5lJqEFsmUwIZ//+OEAAAGRKBJEIa8ev55ctUq/DrDZFv4gbIOiaFIA29qH/T/hvFel7LbEdw1W506vmG1inMuWEwiKWXrWBcDJamft2F+KFh84oZWhtvbrHE+/QqfIaIGAAAAAqQZ+3RRUsK/8AAAMDJTHNmFsGTkvl4LliIPqh03nTtEAAAAMAAb+PCMCBAAAAEAGf1nRCfwAAAwAI6w8UsoEAAAAiAZ/YakJ/AAANM0a1duAXXNNJgV4zuRvGWHMVNuKeCFncqAAAAGRBm91JqEFsmUwIX//98QAAAwAhu8fBpcc+vABaTu36LlaKblI7ur0sfB0VGQCz1OjiK8OPioh2+HDPfm4OXCH9FqgyHwcbYtKW6AfmNk3bDrfgBqDU5cXxO5k+ZPD+NEJV2q9/AAAALEGf+0UVLCv/AAAIMPyIXf/JB2Dx/CnGq2pidLqNmVqh3AAAAwAAAwKcgQj4AAAAEAGeGnRCfwAAAwABUBb+PYEAAAAdAZ4cakJ/AAADAc/NICPA0wkS+MpYUAohIcbfkJkAAABCQZoBSahBbJlMCF///fEAAAMCkcncxakjoIAvcZ4K3/pC9elP9TrhnOxOUvs1DyAF3JtylzuAwEVWd0uPGbCJ7d/gAAAAJUGeP0UVLCv/AAAWJSs3a1peuKKDwi+N7BPwubBlKuiQFw8IwIAAAAAdAZ5edEJ/AAAiwxdh4xUdrC1Kuf/JdpGvjKIwkLEAAAAOAZ5AakJ/AAADAAADAakAAAA0QZpFSahBbJlMCF///fEAAAMCe+35hQ13jHV9bBM8sLdyV8Mxpy2L5E8BwjhAFqzEP91AwQAAACVBnmNFFSwr/wAAFZxObMLYSwtL6IUJL/cR1AAAAwAAAwCtlUOmAAAADgGegnRCfwAAAwAAAwGpAAAAFAGehGpCfwAAIb8aznveCbZk+EzBAAAA6EGaiUmoQWyZTAhX//3hAAAEG4agLwJvdSTUZz7xv6r8dxC/OHg94gzVc8Y3HWn0nF82UswPmL10PfSBkHQ6QHtSLxf79TOlfBm8OqBOlANZDBgbahxK+Mjawrr0SA15q1TZlnOM67nEnrV6eCr1/NrNbubpe0mjl+Ieml9Uz0Nm+UL/IWcZFw7LNU+jDLxFVFbW3GxhvgZtlwj6bySh9BpqNKslW+ZhIz5NIU42mNSRe2dcEqprjn1Skwgtjk6Zz/8S3iz8riYmRYM/tUG9lD4dLw5wottBh/F41FroPGG6n61kQpr6josAAABAQZ6nRRUsK/8AABa8Q8CyZ/HMYxDOXaN/MrKFkxZgA1ZgsbZP2w1Ep/pmGDIwNTqCi8+lyVaAAAADAABMQmEOmQAAABoBnsZ0Qn8AAATVhyC1yePwEwjhEIOHAn1fqQAAAB8BnshqQn8AACO/BAb9NGQpgmUbm6syDig+gny26J/HAAAAlUGazUmoQWyZTAhn//44QAABDPod8I6qtEXKQBpqqaRB1sVunBBojZQ9afQ74i67RWzO8MNVrbrK7Dp1n9qafKvFjIjIH1pOa/BjEi1K+/hUUGqS67AsOVqMre9TZKukangJzfjCBoKQ/O1XPYyXpLW5uF0n8uFcgmUMclZqDAEmlQB6F059c0hALWId1D99k7Ex2lARAAAARUGe60UVLCv/AAAWtSs0PVQPRS+yFIhjzim2sU7YmnMF+dFD9oABtnDziFXJPT2jI/8HcokcIdu9HyjH4AAAAwD5RVQk4AAAAB0Bnwp0Qn8AACPDF2ippSh+4YCZvdR8aStyiOQNmAAAABsBnwxqQn8AAAUfMJdxUvTkfjTIQOQuUjSfAgMAAAAcQZsRSahBbJlMCF///fEAAAMAIZx4QJi5sYCigQAAAB1Bny9FFSwr/wAAAwAAv27Z4OR5vp5HzAD5NSqoYQAAAA4Bn050Qn8AAAMAAAMBqQAAAA4Bn1BqQn8AAAMAAAMBqQAAAGRBm1VJqEFsmUwIX//98QAAAwD5eZ+D+AQBCX054LDxWgPvavRmlu7BkvwGmKqBZ/vWFyyeP7zSMfUFqenjnAYRdGTL2W/E1sjifq+5Sug8gP3nl+FalFDOUHhS0S94HFJYDoZpAAAALEGfc0UVLCv/AAADAy/uM5bRKLIbOv7UYuZnDh1yGq4tK1vH6UGmQBFPyxFwAAAAGwGfknRCfwAABR/QwQESidEn2gKMYVME7xy24AAAABABn5RqQn8AAAMAtfDV2BXxAAAARkGbmUmoQWyZTAhf//3xAAADACOovDHytXWFRE0Gzwk2j8APycG08gC9O6AfCAWJJQDJZ3R1WGsrkpZcazSdKom+hk9I/vAAAAArQZ+3RRUsK/8AAAMDObvlBSurj4jU6suoyjXwNO2lKypQAAADAAAqZGWOmQAAABABn9Z0Qn8AAAMAtYt+wK+BAAAAGwGf2GpCfwAAAwHmf9VJfxNx1fZ3GIeGpyY7cAAAADtBm91JqEFsmUwIZ//+OEAAAQzxVOwTAI7KNE4BgN//NQF+0h98DG15XsThCdlR5QmV/vUXe8XvIVzAgQAAAChBn/tFFSwr/wAAFrUrN2tcq9AYzVF05zcJOHv8sxOe4OUAADJnhK2AAAAAOAGeGnRCfwAAI6v4WTRwyMMwAK3pdwaBOB1pn5Tp41f7Ai3pOI12XK8ZE3gNdqo5vDjzR0ra5/jhAAAADgGeHGpCfwAAAwAAAwGpAAAAHUGaAEmoQWyZTAhf//3xAAADAAC1dMPAA0tCjC4gAAAAH0GePkUVLCv/AAADAzm78g3XT2dMJCThLMAArymWs4AAAAAqAZ5fakJ/AAANXtIPyXKRRyRP1JYjlYzHPNhmZJDpUwFoi7S84m3tqIG9AAAAakGaREmoQWyZTAhf//3xAAADAo0FYOAiZaxSF0TZpBSOldNW/cQMWHeLHhMo+Ce8VcqHYM6wkjS6rPtoymwXhMIzCV3mKWiqML1q8tCE4xn4YNv1lyXGvQh7YgxSH/eHbjKfaPhR5Xn03ccAAAAuQZ5iRRUsK/8AABYsULTCE8/yz9b/SmS7VMEFxrJ6vlfjZdCb4iMYeyCJpliVgQAAABsBnoF0Qn8AAA1+EvMljwmSyJhsDQCtGutlIbAAAAAVAZ6DakJ/AAAivxrOe94JtmKtUKSBAAAAgUGaiEmoQWyZTAhf//3xAAADAqP90hHeJAUz23DoYEcAjOHWbHJSYefsuxuQrPwnh3tk3XgOqQUFJ9aMEdcAaTZvxjlE1pLiOLBK6+/9PWh8Lco0LtXIYnw/zUcTerMgiWrH88jDAcyGqR5vrPJfmcHtz06qOOk4cyRfDCyMwvhbLQAAACxBnqZFFSwr/wAAAwEt5ObMLYUnbAlyjsSR4hUhqxd7+kiAAAADAAAXjQITcQAAAA4BnsV0Qn8AAAMAAAMBqQAAABkBnsdqQn8AAAMB2s1GmJneE00BJy4UqCILAAAALEGaykmoQWyZTBRML//98QAAAwKOtQX8/O6YhWaLhFZE1ABnas0viOwp3nF8AAAAIAGe6WpCfwAAIr8aza5IJbSbL46sagk7sAAAAwD5J4U3AAAAQUGa7knhClJlMCF//fEAAAMCjb4NI7uL0qx38DXCKuUBrAhpkAnat/8c2wtFUyXFGEkFFGRdXwzTvGPKuirE76yAAAAAMUGfDEU0TCv/AAAWJVhVixb5rDy6wQA2HJ+FVPWafZh/73k6MN/IoAAAAwAACE5lhcQAAAAWAZ8rdEJ/AAAirDkFrk8fPxWNZwFJuQAAABwBny1qQn8AAAMB2s1GmJneE1uKipURxBBOsihtAAAAMkGbMkmoQWiZTAhf//3xAAADAo0FNJjnPTTzUuvboASXaf/viDcMa97yQKUW1+QV7MrjAAAAJEGfUEURLCv/AAAWLE5swthK/9RgXbC8En9AAAADAAAuKlUs4AAAAA4Bn290Qn8AAAMAAAMBqQAAABYBn3FqQn8AACK/Gs573gmR6C03bI7pAAAAP0GbdkmoQWyZTAhf//3xAAADACKmBNI7uM+0AHzG1AtQPrjtmZ5e8YjlzY2IpF76NBpGEuPkJ+O+y3f36V2aYAAAADtBn5RFFSwr/wAAAwEt5ObAm23aYKm28LNKMKyvDVAA6Q9wGpKQYLcxlQ6WkNmyM3PLiAAAAwALolUJWAAAABwBn7N0Qn8AAAMB2yXwa6+Ke2cXSMGTw+US1BDZAAAAGAGftWpCfwAAAwHazUaYUhrGLFNU/v32YAAAADhBm7lJqEFsmUwIT//8hAAAD3w1+p1dVXQ+hBx73Fi/IfNqE0ciNFkGsSnoCGFr6CPzPFOXELQewQAAAC1Bn9dFFSwn/wAAIr8azlhsF3et12avfmcFLqANoke7YeFbAAADAAADAncZYlcAAAAkAZ/4akJ/AAAisisIlJPKK6CoJOh4BMMG8QeNoNK9d4nfWN6AAAACAmWIggAN//72rvzLK0cLlS4dWXuzUfLoSXL9iDB9aAAApSFAAAADAjsutjQO/xCKPgAAAwFjADkB4hihgCJirFQJU4QFm8HglSMIbce6bOPIH4aFYUpWnu2OeEC7sm+cNyRGOi23TG1vg90dpnVeAoQT63G2vuFmWh1TZwVpjs/ykFF0OfiaLlINL45z4CDoRCte7pbsUs+vwkduENFhmXu5RkFQWqrtl3fwXBbGUI2CMszh/4J66PoifzDLYakeKOlBcf+L9smZW/00focSkeW+J+/gHKxmA0hGNkQCC9t9B5e/3jnIcGPA60RzQUEh6Loa+c87A7Al5TyuUl50mH5WmSmxV/ak1E7OfC+fgxYpa5N5/2O0uy7TYfwIno8wWiwna+S0u/QvduPZ6aYVZlZyg5Lu97WkOO5F/94VJPrnO1f7V0pESUxoFs6yyDhWDca/uHLwy1tYWJOVktQWRa2rMYT6+Ob2bjr0QUQWuJqtyWE7ZEPxs9BXRPUY6wxLiQ5yj/5cYIVnwF9ab9v3BWuJ/J3/xvNvz0fHozaQvkxNNpKfAY+Ars5uwD0XCnH8iZx8iT0PeDOHV043GvbblawV83708V9zsufylf0t0z/QaCdtbJxIDpf9YLMMNgl7nJJpVlvCEx7iG+0pbAABVUAALajwAKUAAAMAAAMAAAMAsIEAAABpQZokbEL//fEAAAMCjVxJhxUN3etQbG/NhxhADZHDN+yvCRSsdeuGQazzLebvJmpOfgQt5axBTM591pGrH2ovz/bB1MZwDfnb2GM8PLOcGvsIquCbvAN2XDKiroth9ahEMqpFHypSkq/gAAAALkGeQniFfwAAFi5LsEJyLJdmMJQw2Zcf3Z6lJbqQInmL12AhYkThyKm/3+J3BvUAAAAbAZ5hdEJ/AAADAdqKHmSx9rxZRR3UpFA7gtxZAAAAGAGeY2pCfwAAIr8EJxLJaZq4VlMfKdeQcAAAAEFBmmhJqEFomUwIV//94QAAAwA3L+DiRtdvYqSnJj4xQaHrAR9UMBDoYtdD6DnLx77GePI56QVhT47ogTM7bqIlgAAAACNBnoZFESwr/wAAAwEt5OawNlucKTtklJHJTmMhe0K9JWxeVQAAAA4BnqV0Qn8AAAMAAAMBqQAAABwBnqdqQn8AAAMB2s1EkOjblKf7sa1r8T8nuoLBAAAAK0GarEmoQWyZTAhf//3xAAADAo0FHTZLQnZ42Ym1Z6hIYJq6Pf4Ux0wo358AAAAcQZ7KRRUsK/8AABYlKzdrl/HK1I2dWG01yZixoQAAABoBnul0Qn8AACLDF2ipnfHKBexQA6so05PUEQAAAA4BnutqQn8AAAMAAAMBqQAAAEtBmvBJqEFsmUwIX//98QAAAwKN7ff+KyHcDP+LNBqv63oSsRjW13Xj2A3W1Jim4OETYiGiaVVf4UXhhYTi7WrcOpM9/v1jnw8gHrEAAAA8QZ8ORRUsK/8AABYlKzdrl+Uf9C5MojtMximnF7q7E9mMjLt8hZCdgADs9OgvvbP90tO13INEB8W3cjzYAAAAIgGfLXRCfwAAIsMXaKmd8cnverfFffrLcGgAAMlvQuuALb0AAAAXAZ8vakJ/AAADAdrJUYblBri49M1apIEAAABVQZs0SahBbJlMCFf//eEAAAMD93ZMJ8d0TOS8JAAtmsTypEGZYL9sqOpYJXycKGzTiVBrO7h9Zibz9lvFR22IX7AwbjC65JihvMJLNCsPR9Oq7Rr8gAAAABpBn1JFFSwr/wAAFiUrN2taYHhIEj5/mcKR0wAAABcBn3F0Qn8AACLDF2ippVPU+8IJjmwLuQAAACQBn3NqQn8AAAMACfFWEFk43rl7ypzAAsSXabH5raS2gXNPpJsAAAA9QZt4SahBbJlMCF///fEAAAMCje33/irtBemNGllyT1QTtAPvTcK7YMRHLENyzUFJwFWctvx1mf+UXTcTYQAAACFBn5ZFFSwr/wAAFiUrN2uX5krUjZ14aE0XmLsGoeNapNgAAAAnAZ+1dEJ/AAAiwxdir12cCpEgGNjit4io8+QABXucePiyZzzJNJ0wAAAADgGft2pCfwAAAwAAAwGpAAAAfkGbvEmoQWyZTAhX//3hAAADA/aD+0FcQ3ZGshgIMiX+FSU/+nt7cAQdHRVzzdu9PpcCu2KagYUlme93uJ+lahUSEOWmLm7dfd/1fAsTSKo6ynJ9Z3Dx6ltnaoX+HdYIlr2tiR8UUj7zufPzZiJw6SR97Bxuosr52ARM075NMAAAACRBn9pFFSwr/wAAFiUrN2taXriihebDcmxOlqeDoKmTMsSak2AAAAAYAZ/5dEJ/AAAiwxdoqaVT1PvIlcGoxRTtAAAAIwGf+2pCfwAABPxtxuF6r4IqsqtOZFQEqE5gmHIcW5cWCAXBAAAAUEGb4EmoQWyZTAhf//3xAAADAo3t9/4rIdwOsnQhYLaLPLL0gAOEbN1JaulMf/23t5U/eF6EcMuC/kgDvsplN3oq0LzHxFptRT5gpTMezLWBAAAAMUGeHkUVLCv/AAAWJSs3a1L0RJS6DFvYz2E4oSAFfj+2ePn3Ay4/Yp1m+eYlTvFlFQcAAAAoAZ49dEJ/AAAiq/hZNHDIXL9bM1eO4vbZ/vjJj5rQ8BkEgWH3EAgLegAAAB0Bnj9qQn8AAAT7MJZ7iS01q5Pl//0Bt2FSyCufKQAAAH1BmiRJqEFsmUwIX//98QAAAwKNAK1qL4FRs7UTANZxIWdD4VDUw0RPOqx4QVaoALJTuOT6uevveJT3t688i8NlGyQFeHt+iek6ZcCFes87w549mDfZlKSu3JRaWT88EcVckNkTbyL6lpEwO4XCaXQZZX4tU0EaLD6CIOaMWAAAACNBnkJFFSwr/wAAFixDzLs/690erFpFHWFl4GkT1lPxNyqHTQAAAB0BnmF0Qn8AAAMB20D4d/ArWACvDreu/aVIP/yQ+QAAABwBnmNqQn8AACKxzA923L/LqodaUb7A6ZdHy+IWAAAASEGaaEmoQWyZTAhX//3hAAADA/ZEcH4XAwKAvneUBjYXPBtgkBuSa8okz/RlLlHCh+/4e1ZhjDNUjbbWBU7/5TFVSIIFw+WpgAAAAB1BnoZFFSwr/wAAFiUrN2taXriig8IwsDncx5qHTQAAAB0BnqV0Qn8AACLDF2KvXeIY/Y3xIx3b/wnQtH2IWAAAAA4BnqdqQn8AAAMAAAMBqQAAAD9BmqpJqEFsmUwUTCv//eEAAAMD9oP7QVymmWh4EUz0tmzU6KHlOFFoU2th/WUze0AtLsBz2KSzOWcS56yrfagAAAAbAZ7JakJ/AAAiscwJb6lvshVI+/wGKMg+d50xAAAAPEGazUnhClJlMCF//fEAAAMCjbq12w0ufgAAiJT+bjhnQMgLu7nlbhn+U0RmW5cTnTWThZCsQryrZqSKrQAAACJBnutFNEwr/wAAFixDzbcV0TJ7spoJDzo66igorq/g7ZNhAAAAFgGfDGpCfwAAIrHMCW+pb7IVUoWsE3EAAACXQZsRSahBaJlMCF///fEAAAMCkbq4EbEzd+6p2wRTKzUkR5X0dGnd1JAbrG0Ij9M2gBabXYACF8t0RfbtbYzVLgjYW28mZN4frjoeEgQB26egCTWm1MVJNLSpbx8I2dulZM4HoOXiqO3XKfh3BGS5X8NgOiDn8GivqPz7CWu9UMqojyDFdw2TafuceScMwjOIJ1vwuEj8gAAAADdBny9FESwr/wAAFixDzRyyDq/XcAAbqI3LY6pzyxwUvS0SxUvufpTUCqO7LCG1PIsTi+emWlccAAAAHAGfTnRCfwAAAwHPinhOgJGJKHNFeS6d9RiF+OEAAAAoAZ9QakJ/AAAiscwJb6WTQDpGkwo1881mPekyctwVNu5JJFy9ch7jaAAAAEJBm1VJqEFsmUwIV//94QAAAwP7v+pyLGIdLu2JK1wSzYVDnsi9Jthj0GKdqNxwMLa6J5B3bUE/wTkj42dQbZAmpqQAAAA4QZ9zRRUsK/8AABYsQ88cDlLoes/7ABa6oAT1+/3dfBET6CojcnYTVpfMHl4oYhq+qMBCQgu/1IEAAAAuAZ+SdEJ/AAAE1YhKhJ/hZKFCGZ5BnuzQPs49/gAP+OZWOM4kJneBzv+vUz6IwQAAABcBn5RqQn8AACKxzAlvqW+zGsBTevSZcQAAAEdBm5lJqEFsmUwIX//98QAAAwJ69+aahTCZSCnPMTYRoVbNqUKj8Hm+AFW9MBvIkhynGn2u9ZzNshojNw8tM8983tPd2wdJdAAAACdBn7dFFSwr/wAAFZMskTOBmPW8YLEUrTMix7/N7BNQ41JL+DGLCpAAAAAYAZ/WdEJ/AAAhrDkEgOhOsZNPkEFpvjuhAAAAIQGf2GpCfwAAIb8aza5IJafYaQSC9e95lqu1yjmTEwdipAAAAHhBm91JqEFsmUwIX//98QAAAwJ7BXmQHdf+KKthZ8ntoMUOJMrgnEg6m01CHgkhftOP5cKrTBA8Z7MYw9YADv7OtYKxydie94oSWmj6GqfPM+SCrEJQgKVoFoJ+11eciqdcAEV7X1sBHG6BX7yxFCVWbpa3O1POktEAAAAqQZ/7RRUsK/8AABWcQ8vR6t1MON2vCxDMjAF1jvpLNwzALETjcIrcx/aBAAAAHQGeGnRCfwAAAwCxC28LCDZJxEbVPDPSxdU6/Y44AAAAGwGeHGpCfwAAIb8EJxhSWhvyvlehz50UhN6ggQAAAGJBmh5JqEFsmUwIX//98QAAAwBa2ZvJmy81tetwpdXOAMa77HW0CoCzUnygdYVrOSrTh1vGA0iEw8esPCWx/ksNtnuk9ziVp1a9uwHivkeK96sJHcfMwscajZ5+t2KAcsFegwAAAEdBmiJJ4QpSZTAhf/3xAAADAnvt9/b1iqSbF4GvFtAEQ1HZU5fNr4adtkXrIOLYmqfHTLwryZn6sUOYoLayw8OKkBqqqAgGoAAAACJBnkBFNEwr/wAAFZxDzRytlbnM4/WxW8E+QRYMVgxuVBFRAAAALgGef3RCfwAADN34+I6c/xqIAGotp5TgoeEGqFg56BVeyrewpTi8q6LJMYws8kAAAAAnAZ5hakJ/AAAhvwQnDBmjTidD0H7BcqXu+hPv96CmeTsx4CqB0aUZAAAARkGaZkmoQWiZTAhf//3xAAADAnsFHT9gaqZVbCzuXxs7+6k4j1tYSU8B28x2ER3TfbfHT44BmvxwsbO24U5ukoDEvj1AVMEAAAAYQZ6ERREsK/8AABWcQ823FcysmUlEuAdUAAAADgGeo3RCfwAAAwAAAwGpAAAAGQGepWpCfwAAIbHMCM48x9MT9eJd7zVUIuEAAABIQZqqSahBbJlMCF///fEAAAMCe7ZFPYgoVj/yoiyqkrFMfPNcAxtXlMgCSIAg6i39CVh2eaSPy/HbMYJsdhYtKF1Hv6r9ejNQAAAAJUGeyEUVLCv/AAAVnEPNtxXMrLEB0n4cY0SIbBnDDg0PYiNDlGEAAAAbAZ7ndEJ/AAADAcSKeE6AkYkoc0V5erqC5sRUAAAAIgGe6WpCfwAAIbHMCW+pb3cJ1JSkBIS6HQtOZKyqkhgpFx0AAABjQZruSahBbJlMCGf//jhAAAD93EejINdBlxkALZ2fOUHxSoPDPbpzf+wtX8sXEJBDSuMiwGJO5buHYkQqRcqSbQdS8+AIuw83ifPiICydW7JWWPExZJLpJ4wsMmE89XlHbFihAAAAIEGfDEUVLCv/AAAVnEPNHLIOsA4cLt0AvheC++8Ch/3RAAAADgGfK3RCfwAAAwAAAwGpAAAAKwGfLWpCfwAAIb8EJxQbIgb0N7QL1YTMyDiOaUsusT4o6vOK/rIYm6+f/rAAAABBQZsySahBbJlMCF///fEAAAMA6PmfhGZ7CnDnEuuTGyAa9q6upnYQWYvNuzV10tkwrHgT9iqkaq4N/S5+Mj96U5AAAAAcQZ9QRRUsK/8AAAMC/bNCQ3JuE5p855qMD6hxwQAAABgBn290Qn8AAAyOE++SrwotTXceNhny5IAAAAAOAZ9xakJ/AAADAAADAakAAABBQZt2SahBbJlMCF///fEAAAMCfKzAsGUgERSAjxqf+Vu2XBCB4cP4HhY1aGBOQn7kE14G7rptzdk26mTfRYO45skAAAAnQZ+URRUsK/8AABWVKzdrWWaIuQFjKRBN935VIyMxOQk2O43VvEVBAAAAFgGfs3RCfwAAIav4W3gSnWgjiCYjA4MAAAAaAZ+1akJ/AAAEt3ZJvasYX0azK7X31bzMiRUAAAAvQZu6SahBbJlMCF///fEAAAMCe+33/ish3A0Aaznt4Ar7YeNnGUnriDZQUHOZ+VMAAAAaQZ/YRRUsK/8AABWVKzdrWl64ooXnJusdvmEAAAAaAZ/3dEJ/AAAhwxdoiygZ9GbOuLJOtmj5uasAAAAOAZ/5akJ/AAADAAADAakAAABMQZv+SahBbJlMCGf//jhAAAD9aUhk0/R96b1boQfd+WLQAC/3BSB1KLv0AwGya0XO1AEPqUmurZ/l1mfGtwnZcHC5cs9s8qjPFR+ZFwAAACZBnhxFFSwr/wAAFZxDzbdrnAiaFMI7+x34LZak6o58vhIXK1HVxwAAABwBnjt0Qn8AAAS1hwZ6lU4vm1LCCXSFmWocCPyjAAAAFwGePWpCfwAAIb8EJxLJaZq4Vnb8sNKTAAAAF0GaIkmoQWyZTAhX//3hAAADAAADADFgAAAAEEGeQEUVLCv/AAADAAADAQcAAAAOAZ5/dEJ/AAADAAADAakAAAAoAZ5hakJ/AAAMjMhretk24mPXrkL36UAJZR2scZG/zZnl/oMORRUbjwAAAG1BmmZJqEFsmUwIX//98QAAAwJ7BZgwDGWmn982VF2uL1LV4MaRQ8JAdV+upkVc+bb29jA5X9m/64IbBOsv88litTJB03Oc7WEyee7yh9rXiOeigFC7XZUhvyZ1vMaNJNoNZungWn+1UtiMJwENAAAAJEGehEUVLCv/AAAVlSs3a1peuKEo1vmZEFbeH+F///T/gj4dgAAAACEBnqN0Qn8AACHDF2iyOl09SANAI3hBL+5GKAi17eNqqkAAAAAQAZ6lakJ/AAADAAE+zUMggQAAAEBBmqpJqEFsmUwIZ//+OEAAAP1pQrubQKPbiCu9PkuiKcKfeHkHJYgYwVBMaD9Oowyf6EdMRdxT9Tg4ttXrNyVkAAAAIkGeyEUVLCv/AAAVnEPNtxXMrJlJ+qJ5j2GACXYraDSlO6EAAAAQAZ7ndEJ/AAADAAE+Fv5HgAAAACMBnulqQn8AACG/BCcMu5SJ6+Blvg2tK/PHd9NdNHl3XCCBFQAAABdBmu5JqEFsmUwIV//94QAAAwAAAwAxYQAAABlBnwxFFSwr/wAAAwBsNmhIbh3ZbPMxt13TAAAAEwGfK3RCfwAAAwCsi28yXKtl9VsAAAAUAZ8takJ/AAADAKzmmrY2mRHtSMAAAABVQZsySahBbJlMCF///fEAAAMCewUOvqeCtaH94U4fAZlTSfFO70WYHIcF0yfW1+vAGdLLIbMRqqzTJWXhZmEjVaaiYY4Ev8foRsF204avuK51BNVHSwAAACZBn1BFFSwr/wAAFZUrKeI+tM36QudLGfzxR6Y1XZPImzxiFGZLswAAACUBn290Qn8AACHDF1KESZA6LeqB9xQOrbkGkpM48zj6l4mEdhqwAAAAEAGfcWpCfwAAAwAIr8b2cEAAAABkQZt2SahBbJlMCGf//jhAAAD9p7sZrQOgNTJn+Rdjf7vnvttU+s92QeQtONfQBy4M8LaoHAhJYSgjsWwtpNqk73GR7u+mTv0e2aOlDGiSbzWqIqvVYyrbEBSfTa3bE+yEIHA2oQAAACZBn5RFFSwr/wAAFZxDzf16A6uyC2yr9BWUS9SBHbu6Yea3eZ7AHwAAABEBn7N0Qn8AAAyOE+8/Ofi8gQAAACIBn7VqQn8AACG/BCcSyXBGVPPWRwFWy6TUCAj1YKeX+xFgAAAAMkGbukmoQWyZTAhf//3xAAADAACxyQRn0Bc7YRyGK0M1obnwG/uY93VGi09s9h/RnhiYAAAAEEGf2EUVLCv/AAADAAADAQcAAAAQAZ/3dEJ/AAADAAE+jWGQQAAAAA8Bn/lqQn8AAAMAAT5PxkEAAABtQZv+SahBbJlMCGf//jhAAAD+8cnd+YTSg2Q6AiXLwtSYPkuy56LZHoZ99AFqC6OWIDnMWVRpJ+xVkWdpZtoozVSLQqR89h5huA8V71ir8F8a9tkzMV7jpRZFu411SVSxA6D1ZYSKzmbmUGV6hQAAACVBnhxFFSwr/wAAFZxDzRyyDrAN7MYfb9wkJo4duTBVDUKvSv0wAAAAKgGeO3RCfwAABLegnSeSxaIUSDSTizS5ogBZnKlxb+Nb+mZgLJn1aExVgQAAACUBnj1qQn8AACG/BCcSyWzoxVIS/aGtP4a/fzOrsT0+HlxJROYfAAAAF0GaIkmoQWyZTAhf//3xAAADAAADAB6QAAAAEkGeQEUVLCv/AAADAADN66cwoQAAAA4Bnn90Qn8AAAMAAAMBqQAAAA4BnmFqQn8AAAMAAAMBqQAAAGhBmmZJqEFsmUwIZ//+OEAAAP7v/NhgkABpF/eLgKHlh6awmPB9woQJ9cgeA8q/Sy7cuOPypFs6RzebZHkbmDxxKtrfnTxXgmxDveqJy6/I5C/RxmojIQFWvXE//A+ZLqVXERNi3tS2bQAAAB5BnoRFFSwr/wAAFZUrN2taXriig8IwsDhJJDgizMAAAAAiAZ6jdEJ/AAAhwxdoqaUv9fPn1RHUCz5R7xxxtWwZHIwBnwAAAA4BnqVqQn8AAAMAAAMBqQAAAE9BmqpJqEFsmUwIX//98QAAAwBYma0kAQO18icOnjuszR6DMPrYlBeNfwOIS9A4fwv49w7QdYQ/0MLGY56FTgaifQD6bs/fqAbhIWyE+kw/AAAAIEGeyEUVLCv/AAADAv0xzZhUjb1ws9c7hXlMR3XLnhM/AAAADgGe53RCfwAAAwAAAwGpAAAAGwGe6WpCfwAAAwHEzUYSeiLzVxcyuLunaOX9wQAAACZBmu5JqEFsmUwIb//+jLAAAEAC9/mg5pCGVtb2RvRniVl9YocBxwAAABdBnwxFFSwr/wAAFQxObMLYSwMzKecFBQAAABABnyt0Qn8AAAMAqAt+wL2BAAAAFQGfLWpCfwAAIL8aznveCZHpDOJRgQAAAExBmzJJqEFsmUwIZ//+OEAAACOnQF3ykXXLfKAFjELUuZAVFvfYHIDS9wEkqHseeyax3VplBWx+56WubxX0YfZ+IXC5/N3XKq58eiXRAAAAH0GfUEUVLCv/AAADAvtMfJgYlxkavJGp0FceCEjggNMAAAAbAZ9vdEJ/AAAEtYcgtX4/nAA0vT+tpP4Mqp0wAAAAEAGfcWpCfwAAAwCoZqFAl4AAAAAXQZt2SahBbJlMCF///fEAAAMAAAMAHpEAAAASQZ+URRUsK/8AAAMAabd+QBLxAAAAEAGfs3RCfwAAAwCoC37AvYEAAAAvAZ+1akJ/AAAMjMhuHiAFbrPfokwoRl6SYKaeJDPVk86CsMI2w0MnUCtT3Rv330wAAAEgQZu6SahBbJlMCFf//eEAAAQbhqBlAMIK/WNe+HGbwLgGkyo+O7OiFga6E08e0o73CdEvvy/4TzA+TA09cDThKLdeV+SMXwcovm0usXll6X6f/0mX7geTDIgLLBzPzqZrmGskhPyO9d9jaR5D3BvXVu51RbBcW9Z81yqCrzY4T5FzsChPnGv53pHIIRsFk31QJ+iiHyvU9Z2iJ5dduwSssGlKf11Z8S+i2jGB818zp92N5mhsAHLkxADJ34LbSLFuBvVO697XlwHfIJz+aeevJvTqfP5Dbqofv9Sv3wrBr4+1QSmxW9dPwRRL2kd8yc64BQ126ZxV8IZpOG1ZAq7J3VBfX93WDP7bB8LCPFRg0dynI789oAKa0mlkjqMzk+1gAAAALEGf2EUVLCv/AAAWtSuyMuJSgpMaSrQjTwpLgBItyY1uV2LNUAw5xucAKDFhAAAAPAGf93RCfwAAI8MYBQEaUlrSyRpkAK3VOvtI04xClWx1FpF9owJckfSTmupDNgetv9xgafdRvjk+xfjb8AAAABIBn/lqQn8AAAMAGwk8S74bJcAAAAC8QZv+SahBbJlMCF///fEAAAMA+AZUvNGiER1EhRsStA/dUAFe/Rj38yI0fDme01sYmPVBuG8Cr8Bg2szK8LBwvsBqY/WR68zhkA5evlaOqgxxs1DxEW4FDx49AHSkeeZ3CAYHaP8XvO+GkQRzNizKzcfx9ut0152RG8wQnCopPpiUK0XMGeN9+SkmyDvj5PcTZsoVjC6zYLrkOZ+PcX50a8WpJOzqqDNOUY/Jsy+tb7zWQqppN53Db6v/T4EAAAAkQZ4cRRUsK/8AAAMDOE1oN/JSXwTyGsFmMFJTsmhyk/Ofhj+YAAAAHgGeO3RCfwAABR/L7uKvK6QlXsWTg0gKcdU16t35gQAAABABnj1qQn8AAAMAAH8f+QLBAAAAZ0GaIkmoQWyZTAhv//6MsAAARiXBNTpcnfZTS8gBadHQGGvntgelIh3of/7OhXTeZKVqcTJuAU3RHjbHr0Un2PaOUfyzjOVBkgXP5fDhCGD19eiZ6VyeFWdcVDlK+fUSEPVtNJbrbMAAAAAxQZ5ARRUsK/8AABa8Q823Fcytud3wfLH+dpvsypKwaM74WgAOkuP23vjWFNCBBPll8wAAABgBnn90Qn8AAAMACoeX/gxY7Oq6CFH7iz4AAAAgAZ5hakJ/AAAjvwQnEslpsfuaTduyzZxTiQABBjjBw58AAAAWQZpmSahBbJlMCGf//jhAAAADAAAMqQAAABNBnoRFFSwr/wAAAwAtYFhbrAhYAAAALAGeo3RCfwAAI8C438FekHxIbpIAHFKgLZbi5rXbtu3wU/NPA00JhC1LuArYAAAADgGepWpCfwAAAwAAAwGpAAAAF0GaqUmoQWyZTAhf//3xAAADAAADAB6QAAAAE0Gex0UVLCv/AAADAC1gWFusCFkAAAAqAZ7oakJ/AAADAApkQXCD7FOBQGlc7DlVUwAbQKpqCHqiISw7FtePuVbMAAAAR0Ga7UmoQWyZTAhf//3xAAADACOZsyGc9Vh2uaAhFudMh/X/s6WYqwCtkU4oaYjyPY/aP7fE/kDqRoLVho2h6Csnit5pRNxBAAAAIEGfC0UVLCv/AAADAHP/pR1ouB9Ap/osWvczyBeP9C3BAAAAGwGfKnRCfwAAAwC6Ck02EKcyFNBQ/jVVFkjvfQAAABABnyxqQn8AAAMAAX6TwwOBAAAALkGbMUmoQWyZTAhf//3xAAADAqC1AlQEANhvyXkFniXWiP7yIupxtqi7ILnL5WUAAAAiQZ9PRRUsK/8AABa8Q823Fcyttkj6ia+3h2GPP68NfQbsWAAAABABn250Qn8AAAMAAX3CfiaBAAAAHgGfcGpCfwAAI78EH/4mnCHn8D0KnPsIDqcm+olTgAAAADtBm3VJqEFsmUwIb//+jLAAABqvuwIAWzvL0cdA4mQVr/eH/pDR1jgzll6JMmyyAXKxj2B2Qx+CP60OIgAAAB1Bn5NFFSwr/wAAAwM4Uwqw4X50S2Aup+uaMM+74QAAACYBn7J0Qn8AACPAmd3oqmUY5IqqA2aAYGUrpQwYiWS34N2OzGzdRwAAABwBn7RqQn8AACOuMS/ReUOkTY5zMjRAlG8A7IGBAAAAF0GbuUmoQWyZTAhv//6MsAAAAwAAAwNCAAAAEEGf10UVLCv/AAADAAADAQcAAAAOAZ/2dEJ/AAADAAADAakAAAAOAZ/4akJ/AAADAAADAakAAAAfQZv9SahBbJlMCG///oywAAADAWTD7ACjgFyvU+gH+AAAABBBnhtFFSwr/wAAAwAAAwEHAAAADgGeOnRCfwAAAwAAAwGpAAAADgGePGpCfwAAAwAAAwGpAAAAFkGaIUmoQWyZTAhn//44QAAAAwAADKkAAAAQQZ5fRRUsK/8AAAMAAAMBBwAAAA4Bnn50Qn8AAAMAAAMBqQAAAA4BnmBqQn8AAAMAAAMBqQAAAEdBmmVJqEFsmUwIX//98QAAAwAimbNCVwFrzBGlgW8wcu9FAJ4Jn/F3bdEhHDE9kbo4fEXC1Sn6epGVeFhdrG+DYD5TZAITIQAAAB9BnoNFFSwr/wAAAwEt5QtvTUZEuwRwT1S18wt/N/mBAAAAIAGeonRCfwAABPrjBqd64r5V9I7ohWwAu19H8EluJjtwAAAAHwGepGpCfwAABPfdfUBe0TCAhgwRAf0Ao0t7Mg0v7bgAAABAQZqpSahBbJlMCF///fEAAAMCoLXdLwEtB1+rJueoGutQfdng4VujEdMJztNwfdg7y2x5XuwT5TAYk1pwJVv1HQAAACJBnsdFFSwr/wAAFrUrN2s22+mATgPN3OyGvyO1PHxxZVGAAAAAHAGe5nRCfwAAI6v4W3gSnWgjiBGeuRoD3QvzK2cAAAAOAZ7oakJ/AAADAAADAakAAABRQZrtSahBbJlMCG///oywAAAKCF1f5mdArlVK0DReQA3QAAYPRJxNFMUKQ3zAbejXRIoAAy3GkwNyFq9xJ+0rjIPZG5d9UzUMgjMfTam17TUrAAAAIEGfC0UVLCv/AAADAzm77I8CuEa8AuIQC5SwN5qCD8GBAAAAHgGfKnRCfwAABR41VQzvEGwN5GV2xEr9sLiXy8jtmQAAABsBnyxqQn8AAAUdPmDiZGN0OJCBTb3iuQY9u2cAAAAcQZsxSahBbJlMCG///oywAAADAIT72Yu82hoU0AAAABVBn09FFSwr/wAAAwEuKf05cHruMaAAAAARAZ9udEJ/AAADAENYcgyYYEEAAAAOAZ9wakJ/AAADAAADAakAAAAWQZt1SahBbJlMCGf//jhAAAADAAAMqAAAAClBn5NFFSwr/wAAAwM2aGt4V0wAmmRDaeX/4UBkP6x13jPqc9EqcVjtuQAAABkBn7J0Qn8AAAUf0MHPGrjubOISJT4sd34NAAAAGQGftGpCfwAABR0+YOJlrdmyFXdaTXUvbMEAAAAXQZu5SahBbJlMCF///fEAAAMAAAMAHpAAAAASQZ/XRRUsK/8AAAMBLin5ABqQAAAADgGf9nRCfwAAAwAAAwGpAAAADgGf+GpCfwAAAwAAAwGpAAAASkGb/UmoQWyZTAhv//6MsAAARgL28taAas2+uMTwmbyoU26zsnvJYfYtyyn6UctQ1BaNfzrOMuvBY93PtBgu0XZEZ0JBjvZ6yEF/AAAAJ0GeG0UVLCv/AAAWtSsp4kYmPUryjYMV109Xbr7hpuqlhExy54aFgQAAABoBnjp0Qn8AACPDF2ippVPQUT+UMMV+hH99wAAAACQBnjxqQn8AACPHvYsZv8vOy1IrdwKZKa0kBEUv3MjTwbYHts0AAAAXQZohSahBbJlMCG///oywAAADAAADA0MAAAASQZ5fRRUsK/8AAAMBLin5ABqQAAAAHQGefnRCfwAAI8CZ3elekWHdGCIGkYEKtiRFIgl5AAAADgGeYGpCfwAAAwAAAwGpAAAAF0GaZUmoQWyZTAhv//6MsAAAAwAAAwNDAAAAMkGeg0UVLCv/AAADAzdw8tRWXZBUmEAKfPmCpp+5b84n4RvRAzfQE67ycWTj611qGR25AAAAGwGeonRCfwAAAwHlh9psIU5eRW+PxfO2Byu2YAAAABoBnqRqQn8AAAUdPl7J5TdNNq4u2VIgGzjtwAAAABZBmqlJqEFsmUwIZ//+OEAAAAMAAAypAAAAEkGex0UVLCv/AAADAS4p+QAakAAAAA4BnuZ0Qn8AAAMAAAMBqQAAAA4BnuhqQn8AAAMAAAMBqQAAAE5Bmu1JqEFsmUwIX//98QAAAwBc2Jka6dVW13C4gAuMc8ji6Oj5cNd8JYfVPN7o2r95mJGf5IFjZaclDg4DUJ4U9Db+gyKqbhcdwirTy2EAAAAiQZ8LRRUsK/8AAAMDJTHULmEZFaD79SfyZYHtxtlDcfMLsQAAABABnyp0Qn8AAAMAAH7ij9jBAAAAHAGfLGpCfwAABPk99Ev2Gq9p52UfaDDsGoQU/zEAAABCQZsxSahBbJlMCGf//jhAAAEM+vKADUalmQAtZ9vNADYbeajUklC9rgWGlQ/GZjxyJas5ZwcYi0CLl/M9QX3fqMEuAAAAHUGfT0UVLCv/AAAWtSs3a1peuKLGWY3uVl1rpZGpAAAAGAGfbnRCfwAAI8MXaKmlrKW0m+OVP0qEHQAAABoBn3BqQn8AACPHvYsZqNmmN70qm0Oi14BNwAAAAEJBm3VJqEFsmUwIX//98QAAAwANiEsaKSQUoscFWvYnHycBR4BNdnAO8kh7+juILJKGhtWL/5jJjIWQiiquid45Bu8AAAAeQZ+TRRUsK/8AAAMDN3D59p4hdWyTHF3SwO5YYI6BAAAAGwGfsnRCfwAAAwHlih5kk93K/VlM3SKtCFjnwQAAACEBn7RqQn8AAAUdPmET49fMS/UVytLu2uHWhXwO+ILzbMEAAAA6QZu5SahBbJlMCF///fEAAAMADX1LlqIBn1m3rM86gKxwpkh7JipV8wHAI/x81Vc96TLzgIW3lVgrfAAAABxBn9dFFSwr/wAAAwBz/6TdrWmFxg4Ul06HsAx0AAAAGgGf9nRCfwAAAwC6Ck02EKcx9WYLdEpEL7bhAAAAEAGf+GpCfwAAAwAAfx/5AsAAAAG2ZYiEADf//vau/MsrRwuVLh1Ze7NR8uhJcv2IMH1oAAaj7AAAAwADslicGR5AQ1SAAAADAsYAcgPEMUMARMVYqBLBiTs3gnEfn2nL+43qPENBw2xDkLUsRyFEJgfVGxjnZHS1sd5fh1vXUgaN8lTmC8xJw19kkXcZhYJO7hF+g71mr+JARaAdUmgEtiFLxlwPN9lNkD6FokQXpchmrXi/N4Gc8jRm/v8igi0F/QtD1yqPrO8Vzzo5zvTqrVMVMMFFgLjKu3TqmcEOweCnIu/pkbNKuTYODrfDHeNjizDa7tQPnDLg6PDBvx8Eri+mYkXfLFA2aoITdOToNefGdsPwNOFRPXjwcp8rXownFwZtbmwGKbx0lXDZjPfSQFMlJL7zIf5059NU16WtVuuXJhAUctrzPpRPH7fmMDxqJArayNSB2kihImJqhxT/yhlWxUQ9jlLCDtf9ZqQJSBLCpD9es0xkW5nowX4KE4EAEMx/TVyg8NRMhp9blBCyL588uWJ21Kr+M63FHdWK9o0dHW/iEeAhUjDoNvLoDpRegAuBV/xoAACBWAAXQSADwgAAAwAAAwAAAwOKAAAAI0GaJGxDf/6MsAAARgqufR0nmJV2wD/weBcGdC3wifft2E5hAAAAIEGeQniE/wAAI8MXaKmleTy84Poe8r50hfYwo39swlRgAAAAGgGeYXRCfwAABPvQwc89pkgLcPIFanalVZJhAAAAHwGeY2pCfwAAI7HMCW/Bw5wbBNlLc6VPmzmde0e1upUAAAAWQZpoSahBaJlMCGf//jhAAAADAAAMqAAAABBBnoZFESwr/wAAAwAAAwEHAAAADgGepXRCfwAAAwAAAwGpAAAADgGep2pCfwAAAwAAAwGpAAAAM0GarEmoQWyZTAhf//3xAAADACLE4UISAOjNvwqBG5XcUuBsA1GqB6H5LcDJ8XC39Me+7wAAAB5BnspFFSwr/wAAAwEt5QtvTUZEuwRwT1S18wuGkBAAAAAOAZ7pdEJ/AAADAAADAakAAAAaAZ7rakJ/AAADALpmEs9xJabe6Z8ekgbwLbMAAABLQZrwSahBbJlMCF///fEAAAMCnwVg4I3+uIhglxoBrOJB4G3oBwFcQPB+GVY3QrW/von53iY4wxEvq0xvvoOUErbpTRwADmDyorFAAAAAI0GfDkUVLCv/AAAWvEPNtxXMrKU9EoIaji6+GspEpdvuz2zBAAAAHgGfLXRCfwAABPrjEd3ETk7tpAua4QzUtNBEEB4jkgAAABcBny9qQn8AACOxzAlvqW+yGeCGqPDGgQAAADBBmzRJqEFsmUwIb//+jLAAAAoHsHDp6aoqw9noI3/tXKHYzUR8Qo2UTEa159t3FYEAAAAgQZ9SRRUsK/8AAAMBNeTmva+VeygzNS2s27CJeEQa24EAAAAQAZ9xdEJ/AAADALWhQ5wHVQAAABwBn3NqQn8AAAUggfPX0DxjHgwHoADWw4Ph7bZgAAAAF0GbeEmoQWyZTAhv//6MsAAAAwAAAwNCAAAAEEGflkUVLCv/AAADAAADAQcAAAAOAZ+1dEJ/AAADAAADAakAAAAOAZ+3akJ/AAADAAADAakAAABTQZu8SahBbJlMCGf//jhAAAAlnEOvQ9agBJe6X8XB00fIZVLQ87wlxps3fs9sR+pFI+GTkywarWMTpOwpEmDzJPfYxkTCV7fqP/gRAG26BAmHstEAAAAfQZ/aRRUsK/8AAAMDJTHNo7eWcSO9SznU2ilbRPwhlQAAAA4Bn/l0Qn8AAAMAAAMBqQAAABwBn/tqQn8AAAT7NNXe24hqgkgb6PDoJHCB2YVgAAAAIEGb4EmoQWyZTAhX//3hAAADAABndQ3ibRoEuoQ5kEPAAAAAF0GeHkUVLCv/AAADACw8t8J8yrhgJyghAAAAJwGePXRCfwAABOoRx+YzKRCwTcJjx5D/yAgC191cCxZ3MooWGNsBvQAAABABnj9qQn8AAAMAAVDNQxeAAAAANkGaJEmoQWyZTAhn//44QAABDPrd+K6Ns1eiLSd3wPuohlAEadFswMFzulz3Eps2gAX1vNsQMQAAADFBnkJFFSwr/wAAFrUrN2thKUSd9kHzacGRv9xNKMACw5vqo8oLQP18fMEdW0LoH82zAAAAIgGeYXRCfwAAI6v4W3gWoyZBXWN6EdScBIul+J8dbSgqy2cAAAAbAZ5jakJ/AAADAeZ/1WxkwvQNbDGQs0Hd+7ZhAAAAKkGaaEmoQWyZTAhf//3xAAADAA2P8lSAQZQwvhZZHTZDA+xKW9T7cC7ccAAAABhBnoZFFSwr/wAAAwBywBAgkRCuFb8VCgkAAAAjAZ6ldEJ/AAAFHocCzD9BGVqQMaMFfTS9t6t01rpgaNIcrbgAAAASAZ6nakJ/AAADALpmmrY12CFhAAAAQUGarEmoQWyZTAhv//6MsAAARgL2WOPR1nRK+AAFtbfPkm7iU+7rX0gazZh9f9eZmiHdZ6SNu31xfUfJZxQ5DBUVAAAAHUGeykUVLCv/AAAWvEPNtxXMrJlWpvhGB1lgXTK2AAAAEgGe6XRCfwAAAwC6C28yWoRiwAAAABoBnutqQn8AACOxzAlvqW+yFWgnVtJZAdzugQAAAEJBmvBJqEFsmUwIb//+jLAAAAoHsKIAAbBqWMrywB/chJkuSLJ/Krih/wmCBZKRPJus6b1laB3xSm3dzEx1f9KxSywAAAAdQZ8ORRUsK/8AAAMDOFMKsOF+dEtgLqfrmiRJOC0AAAAgAZ8tdEJ/AAADAeaxsCgUNIlXRETTl+ewew/EQo3cO3AAAAAQAZ8vakJ/AAADAAFQzUMXgQAAABZBmzRJqEFsmUwIZ//+OEAAAAMAAAypAAAAEkGfUkUVLCv/AAADAADQ/eWyXwAAABABn3F0Qn8AAAMAAVAW/j2BAAAAEAGfc2pCfwAAAwABUM1DF4AAAABCQZt4SahBbJlMCF///fEAAAMAIpmzQlbc6k4QGYsANkWgv+FUgA0jsdfzheo96sgqj0quITyhmlR9u0MPfKsv19+AAAAAHkGflkUVLCv/AAADAyOuhC9eCVJkHQxZBP76DQVQywAAABsBn7V0Qn8AAAMAtfo8cA01WMP2YTxE/ILt/z4AAAAgAZ+3akJ/AAADAdvveZG0sjZ2Pa+X7dkr7Qf1bYT/GUAAAAA2QZu8SahBbJlMCGf//jhAAAEM+tyNgzzUBg50TKAb+TGbvlxMGlQYojvU6RRR4oOydFrBMREDAAAAHEGf2kUVLCv/AAAWtSs3a1peyAddUWSef4zbL0EAAAAYAZ/5dEJ/AAAjq/hbeBKdaCOIJciuWY4XAAAAEgGf+2pCfwAAAwHbf+LUMHbgQAAAAC1Bm+BJqEFsmUwIX//98QAAAwANenqAHSjCPivsXUhm4fhvmv66buibtg3KzFgAAAA1QZ4eRRUsK/8AAAMDIoZKkkZ0AN1rF7UdHHADlNQjbDnd9zzgkzN4uiJU/g7T//WIObd64LEAAAAhAZ49dEJ/AAADAdXxwmL5lmXYsDge35veGLcZzJu3CTBAAAAAHgGeP2pCfwAABPk8pFWrA3/2WdwGTFkCw0wTk0/8oAAAAFpBmiRJqEFsmUwIX//98QAAAwKj7Dg1QgAUZCnBHEQD5K099XGIruKVNIOMnm0AtWuTUMBUXRs3cmrRkvKxxLBie7vYrYr0HmSNQY+iMm/0GiHxFiunckFQuIEAAAAhQZ5CRRUsK/8AABa8Q823FcyssQHcc94lR+HhK/KrA4z4AAAAHAGeYXRCfwAAI7iv3FV7qqyagQFA/p7pK9RqkBcAAAAYAZ5jakJ/AAAjscwJb6lvshngiI8yqLTBAAAAekGaaEmoQWyZTAhv//6MsAAAGq97v6TeAmj6QOdrP2fuo8GRlb4AT/X8Lbh0vfCUiDBjplVy1+ygLTalPRMlFhmRAFyPk2rkNmP4jZi0WV7M2/xqMJ91EptO04x+DM0qMb0Ij7BdrR44Qj/SJ2RoeN60G0Al9rywSA+AAAAAJkGehkUVLCv/AAAIbyc2YWwaUDO9/VrFX6364oWP+iOn0AiLzWmBAAAAEgGepXRCfwAAAwAJKw+bITzAgAAAABwBnqdqQn8AAA2EnatjWUTTTslSncgH63PNBv71AAAAFkGarEmoQWyZTAhn//44QAAAAwAADKkAAAAQQZ7KRRUsK/8AAAMAAAMBBwAAAA4Bnul0Qn8AAAMAAAMBqQAAAA4BnutqQn8AAAMAAAMBqQAAAHFBmvBJqEFsmUwIV//94QAAAwA3Q5Im2sy+Rsx38wZ7+6eI7f4m/vxAV8SD1nsor/X4bXbkyRvcAYv/fJGlHOfRs8EdeMzaq4QrBaqxQOfkccfRLs9yGOOyJIgCcW9jImkb9IZSkZsvALasr+A9a3iqGAAAAB9Bnw5FFSwr/wAAAwBxYjH9w6tAELApojHcUHDz92itAAAAEAGfLXRCfwAAAwABWRb+OIAAAAAnAZ8vakJ/AAAirl/7N+fIlN93+F50/Fc40Z7DY6YO6vryqaRLJ2OXAAAAMUGbNEmoQWyZTAhv//6MsAAARAL8MQDRhP20CAjb3oQgbe0ge9b3RlyjFr+tucjBVUEAAAAaQZ9SRRUsK/8AABYlWFWKXgfG7yyqguNCmQMAAAAVAZ9xdEJ/AAAirDkFrk8fPxVojRsxAAAADgGfc2pCfwAAAwAAAwGpAAAAR0GbeEmoQWyZTAhn//44QAAAJbPQvwdprsMVADcZmjB1Yzfxp6GZhwxcZ9Zpwt6o8+xVPvySeLg73yRjomgtKuVnkEBfX3keAAAAIUGflkUVLCv/AAADAS4p9kiCoWcIumQl/2u1GTF/iHNPgQAAAA4Bn7V0Qn8AAAMAAAMBqQAAABwBn7dqQn8AAAT7NNWxkwwDAeZ4CjiB4Q22VznwAAAAGkGbvEmoQWyZTAhX//3hAAADABRtYNfrqA45AAAAEkGf2kUVLCv/AAADAG6KaUB4QQAAACUBn/l0Qn8AAAMAs+Hr4oXTjoeb5/7qLJ+iZHU3CDYciB3taaKxAAAAGAGf+2pCfwAAIq5f+zdwc9HG0RvYmygzIAAAAFFBm+BJqEFsmUwIX//98QAAAwKNBTTC258rto1JcO3xMYAsvx2gX0hrwAtl7DLQUZV3BoKtQi1+Xd7f7bbI9qz8sZnGGtVh5CJBt36l1RFNMDAAAAAeQZ4eRRUsK/8AABYlV37NTYhYqcCjmRDBPdL63fV9AAAAFgGePXRCfwAAIqw5Ba5PHz8VjWpwfTAAAAAXAZ4/akJ/AAADAdt/1WxrLAqgxRFGoIAAAABEQZokSahBbJlMCFf//eEAAAQbom2ERi+kBOjkL0AstA6dLSA85PXhKEWkytaKq+LshRqZhXGartq+yKJw/qRicmVQKLMAAAAYQZ5CRRUsK/8AAAgsCh5FZx/sUIcrQSggAAAAFgGeYXRCfwAADS4S8yWPj+ryTpWRNy8AAAAOAZ5jakJ/AAADAAADAakAAAC9QZpoSahBbJlMCF///fEAAAMCnvEbN9PAUkmUwlvKH3Mi7PF/uSbONfB3mEENHNz8RFNwhaY76Ty0CjSQv/lQuaxPZPUeObWFIctd9G7dwaYP/PhyLHdDedYc5eJhoyWyyoJl4xyY6wnxRyoo4qjzp1BvilN0W99H+Pll2bb/ij0f9RjzU/a8OpBZTlgKbJhVoRlZJfpXZ9NJVnhyW3dgiprQcicacZPHmYJk1mQMLrw+qq6rtzLHNO/Pl0/AAAAALEGehkUVLCv/AAAWvEMdqN1i6foQSQFWhim98XMt7VOBRosycSRChCI2as2fAAAAFQGepXRCfwAAIqw5Ba5PIxh9HICFgAAAADIBnqdqQn8AACOxzA3ZEy/8GkjdcT/aZgTfihvnVGrItKABZzXyWWv2MgdP6CwCouGTcQAAAF1BmqxJqEFsmUwIX//98QAAAwKfAvDgUpL9SgkKlKpu94FTuilTixfWTjiBu3+D4ks3hep5gLLPpRmyTuNu5ercyYoxgtouAOXfEP3WE70pI1GiVA1zKVVRe4uDe80AAAAjQZ7KRRUsK/8AABa8Q80fK2VDVxN7AaqlIPo79q3MQ3TQErAAAAASAZ7pdEJ/AAADAAqAuJX2/KmAAAAAGwGe62pCfwAAI7HMCW+pb7IVSPv9aLjC8UDZgQAAAGBBmvBJqEFsmUwIZ//+OEAAAGdGEPp420ANxy18Ip1muvmtbXfPft8Qlewpeh9S1yy7QXOKO+TLAmrmPJl0ic4VcycWu+ltSj4O+fC6NypJ9UPEwomBcu9WfyQm7lOnk4AAAAAiQZ8ORRUsK/8AAAhvKEpKE5eI9Bgy6UIllOIdRynvq/t2YQAAACYBny10Qn8AAAMACoCp6clgUmvaIsYABsOPksuGhcwK3osDV7SnHAAAACABny9qQn8AAA1/1pxMm0Pk1PRD1lR3YToBOEF67Z+12wAAABlBmzRJqEFsmUwIX//98QAAAwBfYAmewAlZAAAAG0GfUkUVLCv/AAADAzhTXyH/cIWBPwquM2SNgQAAABIBn3F0Qn8AAAUcXAG/c/77IXcAAAASAZ9zakJ/AAADABnJP74ibnTAAAAAVUGbeEmoQWyZTAhX//3hAAADAYc9wAHbmo8yvYKNkgYWwNyxZ5k/Z0HwFEsg0yCxX1YKptaC5bRi7fwI4efhONY51ZgWP9PIL/u4yvlGoX+9/5qTJ14AAAAlQZ+WRRUsK/8AAAMDTS59SF85mYLzZJH4HdR8O3PeJXt/8YTkgQAAABwBn7V0Qn8AAAUcUmubcFhzhikcGxWG+dByLkmAAAAAEQGft2pCfwAABUM1DbbL8GBAAAAAdUGbvEmoQWyZTAhf//3xAAADAp8FHUPUCgLT0n3mWzxW5zpavkLp6ZJkble0R7entN/cHcJaMqrormIDWtjVktNQaQwf77A09oYcOI+nSIEo5jpi4N5iuI/3fP9OF2XVRWGEvJgTfnW2ZCc+IjHfSHxbeuVtwQAAACNBn9pFFSwr/wAAFrUrN2uXwBx/UI+IQIP9G4qoyzhknNLEqQAAABwBn/l0Qn8AACPDF2ipz13yzxGtOxqKzKUVgZOxAAAAJAGf+2pCfwAABSBtvOWGuPSvGnWDoBtVqKyU1m6go1rGh0k5IAAAAD5Bm+BJqEFsmUwIX//98QAAAwKf7ff+rqBQFpPqkc+hTI7T+1V+rrJFODpZl3GOOMkBjJHaYzRAT7TlgFxBwAAAAChBnh5FFSwr/wAAFrxDzbcXBfNVwsTLolmOGK2Ov1ptVxfIBjiqXvmBAAAAGgGePXRCfwAABPhcTTqr/dXPvYjmnggKb3zAAAAAGwGeP2pCfwAAI78EJxLJaZq4VmtHUOWJHb8oIAAAAExBmiRJqEFsmUwIV//94QAAAwCWmCt4B+RaycAoFxRtX+M6ICsYCni66gDI08f1AeW4xhU2z8bUEy6xF0iTAbmpkDJiVGCb21tiKtzxAAAAIEGeQkUVLCv/AAADAzkweffNRnIagWNa5o4E/6vkL5AQAAAAIgGeYXRCfwAAAwAKgKnpyWBSap9+4gATi5HDWM/OvaKfylUAAAAbAZ5jakJ/AAAFHTAS45CvxLChDWsUE38Jn5OTAAAAQkGaaEmoQWyZTAhX//3hAAAEE3hECIAnsvY25wZtXKMwDP6ZY76MYCuhZ8ZBH1bcfFXVIV0JEdFWLXIe2MF/5kcxgAAAADJBnoZFFSwr/wAAFrUrNUwL0ljQA0p/BpfE9uXTaHum73YaALzrm614tSAEOKHpkqj5UQAAABoBnqV0Qn8AACOr+Ft4Ep1oI4l/4IIm2ySb0AAAAB0BnqdqQn8AAAUfMJdABniZr7IMa/oSJW8Yw5LZgQAAAIRBmqxJqEFsmUwIX//98QAAAwKf7ff+rqBLPjGR/KlHvq9vP9PMtJQr4PHJfi+hbG5pczM4LzLD3HGxLyjR9XiDHBduAVvNHzhsjS1XIgzcU2JYFNb97eemcoooYQNNnBBJccydm+mXm2FnbqsoGj6/1DWNvi93ADnfyQPpoojpCVE1KjMAAAA6QZ7KRRUsK/8AABa1KzVMC9I2v4YLLYtEehtOEX1ocHYWIZ9+xJUAGs3Btt1uKd1apbKhNbqvYMJQnAAAACsBnul0Qn8AACPDF2ipu+KIuYtY120AJLlCGYK0Jb5eS+qoeeb+Utbt1aMoAAAAKAGe62pCfwAABRjH7qm6R+z5HzyOgA9wIQXm27xLfhQNg1X7A/6ljekAAAAxQZrwSahBbJlMCF///fEAAAMCnwUU+8+Q/iY+t+obVqFsuGLVVtdl+VcvoJEt8cXyQAAAAC5Bnw5FFSwr/wAAFrUrLee8JU9kMc8dQAsXaPH7FOpeBR5+GyYvPsOTnpMcWIJtAAAAHgGfLXRCfwAAI8MXYRYaVCXYqSzsl6UzXn116okz4AAAAB0Bny9qQn8AAAUfMJZ79XbYT+n+paSUKx60csFwrQAAAHRBmzRJqEFsmUwIX//98QAAAwKj/dIBqd2Sza98I+5mv0E5cM+ZyANpspXGbkhUDwYADC4ENZak1YTLvRhPqoJKKcb0tSDdeeN7PSkf5WAUUR5fJESSFSaiCMkziKtG+nhg+7etgOIqY6IoQok5MDp2CwWI4QAAAB5Bn1JFFSwr/wAAFrUrN2taXriig8IwsDhJJDgix8EAAAArAZ9xdEJ/AAAjwxdoqbADDtMlucXRweF7T81lLu+/54AEn147gPUjuWvuCwAAAA4Bn3NqQn8AAAMAAAMBqQAAAHhBm3hJqEFsmUwIX//98QAAAwKM9+biew3bKWL/jvj6aLUMxCbhZFnOWLA2i4DhPJset9908xULBY87mKODC8+XS30Q8ieaERz6aKj34LJDnjcsQek42lwYpWLj1N7clopLsgdIlXFvhQYesylWVA3X1hfV9HFZVP4AAAAsQZ+WRRUsK/8AABYjLIvIyAAbqKpKPY97F4KTbkt6CxioJ2rG4el4hkjojlkAAAAUAZ+1dEJ/AAAirDkFrk8fPxV/hjQAAAAtAZ+3akJ/AAAisicdw9QgQAFz1c/hjjUWK0V6t22WAMoxh43MTetuoD5cNOOAAAAAUEGbvEmoQWyZTAhf//3xAAADAo0FNJjni4uTQ7JZp55hDhO85lAscIBFzeQNJCO9rJmCzBMiT119qWMKLyuoQigvEFiIswhg2DxJiKzYn9CBAAAAKEGf2kUVLCv/AAAWLE2o2flhY+q29A6jSUwuO0xVHWI5UcIHHYmI/CcAAAAiAZ/5dEJ/AAADALXCsvsj2H3fjMIKzSAPLcsV7/WXjGQygQAAABcBn/tqQn8AACK/Gs570NZKwmWw0dpjQAAAAHNBm+BJqEFsmUwIV//94QAABBuiatEGodfwN60l/hruZN9oKfUyWDiJNhlfMKnNRSeCgc9CfyqTyRu1TOY8hhCf2FA6oXmCWIuyZGFvdjxQiaYU1VV9UfCoqJsdzK3CKI16CV2hkFaaou3oFqd+t5qiwgAYAAAALUGeHkUVLCv/AAAWJVhV2HeSO9z4AA3TLmRdSiq2tOtK5fNnCpiBKDOwEQc29QAAABYBnj10Qn8AACLDF2i/TWoCRaBXdubgAAAAHQGeP2pCfwAAAwHbf9Vsayz0mChQsuLmJNX1QOLAAAAAfUGaI0moQWyZTAhf//3xAAADAoz34j9OsqLt4b6QTPl9AfE1eKZcnrOGH6OJH2aeGm6VCpznYvhOETCssfRyg97khqSN8UtVSnB91QLQ6SIrL9FLnMqFqK/vz9khDCzTc43gW6GjRb+XkMu7bHXSZMo++10KxpLlj8Nz2BahAAAALUGeQUUVLCv/AAAWIyu1BbE7JGx3PY1A8M+ivDa+d3rR780w39RnKqj8GpvygAAAABkBnmJqQn8AACK/BCcSyWmauFZTH4Iq1+QdAAAAP0GaZ0moQWyZTAhf//3xAAADAo0FHT9gNpFHR49GAMdeG3e/iQmkU94Tru/T6bFUyDOJfV8EzA1qRVXNi58CoQAAACVBnoVFFSwr/wAAFixDzbHhDqInyVasJ/Yp7NOrFsOFGcTZ9uO4AAAAGwGepHRCfwAABPhbeZJPdykkibgxIoq09e5PgwAAABgBnqZqQn8AACKxzAjOPMviNCG7+vwT4W0AAABgQZqrSahBbJlMCF///fEAAAMCj5VhxYFY5fnmlk6Em1bR3HNYUABwIYs/Z1A1XXyUnW2jIBNb51y4tLmk4JuApXZJtM9Lts8qm4grg00Z9Fhht8EoRVUsCf3ZnDk6U+7BAAAAK0GeyUUVLCv/AAAWLEPNt2urVIL2ctO48RoDrDoyPBoCjGFx4Mgki4w+QsEAAAAmAZ7odEJ/AAADAdXxv/l1JJ+ALMsK2hfWUhnLWsdi2VxHk3PVt6AAAAAbAZ7qakJ/AAAiscwJb6lvsgeQdt6NdgU0rg+YAAAAR0Ga70moQWyZTAhf//3xAAADAoz33k2hCY59NRvinGnxUvZ44B0BhGVgkoFd1ABMYj2VG5KEDt1bNV5rObRoAW9OwsrqArNpAAAAKUGfDUUVLCv/AAAWIyu1Bbkcrw1FXOfDZQd/8R8axQb8e80Pi0pNqUHAAAAAIgGfLHRCfwAAIsMXaKmleT26/ghiNEF/YeaseI4gGzPcOmEAAAAZAZ8uakJ/AAAivwQnEslpmrhWaylrAedlQAAAAEVBmzNJqEFsmUwIV//94QAAAwP1YPWkQQPzN/YmRFpzA8chwlAUAotPNcpk9kP6kmHVIgop/dqML0OM7rd/6rE3AThLYYEAAAAnQZ9RRRUsK/8AABYsQ823FXRD7N+oWEZVbX12YPckmxf0d9y4SKT5AAAAJwGfcHRCfwAABPhXHbFlYdN8RciZk90YqOzy7Omt4GnXxsQQ27J5QQAAABgBn3JqQn8AACKxzAlvqW+yFVKFvLXpB8EAAACJQZt3SahBbJlMCFf//eEAAAMD9koJyX2X+rDi1wAfzWVKtiM1bDEuO4kN6GJzusTYU/wuB3Yp3EqametIyFQhMhSTfxKYx1u6O0MMuNcomR7vxZN2/2fxE228vfGRXS+ML9kiLkBAA7vx9b4PYynNccEWffvsMlW7q1vfayN5s3VNHubFm3brEB4AAAA3QZ+VRRUsK/8AABYlKzczh1AFDc8mVz85p2v52qCpVSbtZR5VuAm3fetGRoDwLgmQNJAzsyp1QAAAACIBn7R0Qn8AACLDF2iNH2UIV7eekMcz12kFDQXH8d1EKIrBAAAAKgGftmpCfwAAAwHbf4M874ar4qJNy6q0AH9qMsbPSDgdS7+ye0zTIDlXUgAAAExBm7tJqEFsmUwIX//98QAAAwKM5hXzpyPlS2pvXTTThQBcMLbWwK+OXoQaHCEb3mvE4EvHbXeYqLvZGrLiKygn658XiP6o4U3Oq+3YAAAANEGf2UUVLCv/AAAWIyu1BRZH8IQAHHUPIxefqPFR6+UDm54glfS5hO6t4IzJ0FKPUHHLhmEAAAAmAZ/4dEJ/AAAiwxdir13N6zZAbhn0xX0iM0RVWmnpvXxeseTVwqEAAAAXAZ/6akJ/AAAivwQnEslpmrhWV7GEC2kAAACMQZv/SahBbJlMCFf//eEAAAMD9WDqboJynM90oAAtpUXHFOCOqI7yDSEEHVoeFowJsTPOlfi8HzjWVsWB3W/Sw/piVkMc4zcVGSix4WtHe2JGpMejE4NKSBG0jgyhmiGq1NPVgytHwW3Rjh95jRztspMmaqx/M802Acsd6QEhf2AKYp1RiyAw34voNsAAAAAnQZ4dRRUsK/8AABYsQ80csg6seSCj7lYX2vT8l7JTyj/pAehEzOFQAAAAGgGePHRCfwAABNWHz4/L/rCaszwpT2oxdAt7AAAAJAGePmpCfwAAIrHMCW+pb/Wf/RolnkXHZKYbcRgNvbhqfD1xwAAAAFRBmiNJqEFsmUwIX//98QAAAwKRzqqCmFufdoLmf9skCq7FRq/BbcbKghE1IFNf+rFHXySz/V4ClvOwSCLia+bFj6+GaOOcLeL8iqn0pZ+Qwszo2rwAAAApQZ5BRRUsK/8AABYlKzdrWl60lEhL1Y8oUPCN2PTetLHig7UhQBilyoEAAAAqAZ5gdEJ/AAAiwxdoqaVT1qbmFnUaAov53DPqQen/DuZxMkZGu4c3tyHHAAAAGQGeYmpCfwAAAwHPzUaYmd4QkrjDV6ScwyUAAABTQZpnSahBbJlMCFf//eEAAAMD+7/qcixiIC48gQ5W4d4EcHr3yQ/QqXfxyJJYyPvTo3t0lgsAMRi3UFruZi/+p3FLCZf2jZtUdQ14D2A7OuItwhUAAAAoQZ6FRRUsK/8AABYlKzdrWl6qNGGRDKNubq0IRJSAuPg7U6rYBCj/7QAAABoBnqR0Qn8AACKlNHNSQOFXD5NNZmwg4VXE4QAAAB4BnqZqQn8AAAMB0H/VbG1aO6PDtVdoagXzi1iYlEYAAABJQZqrSahBbJlMCFf//eEAAAMD4IP9G21M8SefSknUBbG+kNKP7ubAhsZQEdgiRL0KyT9DoO0Hsdk6LJC+MumwbZQ8kVMElUEveQAAAB5BnslFFSwr/wAAFZVYVYrOP9l6tyDo9mAaZ5S9X48AAAAdAZ7odEJ/AAAhwz4OeNhPQxoJ8SPDKhi3r5LVNnwAAAAQAZ7qakJ/AAADAAOg/8VswAAAAIJBmu9JqEFsmUwIV//94QAAAwPfYStOq7cqEtLtVWjoGlZDMTmaG0KiEQ0F8sBAG/s9eRmYyoPXTUplt8MRpgXTcRWvpupYxTPeJbT0fo5UzpdJqv02NZyoRojAUeDUdHdSvmfT403CRH2ohg9/6I32TLCzjr4Wtp2dfUgrz/Xb/7jBAAAAKEGfDUUVLCv/AAAVlVhVwgpQp4lr42fKfIeH938cmDYimghGEHLdm6wAAAAWAZ8sdEJ/AAAhrDkFrk8fPxWNV9D7oQAAACUBny5qQn8AAAMBzt0jsUvHcmOkDS5MsTYHG6e18ZTeTTJI9BtcAAAASkGbM0moQWyZTAhX//3hAAADA+CD+9HyR6PyLI9eSIYFRvyTuEfMb86AMXqI+llLV7x2qDavaLC++HMGJH4fvYvgl7dO2MznNzXhAAAAMkGfUUUVLCv/AAAVlSs3dMXekGhyGvW18eyY0VqT9Gn5VAOvGlLZPAXE/QMhfbERphtJAAAALQGfcHRCfwAAIav4W41iw4+f/ogKCbH9mzfSal3FABDb2sj4LFgwZQTVf8OtcQAAAB8Bn3JqQn8AAAyTR2b2qtEyx39HgGaDSkOQHwkUSlSBAAAAPEGbd0moQWyZTAhf//3xAAADAnsFHTZLQqnH+ieIhRzaJplB0fQWTUWjYgGRTDlQphh/7vCe/6d2xGePowAAACxBn5VFFSwr/wAAFZUrN2taMtdJcV94gTIvwAERDzUSHAImlej+63CaSHPvHAAAABoBn7R0Qn8AACGr+Ft4Ep2+sjlxjFBhTZwO6QAAAB4Bn7ZqQn8AAAS34/GG91NxWtOKfqIETnX7PgHa8cAAAABIQZu7SahBbJlMCFf//eEAAAMD4IP7QVxDdkkApNM0mXb91TWaq21swgBbwbjoQbC0gXKRRepcTE77le1Z6ik8iBivMlWOwngQAAAAHUGf2UUVLCv/AAAVlSs3a1pexppRZ4jlEqMiJPUhAAAAGQGf+HRCfwAAIav4W3gSnWgjiBGesvkOj4sAAAAOAZ/6akJ/AAADAAADAakAAABNQZv/SahBbJlMCFf//eEAAAMD31qrB2FD4/9aF8yTmQACdnEmla65bAQy80h8znA368aZsu7hweAqrhfMImfonvFIVLn/71mdHMlzlBwAAAAdQZ4dRRUsK/8AABWVKzdrWl64ooPCMLA53Meah2wAAAAlAZ48dEJ/AAAhq/hbeBJnNANTja16ZaC6rogUK3SwU+0I1ujtgQAAACIBnj5qQn8AAAMBxC5xMlHD3Icik1Rjhz0lVCYjBj1u49lGAAAAN0GaI0moQWyZTAhf//3xAAADAn2zvMKsSVaUeft2hc6ktIiW1DQ9AFyysiDtfmened1xp0slSpgAAAAdQZ5BRRUsK/8AABWVKzdrWl64oG4QoA6Lx7EcJL0AAAAXAZ5gdEJ/AAAhq/hbeBKdaCOIJcefHQsAAAATAZ5iakJ/AAADAKzmmrvbhnwqYQAAAFNBmmdJqEFsmUwIX//98QAAAwJ7BR02S0J2cDJZiKEAAV9qbh61NepGhxguFwiaCnny4BEUj2MfVKLN8DIuDZyTjxzQXZ36ntMz83sObctBtfdY8wAAAC1BnoVFFSwr/wAAFZxDzbVSVkgcABOs5Mg030tSOmWq+PuhSk5yFQomNBv1/JgAAAAjAZ6kdEJ/AAADAdCu5UCHDtCELgNK0upRLXuksdN3VCTpuOEAAAAZAZ6makJ/AAAhscwJb6q95GEMw/MxWiDlgAAAAEFBmqtJqEFsmUwIX//98QAAAwJ7urXbDS5xC4Q0W8dqFUd5W3Vhe1RDOAKDbndFJNp1NkT8vxVNDP9VPNXmCkiA4QAAACVBnslFFSwr/wAAFZxDzbbZeJXJdvxAgi6csLHMDgjLZqwIAx2xAAAAEgGe6HRCfwAABLWHo7nLZ7itgAAAACUBnupqQn8AACGxzAjOPMfTE/XiKvMxaOv5j5vEulXDf7UB5adsAAAAO0Ga70moQWyZTAhn//44QAAA/WlCuq6Nq5rAQ0TV6IOHLxZ3x0dKUAX3F09KbOGeT4j191LbzoHQMlqnAAAAIEGfDUUVLCv/AAAVnEPNtxXMrJJBytnLCy7Jp5Ht1lTAAAAAIgGfLHRCfwAABLdao9nZNETJFqeezcuDr8AYfMoOMBgQfccAAAAaAZ8uakJ/AAAhvwQnEslpmrhWa0e8ectylTAAAABNQZszSahBbJlMCFf//eEAAAMANJ+STTe1eBkwaAAIzxCCBagg6IsiLta97aZec7GIcOrjCX9m18Dc29raEf5r6+9i98IVzZZ7JXzgq3EAAAAfQZ9RRRUsK/8AAAMC+3ExTC3C1sOll6LJCamstMF5RwAAABEBn3B0Qn8AAAMAP3FDzXRWwQAAABsBn3JqQn8AAAMArOa5fHA03RBszjARVS6W5IEAAAAzQZt3SahBbJlMCF///fEAAAMCewUPCvAgVGzYkLUvZKBuQHYrCa+b3BGR7WxpjsX1jDjgAAAAHEGflUUVLCv/AAAVlSs3M4QjgX00X2t6+HY8HpAAAAAXAZ+0dEJ/AAAhq/hbeBKdaCOIJciWIGEAAAAQAZ+2akJ/AAAEt+NZ1MArYAAAACpBm7lJqEFsmUwUTCv//eEAAAMAFG6tEabENpxLRYdxfsqAG1tXGtOh6bIAAAAcAZ/YakJ/AAAMl5BeL1oocD5d7FwQOmqc0MzHbQAAAfFliIIADf/+9q78yytHC5UuHVl7s1Hy6Ely/YgwfWgABqfIAAADAAqdX469HICGqQAAAwAFjADkB4hihgCJirFQJRyr4HO4AMoCYCngJgMTtaJcyOI1so8fkI7EXUNf4yHXmdGRZZTtaCwaTsVNHYXI0M2Sd4wcH4n4QRSJajGk59VkgdOk8kuNutQJeh0K4/1I6yAIQs49h5AhncsQFkSkgCq9lE1ADAH83yDE5JiF+6gBaPUlJNDQBlEdYpYE1QBKXQx/qxokkufwgkQ65m0PF7k6RtWt5D0JDU/fkITYv4opugWiggLsWT78NuwgvfBQ0YqTDxNRPmFdy71NTY6TWZ/m2ridDZhfIHqES5J0jdQ9M1UUcjHhgWbmTH1ocyk3bKXpOEmqDtNPH5+jiDtaRcox6pX9PgVpvIr1WYkDbfRydQxWUTzc5h1D3WxcWnxqzae3cPjabPJvUu7gxG2ArpJFK+PmdW76Y5mTJQe7GQjWG35HhxSrMn8o9TAM6Oy7GySUsjUv8ZveepRFPpSu8RNngTsWSSZLObxQESRXqWHt8OnZxaqYXfDZspa9RG8kxdJq23vO9AnpBa0fgHVYmm3fAp7HBA3u+BV/mMiX4KNFF46XgO74KNgqgAMfAAANslQAAAMAAAMAAAMAAAMBVQAAADlBmiRsQr/94QAAAwCPexUx0SIHwQFlp3oG+c8CqGXkAA1dC9H1EGm0XnoGKnAlKDF9Vrzp+QD3CqEAAAAcQZ5CeIV/AAADAxBTCrDhfnRLYC6hBA6DLW5uHwAAABsBnmF0Qn8AAAMBz4oeZJPdyv1ZTN0irMd7h8AAAAASAZ5jakJ/AAADAAivx0swduVBAAAAN0GaaEmoQWiZTAhf//3xAAADAnsFDwE6e8iH/PovSVSqSJF+mgFLGihB5Lz/wVRJ8No/1xrS/IAAAAAoQZ6GRREsK/8AABWVKzdrYSl9jGbQAeKpwjgqsSdyC2YKi8JJCTUOOAAAABkBnqV0Qn8AACHDF2ippVPU+6L0ujcbjQPhAAAAGgGep2pCfwAABNZFYOBihpNoNxC8qn4m2g+OAAAAMUGarEmoQWyZTAhf//3xAAADAnsFFPvPkP1JOIBbL/6qgB8Q90CgLv8WnHXXAUcXoZ8AAAAaQZ7KRRUsK/8AABWcQ823FcysmUlDL7v49IEAAAAOAZ7pdEJ/AAADAAADAakAAAAXAZ7rakJ/AAAhvwQnEslpmrhWayllhoUAAAB8QZrwSahBbJlMCF///fEAAAMAWz05QYb+mZB3oAbjZBsTzTG6Ye6aLJCCi0Uy+dBBNwMC31Fiq9IuOob4k+BmFgodE5kstpJ0yebL3xsdnm6UAowgqe8WhzzpcGmULTAgLAADfN3JbgqGxZkhtQ061+Dd9wbSAsLhsvwAWAAAAB9Bnw5FFSwr/wAAAwEl5Oa8MMww9s7FPwePDaWhDGmBAAAAIAGfLXRCfwAABNcYINFvUR//zV9HmzDJtGpkuJL2m7WvAAAAIwGfL2pCfwAABNZFX2BHPEz1OzwG6A79LWjgQjp0eeq0ujh8AAAAOEGbNEmoQWyZTAhn//44QAAA/uquBFr8KxEpM4SKoGLgEHfTJSmRxry1cNI113EIIE7qBydVKavIAAAAG0GfUkUVLCv/AAAVnEPNtxXMrJlJPnakOkImNQAAAA4Bn3F0Qn8AAAMAAAMBqQAAABcBn3NqQn8AACG/BCcSyWmauFZVFuaCgwAAAFRBm3hJqEFsmUwIV//94QAAAwA0loPhzKzLwMEwO/V/dN3zjLnMs8ONAPqKohNRNsEvHrvD1r4bFOosoSVaJXtVy57W9srjL40yR3nSxjtv0N4Uu8AAAAAlQZ+WRRUsK/8AAAMC+oZIyyXMh/dw7FCEOOMlL3xLjVPEjoG6YQAAABsBn7V0Qn8AAAMArIucJ0BIxmjvEwvhRIOUZ8EAAAAQAZ+3akJ/AAADAEF+N7B1wQAAADpBm7pJqEFsmUwUTC///fEAAAMCf8n1m9wlZwj2xxgU74RHLrLbhest2RJNmqAZ9VHs3UX6kc9w9sO7AAAAGAGf2WpCfwAAIb8EJxLJcEZHP1pXkB/j0gAAABdBm9xJ4QpSZTBSwv/98QAAAwAAAwAekAAAACABn/tqQn8AAASzMPm7difn0aAqIzeY58RtEFY+K29BZwAAADhBm+BJ4Q6JlMCGf/44QAAA+Ce7OzUcoEVVPftfw696gb1RTIppPtWIE1MlivMa2cFTNhegVGEG4AAAACVBnh5FFTwr/wAAFQxNqNpitzOvJ0xC4ucMSkV97WBqAmVqeodwAAAAGgGePXRCfwAABLWHILXJ4/ATCOEQg4cGN0A5AAAAFQGeP2pCfwAAIL8aznveCbZirVCtgQAAAGFBmiRJqEFomUwIX//98QAAAwBYmZu/ILBh8rQtaAAiJCBnUkIl4lGVNrh2ztgTzLwJ7PuqSJ/uc89GhU8i4wngfD6Q6RUBERzGp5X+oQuokMh/8XHb7aofzqqpDmHVQ9SBAAAAJUGeQkURLCv/AAADARpOETrMqPAsuhE4KfmtJeUBFxn3Xci1+mAAAAAQAZ5hdEJ/AAADAAOfFHuFgAAAABwBnmNqQn8AAAMArKfMGIITeRPoO09NYdNzLd+nAAAALkGaaEmoQWyZTAhn//44QAAA9+lK74t5VtB5vH4vasCQVbnuMMEQBtH+Yqsmj+QAAAAYQZ6GRRUsK/8AABUMTajaZp5TTMUnSAXcAAAADgGepXRCfwAAAwAAAwGpAAAAFQGep2pCfwAAIL8aznveCbYrHfB/gAAAAFxBmqxJqEFsmUwIX//98QAAAwDn5k0ZhJhAFPwhx8ci/7UJh6wiDuPalYmke+BapnEHYcU+09oQNETRUJIK9B/KuE01WJe6iNQMey8jW0iiyl7RG3NxJLbwU6sfjQAAAB5BnspFFSwr/wAAB8QGhLTC/OjwSDBxQeufum1EHX0AAAAcAZ7pdEJ/AAAEtYcf3pInMthibgAQClvAHkcNgAAAABABnutqQn8AAAMAPgXIUGVBAAAAeUGa8EmoQWyZTAhn//44QAAAI7PhwgCI8lwyXTehbi7qn2ShUJcM72VLtsqX/tPPYpDgEukaV8PX9GsUxC4iHZ4e1VE6oEAbEwHnjgsoBbvwLXax0C1F33vSRuooDtJwX21thI0O4F7E9jCahw958Jpytyj8cgUZ0R8AAAAcQZ8ORRUsK/8AAAMC/THNeGAOMYwgG6cRAp5TcQAAAA4Bny10Qn8AAAMAAAMBqQAAACQBny9qQn8AAAS2RV2VCXA0+ehliVBhRqLyqw72OSykOI4eQ/cAAAA5QZs0SahBbJlMCFf//eEAAAMAhnI6DYqK46/7t0NlvWnnYDuiegITo1gzm2Ay8uQxchLPcQDQdjZEAAAAHEGfUkUVLCv/AAADARWBOepqVS684XvC+a5MMNMAAAAXAZ9xdEJ/AAADAAmq/jAE46fSej9V0aYAAAAQAZ9zakJ/AAADAAFizUMPgQAAAR1Bm3hJqEFsmUwIV//94QAABBuGoGUAwgr9ZlQv/4fPEXdxlrG2MUGyxmtj+f51PkfYFXTtk9uil+rq6D2HrQmKaro4Lai7FRpNSD16sSqHRKoA3DAMylvlEYmg5YFg091J6n0QJ9m01bECTY3SRQfD09tMdNOaAsCoUcj/dCFEutefnzWV+fdqox7b678o77ay5+EJMSAFXFf6+k7v9zIiLTNlOhRrZ8HYjU5+sDALfhaMYMPDDPjhtqs54nobCpLSkkdTpCb6fIYJKz1q82W3JE6DZb51QbxShS9zbSor/RQtUeTbZWr1Bv5nohuwOGfhQm/UUpt7MScNMqfrUgabm0rkfIjrxS2vUVL1V7IXBr0Fcm3GB1KblIew6voAAAAuQZ+WRRUsK/8AABa1K7Iy40pjUAPfnAZzNQYLMPu5QkJzUvjWhJ77E/wY/7HDpwAAAD0Bn7V0Qn8AACPDGAUBGlBwzVH1y03qWZnDqlAcuwUA/JIzURQVSiuF5grhaevgA1oPp3j6wRMLlVdhp1tBAAAADgGft2pCfwAAAwAAAwGpAAAAn0GbvEmoQWyZTAhf//3xAAADAozOXcFZd+8eOITGy7Il8e9a7VqZBm4sUMDMLnonQM4YVcDnzzN2l2ZnFSKGu2nbP/lTiAP22bUTYfxvD6dIj2SMIohIJKpJ/fTpNV2R+Pgwjp/YLfMKWBcwb7QKLepR4FL8YQRwsb2xFTKvX06LxVJInHKrbls9/2ZgmJroQ6zHjGLsEO1Ivf68JLWs4QAAAB5Bn9pFFSwr/wAACGv663aJSGWRKxeAjxhD853OxgMAAAAiAZ/5dEJ/AAANhdCqlUcPFjzNhFWCbEYnnV1VcJdQWF1C3AAAABABn/tqQn8AAAMAQ4TQZQXdAAAAaEGb4EmoQWyZTAhX//3hAAAEE3NkAKB2n/sCCT1UkHAkrr2algO00HptelgTFgmi5dfSnccZhUQL5oJL+ubXtkNFqRGkGu+w6h32EY6RJTurd1Ezy69GkRW2AnTEeV/tbeLOSX4KzJXgAAAAK0GeHkUVLCv/AAAWvEPN3ChDlC+TDAHgnvAuLsSNAtcObKdY8X6LqvspwIAAAAAfAZ49dEJ/AAANhd0vbJLjxi28wkHiUWdDFFN60pyLcQAAABoBnj9qQn8AACO/BCcSyWmauFZVFg9Gnrp8+QAAAE5BmiRJqEFsmUwIX//98QAAAwD5eajAEYaTBBiewoAVv9x+UfpNsi0TbWX+T2qMQSrYKcf+9Nap4HFTb9pqnCGy1RhKnrM794hEcmtKgOUAAAAkQZ5CRRUsK/8AAAMDOTB5tqbD1FcZhD69SiQzB+bDr2EW4YDAAAAAJAGeYXRCfwAAI8C438FeknZGBIUQ2REfDdgnOQ3jq9zfp56SMAAAABwBnmNqQn8AAAUfMJZ7iS01q5PmA9AcF4vkeP4DAAAAK0GaaEmoQWyZTAhf//3xAAADAqC1AlPfHkBb7/bN8ikXffBC9sHNQlq8owoAAAAcQZ6GRRUsK/8AABa8Q823FcysmUlCO1EsEdMf4AAAABkBnqV0Qn8AACO4r9xVe6qrYhoJEPC54INrAAAAGQGep2pCfwAAI7HMCW+pao9nUHmA+ScI6YAAAAA3QZqsSahBbJlMCF///fEAAAMAX/zPoNyNLullNm2DuK7sdw/XdUggHLomLU2AAZTYQH/DNqEnQQAAAB5BnspFFSwr/wAAAwM4TWbta0v3ThPyKbvGkVNnE7cAAAAaAZ7pdEJ/AAAFH8vtFTSqep95KnJKG7PaK2YAAAAOAZ7rakJ/AAADAAADAakAAABkQZrwSahBbJlMCGf//jhAAAAmsyxPplrEj8H6QhlPW3od6oHsBmWy7emAhVokRCZnoxxEd8yWgMcph3xwbH4bPzDzeQi1sD9+QASHexDC2qb3wqXO64vWAHn8YQDYwV2iOZheOwAAACNBnw5FFSwr/wAAAwM5Mc2YVI6p9LncChq6KDHheofREnNQMQAAAA4Bny10Qn8AAAMAAAMBqQAAABsBny9qQn8AAAUfNNWxkwvP68AVDV/NkEWw7cAAAAAeQZs0SahBbJlMCF///fEAAAMAALnPqAGn7vZV7EzAAAAAEEGfUkUVLCv/AAADAAADAQcAAAAOAZ9xdEJ/AAADAAADAakAAAAOAZ9zakJ/AAADAAADAakAAABJQZt4SahBbJlMCGf//jhAAAENkuWyvTIUu5+ukTMYyaR6pjQhq7jSxi8vAVxjUNG5nNAAn9n+g/rGH0quHpZF74RXHLM1MLGyIAAAAB1Bn5ZFFSwr/wAAFrUrN2taXriig8IwsDncx5qHJQAAACMBn7V0Qn8AACOr+Ft4FAtfOyUbHLEzrv3z9vULYXlu3d9YoQAAAA4Bn7dqQn8AAAMAAAMBqQAAAEdBm7xJqEFsmUwIV//94QAAAwCSXzWqr4Oe/5DQJRHptl32kDNbqAUGGEYX0Gz2CMitSwmFEq64T388AwkvQnNBsIUX5cc4wQAAAB9Bn9pFFSwr/wAAAwMlMc2YXTnxi9+Zy84MKPHI2RbMAAAADgGf+XRCfwAAAwAAAwGpAAAAGwGf+2pCfwAABPs01bG1aRYPrzw1hoDKyjqSYQAAAC9Bm+BJqEFsmUwIZ//+OEAAAQz64J5c0oquCftaZMAQQEUqJdnUiHYkJtWJcxYwIAAAABtBnh5FFSwr/wAAFrxDzbcVzKyZSMkeecucDMgAAAAaAZ49dEJ/AAAjuK/cVXuoj+hRkaS/iDEdobMAAAAZAZ4/akJ/AAAjscwJb6WTQDpGlD9HnGCXgQAAAEJBmiRJqEFsmUwIX//98QAAAwANiI5GABxcLIcaDjxerMFlXRh20CA2yGD2oCBSbhvk/GFiu5i59L47NWpOa3sSAI0AAAAbQZ5CRRUsK/8AAAMAc/+k3a1phcYOFJdOiHtmAAAAHQGeYXRCfwAABOoRx+YzYtlghil0LzUlYhHTz2SYAAAADgGeY2pCfwAAAwAAAwGpAAAAOkGaaEmoQWyZTAhn//44QAABDPrgn68BXZYm32tVR13KIzlE/jg1EZXyMEnksJbmj/4M3oJoZGNg7oAAAAAbQZ6GRRUsK/8AABa8Q823FdBrQ59Jpoap1CNgAAAADgGepXRCfwAAAwAAAwGpAAAAGAGep2pCfwAAI78EJxLJcEZHPwrq35cEvAAAABdBmqxJqEFsmUwIX//98QAAAwAAAwAekQAAABBBnspFFSwr/wAAAwAAAwEHAAAADgGe6XRCfwAAAwAAAwGpAAAADgGe62pCfwAAAwAAAwGpAAAARUGa8EmoQWyZTAhf//3xAAADAp8FYOCN/rjng2t/SIy3FpiQeBt6AcBXD4Zp5wpFfwPKa66iWNWbdt+iyDCt64GyYPZQcAAAADRBnw5FFSwr/wAAFrxDzbbZeJXJi1oUwAtbSQN2jYpvBm0A7phKlasinQX8SF2LKcaShYdvAAAAGwGfLXRCfwAADS4Ticf3gLWb0ejUzEoSuOsckQAAAB4Bny9qQn8AACO/BCcSyWmazMMyZxuJDP0Y9C/SyTAAAABVQZs0SahBbJlMCG///oywAAAKF7D76Oku/jFUstfIGQC4KFx4+ABUNc9McP8rcDJdv54Yluu2Wr6Ya78YiK+tcDmjrfO633x04R7pHWQgVljvxAUpswAAACNBn1JFFSwr/wAAAwE15Oa9r55fXbDBAOjj/bjbAjNbmXBlswAAAA4Bn3F0Qn8AAAMAAAMBqQAAABwBn3NqQn8AAAUfNNWxeo6iyW/xdwZjPv394ltnAAAAFkGbeEmoQWyZTAhn//44QAAAAwAADKgAAAAQQZ+WRRUsK/8AAAMAAAMBBwAAAA4Bn7V0Qn8AAAMAAAMBqQAAAA4Bn7dqQn8AAAMAAAMBqQAAAENBm7xJqEFsmUwIV//94QAAAwA3P0MUEp4J+Tm+Tmiso4ZTGKm9qAWn0eFA2USvMIyrRBSWVOBoemE+CRrA7JQq3Lz9AAAAIEGf2kUVLCv/AAADAyJxVByGwsojcdZZPT8AQcNoCICAAAAAGgGf+XRCfwAABPvQwc89pkgLcPIFanalVZJgAAAADwGf+2pCfwAABPs1CgCggQAAADRBm+BJqEFsmUwIZ//+OEAAAQz64zTT9H3pt4A9koi6hR1nmW024ArSArb3OzV/HbnR0KY+AAAAGEGeHkUVLCv/AAAWtSs3a1peuKKF5yBDPgAAABcBnj10Qn8AACOr+Ft4Ep1oI4glyJYesQAAAA4Bnj9qQn8AAAMAAAMBqQAAACZBmiRJqEFsmUwIV//94QAAAwP1sxhmxnrMXwzZNjxBYqxkcIyrFwAAABBBnkJFFSwr/wAAAwAAAwEHAAAADgGeYXRCfwAAAwAAAwGpAAAADgGeY2pCfwAAAwAAAwGpAAAAMEGaaEmoQWyZTAhn//44QAABDPrd+K6Nq5rE/kVnDvISaMqNCRlAFz1kvaI5eBdw/AAAAB5BnoZFFSwr/wAAFrUrN2taXriig8IwsDncx4pYVPgAAAAjAZ6ldEJ/AAAjq/hbeBmuUhcOdmAgDrKgpl+UO0+ZAkTAe28AAAAQAZ6nakJ/AAADAAFQzUMXgAAAAEdBmqxJqEFsmUwIX//98QAAAwBc2Jka6dVW2eR4PuEo4MeWu6nWnjwBPeKLmbPZzHWx4YRT8uL6HtuYdY+N33HYH7iscRju4QAAACFBnspFFSwr/wAAAwBxYj6YI1Q3XooycU14nINJ2ryt96EAAAAQAZ7pdEJ/AAADAAFQFv49gAAAAB0BnutqQn8AAAT8ge8dxXWAcd8UtXgR8THDSjcMoQAAAENBmvBJqEFsmUwIX//98QAAAwKfBSoMQe+U1L2ZLKAwkf6XzIMMma9lDAOzL27Q8s3BRY5nGlX9r58pbDr5CQDrCAZUAAAAIEGfDkUVLCv/AAAWtSs3a1sgrRlBdvtA2mPcrRiJYgufAAAAIgGfLXRCfwAAI8MXaI0fZMmZL6xrp05vIVlT0OARP4lFz4EAAAARAZ8vakJ/AAAE+zUKfFl+YEAAAABDQZs0SahBbJlMCGf//jhAAAAmqfVqUANfhZE83Usz9rMK3aJ09xF3S6BTnQBloFZSnTd1bUDO/qKdguTzzzaG1TT+RgAAAB9Bn1JFFSwr/wAAAwM4UICoY6EKB0nUNWCRZWKT4dzBAAAAHAGfcXRCfwAABPhc4j/KPzp03moj1YUdKkqCBNgAAAATAZ9zakJ/AAAE+zUNdQtGa5IggQAAAHlBm3hJqEFsmUwIX//98QAAAwAivUFfWRGzcqAICfFY3r9/JCJT3aH9+AHLkI5bUpDdkBZ/yBbQFguIEUIwMnN9YrM8j/2EvCKrIiiXXZAMSBDcOI6176G5KWV2pCZdQCmDG3vYWiREbU8bk4o62PJAQtd3nZXKm30gAAAAJEGflkUVLCv/AAADAyW77JiCZ9EtcChbq/jZVBNiARfEZA3QWQAAABUBn7V0Qn8AAAT4XBVVFms21/Edz/EAAAAcAZ+3akJ/AAAE+zTV3tuIaoJIG+jwwucXArlj4QAAAEdBm7xJqEFsmUwIZ//+OEAAAQ7++B4R/2lRBeDxJnyL6D9hJ64CT4Sp1ohCa4UEjhEEIjc0mFMsu+vj+6AVQ5YyoK0zyEVuzQAAAB9Bn9pFFSwr/wAAFrMsA547lw25tt9gGx6CzdUcMLuAAAAAEAGf+XRCfwAAAwAJ8Lfsx4AAAAAXAZ/7akJ/AAAjscwJb6lvshVShPNyaqkAAAAZQZvgSahBbJlMCF///fEAAAMABNvaw68A/wAAABBBnh5FFSwr/wAAAwAAAwEHAAAADgGePXRCfwAAAwAAAwGpAAAAMQGeP2pCfwAABRthz+0AFBsLhijCzAeBdOA14f0wwHKEoLX2JgsOxojLO8cnjbAdDBkAAABmQZokSahBbJlMCG///oywAABEAvreAiZOBDk3d51WeUmxFJfX2bYCkb27hadZCzCJUvBUMgGXt9GUERyV9v+M6UTj04aDaGVuQkXvoh7O1LuESVppS9VRjUMcNZ/iZGDf0jmfGbKBAAAAJUGeQkUVLCv/AAAWLE5sqiz4NFAn2rsV9h/o7pRhEtxAonOM3GUAAAAOAZ5hdEJ/AAADAAADAakAAAAlAZ5jakJ/AAAisisBLfv+GphulUxm8/mW/8jS7y+Q5VoX279m4QAAACdBmmhJqEFsmUwIZ//+OEAAAQ7++B4R7xSZKv2Bhfd+1I7k5SDhkfAAAAAQQZ6GRRUsK/8AAAMAAAMBBwAAACwBnqV0Qn8AAAMAtVG7iAASxT7KYt8Binnj4o1Ae337arXwkH7BkVle8Mf7fwAAAA4BnqdqQn8AAAMAAAMBqQAAAE1BmqxJqEFsmUwIV//94QAAAwCSz/rnejU7jL3XzOYBVTuWPrExhARNGEYX0XsPyyVCsL3I1M/C5CXzDe2Mo9G1kY1f0Sp0DbA75YBDyQAAAB9BnspFFSwr/wAAAwMkUt+urACdOklxmXRVuSGMaOWBAAAAIAGe6XRCfwAAAwHaJnjtA+1d5Vet29zYB9y0sEqM7T+fAAAAHgGe62pCfwAABPyB7xes9uAzsY9UWXvFKev/qaz8+QAAADNBmvBJqEFsmUwIZ//+OEAAAQT65bkneeniz6gDVWd1WpeAOY9CiQEXLe7lhFlsx5w02YAAAAAyQZ8ORRUsK/8AABYlWFTW3vNL3uui3oAAtmsRgHVVtl6lRV4WTWTNrwx0PaD8HS8acsEAAAAeAZ8tdEJ/AAAiwzpnaIFCnjZbYcX5XziInXA8el1PAAAAHgGfL2pCfwAAAwHbf9Vsayz0mChQtY/LX92BPRCumAAAABlBmzRJqEFsmUwIX//98QAAAwAAGT91rXmVAAAAEEGfUkUVLCv/AAADAAADAQcAAAAkAZ9xdEJ/AAADALNOjOJ7sDHTGoKF3sS/9k53JUzPUUq4JpywAAAADgGfc2pCfwAAAwAAAwGpAAAAQ0GbeEmoQWyZTAhv//6MsAAARAL8MQDMzwNfh8pAxnWjheToh/HJ3oc+8VDSSXphrxxYagTl9Ltw/jHrlP6BppgpvKgAAAAkQZ+WRRUsK/8AABYsTajaYrczryd2lLhyi/MbQldZLaPyF0bNAAAAHwGftXRCfwAAAwHV8b/5iWcryLdumGkpjomh16h8b0EAAAAnAZ+3akJ/AAAisisGIQiqnrlPVp4ZuYB6LHJ9wlfqU7oqlgrcfI+nAAAAeEGbvEmoQWyZTAhn//44QAAAZGY4u+Ui69VMIIAWtrzis4xGOv5/WsSz1Cj3q4tz7MhkgajzAaKJr1gvy+g/3LsbNxRW76OFzM/onixtAQnPQ1kNCZxu0qAammtr4cXBHlttew2LvNk64lHvragv5QtUpB85MeTewQAAACFBn9pFFSwr/wAAAwEt5ObMLYUmYrhF8KfEx7AYuj5u2tgAAAAQAZ/5dEJ/AAADAAB8Io/bQAAAABwBn/tqQn8AAAMAteaatja9KwXq4fnvjmlSoochAAAAGUGb4EmoQWyZTAhP//yEAAADAFHMYpIICXgAAAASQZ4eRRUsK/8AAAMAcUByAIuAAAAAJQGePXRCfwAAAwHV8cJjpN1PpSfJRI5zXp6VUPfpPSzy6W3Ryq0AAAAQAZ4/akJ/AAADALqQP7Aq4QAAAEtBmiFJqEFsmUwIZ//+OEAAAQWVX0YgCgygjWpzea+TSkUpu2RgYXc1DKJ+9WiC0wzjPMLBK42+DTsykoiltEsHCcUOuyY/WnCN8+EAAAAhQZpFSeEKUmUwIX/98QAAAwKjyfbc2bycyzIyE+gAgKCAAAAAPkGeY0U0TCv/AAAH3AECCPyZEmkMhPHA6ycBABxT8kCiypON/KbG3qnvCmHs4wC8Gb4jC8xWLqivH7Mx5umAAAAALgGegnRCfwAADN4S8+DNPh+fpKa3F+jhrPDuvNW1ZIQIgBC+DHnMB/F8cbVVDdMAAAAfAZ6EakJ/AAAM5J2rY2u1PGciUnMNtu/wBBxnSybegAAAADtBmolJqEFomUwIX//98QAAAwKNBWDgNMDOrSxbiuppsF5ZbPkfdTd2991fk8atb5OkkjQqmrqajuN8+AAAAChBnqdFESwr/wAAFixDzRy4OXaAAAG6ltOyrXWKwb2yzYbmNvCHan6RAAAAFwGexnRCfwAADS4A02EP7DiNEWP2FjqgAAAAGAGeyGpCfwAAIr8EJxLJaZq5fIBkmjSBSQAAAFpBms1JqEFsmUwIZ//+OEAAAP18oknRvdXSmUfPReKEKpeVV0pqcDY48I3CaR/If80A0zjXJFK/1Us4QvEO2bXvFmZnQhGXdOunB9nd3ynEZ3smdNBAW1YarVkAAAAdQZ7rRRUsK/8AAAMDJFMKsVl3k7RveTcPltM/PKQAAAAbAZ8KdEJ/AAAE+Ft5kseEyWeh2wMRRwl44mpBAAAADgGfDGpCfwAAAwAAAwGpAAAAOUGbEUmoQWyZTAhX//3hAAADAI5fOCSoZvcsBq2UVvOKTpVxwlM5ZX/zjL0sYICiNlxtGYC7IiYZ2QAAAB5Bny9FFSwr/wAAAwMRMc2YXTnxi9+Zy84MKNLiRC0AAAAOAZ9OdEJ/AAADAAADAakAAAAbAZ9QakJ/AAAE1kVg4u427FRJGgOMllYWTsbAAAAATEGbVUmoQWyZTAhf//3xAAADAo0FHTZLQnICJpX93Jb61H/AbRRIAf/eCrMXnhAq9loXTcYi9mMvWA/V3qn+QeE3+Nvb2/9+V87TojcAAAAtQZ9zRRUsK/8AABYlKzdrWIcFubibizhADYXp98JCe4mCcmJqkOCaseDHdK70AAAAHwGfknRCfwAAIqv4W3gSnYefTZBaf58BJSXUHXJEDxcAAAAQAZ+UakJ/AAADALFmoUCPgAAAAERBm5lJqEFsmUwIX//98QAAAwANM+T/f+6nQxrqxa7H3J20Td8HagAxlcflRcj9NzPFB/p3qqZvCBgsVSwzsabZuZgp2QAAACRBn7dFFSwr/wAAAwEuB4ITKnwAtfXAAJaxNux/7z4D7jU/bUkAAAAbAZ/WdEJ/AAADAdqKHhmoeKtb5+zRHnigPQYJAAAAEwGf2GpCfwAAAwHbf9Vur+GncMEAAABHQZvdSahBbJlMCGf//jhAAAEFlWxd4CGXGQAsLYYN41SDmOrmdtfl3e4QAeChTT+PCabqEO31yBFKgB5Ul2ggKlWGpR/kDAcAAAAkQZ/7RRUsK/8AABYlKzdrYSl9gwX7FQ+wJlkGoewAAJPv93BAAAAAGgGeGnRCfwAAIsMXaKmlU4EhcQe2Vxgbe+T5AAAAGgGeHGpCfwAABPk+YOBt2/E/ERn5KLRxLV5wAAAAIEGaAUmoQWyZTAhf//3xAAADAA0/3ekAX5LY4lf+qka2AAAAFUGeP0UVLCv/AAADAADn9rLj5mqUIQAAABABnl50Qn8AAAMAAHwij9tBAAAAEgGeQGpCfwAAAwABdM1ruDu8wQAAADdBmkVJqEFsmUwIb//+jLAAAEQlpJVWoCuwIAPsqwsaMvBL6VJQ6zUyIxhpqaaZ7m+4GnjnfimYAAAALkGeY0UVLCv/AAAWLEPNtVJWPHA8B/hgmH0mmPDJmTOzx9YZ9CJBieOK6nRDqOcAAAAdAZ6CdEJ/AAADAc+KeE6AkYkoc0V5errXbgorf0EAAAAhAZ6EakJ/AAAiscwPdty/xivVrFCe80cLkOnlS4KfyMrYAAAAT0GaiUmoQWyZTAhn//44QAAAJbKTi5VWyiI+6PrDcv+j3LCoNM8UL2AUE6pJwOrbd/XvivO6AieoPVipr45taHtDpPvX5FTOrJkkfqpnFIAAAAAlQZ6nRRUsK/8AAAhqP4F55i2ku3rKyZq1+ERxOiAOTOVFjBAOOQAAABIBnsZ0Qn8AAAMAAXQXMDOgUIAAAAAcAZ7IakJ/AAAE+T+bOwUBejRu0a5wBqV3OWb0wQAAABpBms1JqEFsmUwIX//98QAAAwAAGx3/bcrAwQAAABVBnutFFSwr/wAACGo/SiuHhsHq8pAAAAASAZ8KdEJ/AAADAAF0FzAzoFCBAAAAEAGfDGpCfwAAAwAAfF/5BUAAAAA4QZsRSahBbJlMCGf//jhAAAEE+uCeXO6OQAr9w1wMIsolaw79FEfifOXi5VhHGK20gqNAZdDzd58AAAAhQZ8vRRUsK/8AABYlK0eGdrk72YVNhymcEZHs3chxzgOnAAAAIwGfTnRCfwAAIsMXaIsoGexeYtGco3x58z6tGblfWvfe5BDkAAAAEgGfUGpCfwAAAwABdM1ruDu8wAAAADJBm1VJqEFsmUwIV//94QAAAwGT9G/6cjEvfO0PmBvnwpAMf+aYVPEoi/T+kPqKgYMOkwAAAB9Bn3NFFSwr/wAAAwBupkLb01GRRgrse0xsWEml+M6mAAAAEgGfknRCfwAAAwABdBcwM6BQgQAAABwBn5RqQn8AAAzcyGuJBFft52JvOjICRha9rwjnAAAAMEGbmUmoQWyZTAhf//3xAAADAo0FHTZLQ0Y80EaGB1hbrPJWj28152JNF4wMp6sFnwAAACJBn7dFFSwr/wAAFiUrN2taXsmHMcZXcwuTNfY6uRChW0chAAAAHQGf1nRCfwAAIqv4W3gSnWgjiBGeuRoD3QvyEDnBAAAAEAGf2GpCfwAAAwAAfF/5BUEAAAFjZYiEAD///vbw/gU2O5jQlxHN6J0zH78VuLo0N73OAAADAAADAAAI0IvBbWOwLYz4AAAFqADkB4hihgCJirFQJUUDwWj5SAKwCLV6iwPN85khz7XlzVGL6tgEk4KASDN01wDEWRPtHliT7/OKIFCBua9fwceUuho1nh1fzdM0cFZ+0F8cYIlAO6TISUH9c7itSNnaEvUhhEw1kKa/f75hfdiGo6XaKKxDD4CcP+QM+bQgC1quM3VefUduQRmu0RXx12aVY/ov0lyJJuel2iYPOKCSj6giiXuS7KibLnaQEb27ZOXfTfzaP/lNR3LXBAVBxGKtG6jFvsECZKX4gWrcVeK6hc7wEJww7H7xJ40aAuw/6z3CO+5WZJeMC4W4OPX16AXIeQTxLQTTduvvdQ+Je6FFYuM1rTbeJzvKDhf1QFq7z7QGiPqmZKXab/scIAADh8iUZZmETti5gAAAAwAAAwDZgAAAABFBmiRsQn/8hAAAAwAAAwDAgAAAACBBnkJ4hP8AAAMAAjuAFceLWaKM+qYAAAMAAaLKplg2YQAAAA4BnmF0Qn8AAAMAAAMBqQAAAA4BnmNqQn8AAAMAAAMBqQAAMhVtb292AAAAbG12aGQAAAAAAAAAAAAAAAAAAAPoAACC3AABAAABAAAAAAAAAAAAAAAAAQAAAAAAAAAAAAAAAAAAAAEAAAAAAAAAAAAAAAAAAEAAAAAAAAAAAAAAAAAAAAAAAAAAAAAAAAAAAAAAAAACAAAxP3RyYWsAAABcdGtoZAAAAAMAAAAAAAAAAAAAAAEAAAAAAACC3AAAAAAAAAAAAAAAAAAAAAAAAQAAAAAAAAAAAAAAAAAAAAEAAAAAAAAAAAAAAAAAAEAAAAACYAAAAZAAAAAAACRlZHRzAAAAHGVsc3QAAAAAAAAAAQAAgtwAAAQAAAEAAAAAMLdtZGlhAAAAIG1kaGQAAAAAAAAAAAAAAAAAADwAAAfaAFXEAAAAAAAtaGRscgAAAAAAAAAAdmlkZQAAAAAAAAAAAAAAAFZpZGVvSGFuZGxlcgAAADBibWluZgAAABR2bWhkAAAAAQAAAAAAAAAAAAAAJGRpbmYAAAAcZHJlZgAAAAAAAAABAAAADHVybCAAAAABAAAwInN0YmwAAACWc3RzZAAAAAAAAAABAAAAhmF2YzEAAAAAAAAAAQAAAAAAAAAAAAAAAAAAAAACYAGQAEgAAABIAAAAAAAAAAEAAAAAAAAAAAAAAAAAAAAAAAAAAAAAAAAAAAAAAAAAAAAY//8AAAAwYXZjQwFkAB7/4QAYZ2QAHqzZQJgzoQAAAwABAAADADwPFi2WAQAFaOvnLIsAAAAYc3R0cwAAAAAAAAABAAAD7QAAAgAAAAAkc3RzcwAAAAAAAAAFAAAAAQAAAPsAAAH1AAAC7wAAA+kAAB9QY3R0cwAAAAAAAAPoAAAAAQAABAAAAAABAAAKAAAAAAEAAAQAAAAAAQAAAAAAAAABAAACAAAAAAEAAAoAAAAAAQAABAAAAAABAAAAAAAAAAEAAAIAAAAAAQAACgAAAAABAAAEAAAAAAEAAAAAAAAAAQAAAgAAAAABAAAKAAAAAAEAAAQAAAAAAQAAAAAAAAABAAACAAAAAAEAAAoAAAAAAQAABAAAAAABAAAAAAAAAAEAAAIAAAAAAQAACgAAAAABAAAEAAAAAAEAAAAAAAAAAQAAAgAAAAABAAAKAAAAAAEAAAQAAAAAAQAAAAAAAAABAAACAAAAAAEAAAoAAAAAAQAABAAAAAABAAAAAAAAAAEAAAIAAAAAAQAACgAAAAABAAAEAAAAAAEAAAAAAAAAAQAAAgAAAAABAAAKAAAAAAEAAAQAAAAAAQAAAAAAAAABAAACAAAAAAEAAAoAAAAAAQAABAAAAAABAAAAAAAAAAEAAAIAAAAAAQAACgAAAAABAAAEAAAAAAEAAAAAAAAAAQAAAgAAAAABAAAKAAAAAAEAAAQAAAAAAQAAAAAAAAABAAACAAAAAAEAAAoAAAAAAQAABAAAAAABAAAAAAAAAAEAAAIAAAAAAQAACgAAAAABAAAEAAAAAAEAAAAAAAAAAQAAAgAAAAABAAAKAAAAAAEAAAQAAAAAAQAAAAAAAAABAAACAAAAAAEAAAoAAAAAAQAABAAAAAABAAAAAAAAAAEAAAIAAAAAAQAACgAAAAABAAAEAAAAAAEAAAAAAAAAAQAAAgAAAAABAAAKAAAAAAEAAAQAAAAAAQAAAAAAAAABAAACAAAAAAEAAAoAAAAAAQAABAAAAAABAAAAAAAAAAEAAAIAAAAAAQAACgAAAAABAAAEAAAAAAEAAAAAAAAAAQAAAgAAAAABAAAEAAAAAAEAAAoAAAAAAQAABAAAAAABAAAAAAAAAAEAAAIAAAAAAQAACgAAAAABAAAEAAAAAAEAAAAAAAAAAQAAAgAAAAABAAAKAAAAAAEAAAQAAAAAAQAAAAAAAAABAAACAAAAAAEAAAoAAAAAAQAABAAAAAABAAAAAAAAAAEAAAIAAAAAAQAACgAAAAABAAAEAAAAAAEAAAAAAAAAAQAAAgAAAAABAAAKAAAAAAEAAAQAAAAAAQAAAAAAAAABAAACAAAAAAEAAAoAAAAAAQAABAAAAAABAAAAAAAAAAEAAAIAAAAAAQAACgAAAAABAAAEAAAAAAEAAAAAAAAAAQAAAgAAAAABAAAKAAAAAAEAAAQAAAAAAQAAAAAAAAABAAACAAAAAAEAAAoAAAAAAQAABAAAAAABAAAAAAAAAAEAAAIAAAAAAQAACgAAAAABAAAEAAAAAAEAAAAAAAAAAQAAAgAAAAABAAAKAAAAAAEAAAQAAAAAAQAAAAAAAAABAAACAAAAAAEAAAoAAAAAAQAABAAAAAABAAAAAAAAAAEAAAIAAAAAAQAACgAAAAABAAAEAAAAAAEAAAAAAAAAAQAAAgAAAAABAAAKAAAAAAEAAAQAAAAAAQAAAAAAAAABAAACAAAAAAEAAAoAAAAAAQAABAAAAAABAAAAAAAAAAEAAAIAAAAAAQAACgAAAAABAAAEAAAAAAEAAAAAAAAAAQAAAgAAAAABAAAKAAAAAAEAAAQAAAAAAQAAAAAAAAABAAACAAAAAAEAAAoAAAAAAQAABAAAAAABAAAAAAAAAAEAAAIAAAAAAQAACgAAAAABAAAEAAAAAAEAAAAAAAAAAQAAAgAAAAABAAAKAAAAAAEAAAQAAAAAAQAAAAAAAAABAAACAAAAAAEAAAoAAAAAAQAABAAAAAABAAAAAAAAAAEAAAIAAAAAAQAACgAAAAABAAAEAAAAAAEAAAAAAAAAAQAAAgAAAAABAAAKAAAAAAEAAAQAAAAAAQAAAAAAAAABAAACAAAAAAEAAAoAAAAAAQAABAAAAAABAAAAAAAAAAEAAAIAAAAAAQAACgAAAAABAAAEAAAAAAEAAAAAAAAAAQAAAgAAAAABAAAKAAAAAAEAAAQAAAAAAQAAAAAAAAABAAACAAAAAAEAAAoAAAAAAQAABAAAAAABAAAAAAAAAAEAAAIAAAAAAQAACgAAAAABAAAEAAAAAAEAAAAAAAAAAQAAAgAAAAABAAAKAAAAAAEAAAQAAAAAAQAAAAAAAAABAAACAAAAAAEAAAoAAAAAAQAABAAAAAABAAAAAAAAAAEAAAIAAAAAAQAACgAAAAABAAAEAAAAAAEAAAAAAAAAAQAAAgAAAAABAAAKAAAAAAEAAAQAAAAAAQAAAAAAAAABAAACAAAAAAEAAAoAAAAAAQAABAAAAAABAAAAAAAAAAEAAAIAAAAAAQAACAAAAAACAAACAAAAAAEAAAoAAAAAAQAABAAAAAABAAAAAAAAAAEAAAIAAAAAAQAACgAAAAABAAAEAAAAAAEAAAAAAAAAAQAAAgAAAAABAAAGAAAAAAEAAAIAAAAAAQAACgAAAAABAAAEAAAAAAEAAAAAAAAAAQAAAgAAAAABAAAKAAAAAAEAAAQAAAAAAQAAAAAAAAABAAACAAAAAAEAAAoAAAAAAQAABAAAAAABAAAAAAAAAAEAAAIAAAAAAQAACAAAAAACAAACAAAAAAEAAAQAAAAAAQAACgAAAAABAAAEAAAAAAEAAAAAAAAAAQAAAgAAAAABAAAKAAAAAAEAAAQAAAAAAQAAAAAAAAABAAACAAAAAAEAAAoAAAAAAQAABAAAAAABAAAAAAAAAAEAAAIAAAAAAQAACgAAAAABAAAEAAAAAAEAAAAAAAAAAQAAAgAAAAABAAAKAAAAAAEAAAQAAAAAAQAAAAAAAAABAAACAAAAAAEAAAoAAAAAAQAABAAAAAABAAAAAAAAAAEAAAIAAAAAAQAACgAAAAABAAAEAAAAAAEAAAAAAAAAAQAAAgAAAAABAAAKAAAAAAEAAAQAAAAAAQAAAAAAAAABAAACAAAAAAEAAAoAAAAAAQAABAAAAAABAAAAAAAAAAEAAAIAAAAAAQAACgAAAAABAAAEAAAAAAEAAAAAAAAAAQAAAgAAAAABAAAGAAAAAAEAAAIAAAAAAQAACAAAAAACAAACAAAAAAEAAAoAAAAAAQAABAAAAAABAAAAAAAAAAEAAAIAAAAAAQAACgAAAAABAAAEAAAAAAEAAAAAAAAAAQAAAgAAAAABAAAKAAAAAAEAAAQAAAAAAQAAAAAAAAABAAACAAAAAAEAAAoAAAAAAQAABAAAAAABAAAAAAAAAAEAAAIAAAAAAQAABAAAAAABAAAKAAAAAAEAAAQAAAAAAQAAAAAAAAABAAACAAAAAAEAAAoAAAAAAQAABAAAAAABAAAAAAAAAAEAAAIAAAAAAQAACgAAAAABAAAEAAAAAAEAAAAAAAAAAQAAAgAAAAABAAAKAAAAAAEAAAQAAAAAAQAAAAAAAAABAAACAAAAAAEAAAoAAAAAAQAABAAAAAABAAAAAAAAAAEAAAIAAAAAAQAACgAAAAABAAAEAAAAAAEAAAAAAAAAAQAAAgAAAAABAAAKAAAAAAEAAAQAAAAAAQAAAAAAAAABAAACAAAAAAEAAAoAAAAAAQAABAAAAAABAAAAAAAAAAEAAAIAAAAAAQAACgAAAAABAAAEAAAAAAEAAAAAAAAAAQAAAgAAAAABAAAKAAAAAAEAAAQAAAAAAQAAAAAAAAABAAACAAAAAAEAAAoAAAAAAQAABAAAAAABAAAAAAAAAAEAAAIAAAAAAQAACgAAAAABAAAEAAAAAAEAAAAAAAAAAQAAAgAAAAABAAAKAAAAAAEAAAQAAAAAAQAAAAAAAAABAAACAAAAAAEAAAoAAAAAAQAABAAAAAABAAAAAAAAAAEAAAIAAAAAAQAACgAAAAABAAAEAAAAAAEAAAAAAAAAAQAAAgAAAAABAAAKAAAAAAEAAAQAAAAAAQAAAAAAAAABAAACAAAAAAEAAAoAAAAAAQAABAAAAAABAAAAAAAAAAEAAAIAAAAAAQAACgAAAAABAAAEAAAAAAEAAAAAAAAAAQAAAgAAAAABAAAKAAAAAAEAAAQAAAAAAQAAAAAAAAABAAACAAAAAAEAAAoAAAAAAQAABAAAAAABAAAAAAAAAAEAAAIAAAAAAQAACgAAAAABAAAEAAAAAAEAAAAAAAAAAQAAAgAAAAABAAAKAAAAAAEAAAQAAAAAAQAAAAAAAAABAAACAAAAAAEAAAoAAAAAAQAABAAAAAABAAAAAAAAAAEAAAIAAAAAAQAACgAAAAABAAAEAAAAAAEAAAAAAAAAAQAAAgAAAAABAAAKAAAAAAEAAAQAAAAAAQAAAAAAAAABAAACAAAAAAEAAAoAAAAAAQAABAAAAAABAAAAAAAAAAEAAAIAAAAAAQAACAAAAAACAAACAAAAAAEAAAoAAAAAAQAABAAAAAABAAAAAAAAAAEAAAIAAAAAAQAACgAAAAABAAAEAAAAAAEAAAAAAAAAAQAAAgAAAAABAAAKAAAAAAEAAAQAAAAAAQAAAAAAAAABAAACAAAAAAEAAAoAAAAAAQAABAAAAAABAAAAAAAAAAEAAAIAAAAAAQAACgAAAAABAAAEAAAAAAEAAAAAAAAAAQAAAgAAAAABAAAKAAAAAAEAAAQAAAAAAQAAAAAAAAABAAACAAAAAAEAAAoAAAAAAQAABAAAAAABAAAAAAAAAAEAAAIAAAAAAQAACgAAAAABAAAEAAAAAAEAAAAAAAAAAQAAAgAAAAABAAAKAAAAAAEAAAQAAAAAAQAAAAAAAAABAAACAAAAAAEAAAoAAAAAAQAABAAAAAABAAAAAAAAAAEAAAIAAAAAAQAACgAAAAABAAAEAAAAAAEAAAAAAAAAAQAAAgAAAAABAAAKAAAAAAEAAAQAAAAAAQAAAAAAAAABAAACAAAAAAEAAAoAAAAAAQAABAAAAAABAAAAAAAAAAEAAAIAAAAAAQAACgAAAAABAAAEAAAAAAEAAAAAAAAAAQAAAgAAAAABAAAKAAAAAAEAAAQAAAAAAQAAAAAAAAABAAACAAAAAAEAAAoAAAAAAQAABAAAAAABAAAAAAAAAAEAAAIAAAAAAQAACgAAAAABAAAEAAAAAAEAAAAAAAAAAQAAAgAAAAABAAAKAAAAAAEAAAQAAAAAAQAAAAAAAAABAAACAAAAAAEAAAoAAAAAAQAABAAAAAABAAAAAAAAAAEAAAIAAAAAAQAACgAAAAABAAAEAAAAAAEAAAAAAAAAAQAAAgAAAAABAAAEAAAAAAEAAAoAAAAAAQAABAAAAAABAAAAAAAAAAEAAAIAAAAAAQAACgAAAAABAAAEAAAAAAEAAAAAAAAAAQAAAgAAAAABAAAKAAAAAAEAAAQAAAAAAQAAAAAAAAABAAACAAAAAAEAAAoAAAAAAQAABAAAAAABAAAAAAAAAAEAAAIAAAAAAQAACgAAAAABAAAEAAAAAAEAAAAAAAAAAQAAAgAAAAABAAAKAAAAAAEAAAQAAAAAAQAAAAAAAAABAAACAAAAAAEAAAoAAAAAAQAABAAAAAABAAAAAAAAAAEAAAIAAAAAAQAACgAAAAABAAAEAAAAAAEAAAAAAAAAAQAAAgAAAAABAAAKAAAAAAEAAAQAAAAAAQAAAAAAAAABAAACAAAAAAEAAAoAAAAAAQAABAAAAAABAAAAAAAAAAEAAAIAAAAAAQAACgAAAAABAAAEAAAAAAEAAAAAAAAAAQAAAgAAAAABAAAKAAAAAAEAAAQAAAAAAQAAAAAAAAABAAACAAAAAAEAAAoAAAAAAQAABAAAAAABAAAAAAAAAAEAAAIAAAAAAQAACgAAAAABAAAEAAAAAAEAAAAAAAAAAQAAAgAAAAABAAAKAAAAAAEAAAQAAAAAAQAAAAAAAAABAAACAAAAAAEAAAoAAAAAAQAABAAAAAABAAAAAAAAAAEAAAIAAAAAAQAACgAAAAABAAAEAAAAAAEAAAAAAAAAAQAAAgAAAAABAAAKAAAAAAEAAAQAAAAAAQAAAAAAAAABAAACAAAAAAEAAAoAAAAAAQAABAAAAAABAAAAAAAAAAEAAAIAAAAAAQAACgAAAAABAAAEAAAAAAEAAAAAAAAAAQAAAgAAAAABAAAKAAAAAAEAAAQAAAAAAQAAAAAAAAABAAACAAAAAAEAAAoAAAAAAQAABAAAAAABAAAAAAAAAAEAAAIAAAAAAQAACgAAAAABAAAEAAAAAAEAAAAAAAAAAQAAAgAAAAABAAAKAAAAAAEAAAQAAAAAAQAAAAAAAAABAAACAAAAAAEAAAoAAAAAAQAABAAAAAABAAAAAAAAAAEAAAIAAAAAAQAACgAAAAABAAAEAAAAAAEAAAAAAAAAAQAAAgAAAAABAAAKAAAAAAEAAAQAAAAAAQAAAAAAAAABAAACAAAAAAEAAAoAAAAAAQAABAAAAAABAAAAAAAAAAEAAAIAAAAAAQAACgAAAAABAAAEAAAAAAEAAAAAAAAAAQAAAgAAAAABAAAKAAAAAAEAAAQAAAAAAQAAAAAAAAABAAACAAAAAAEAAAoAAAAAAQAABAAAAAABAAAAAAAAAAEAAAIAAAAAAQAACgAAAAABAAAEAAAAAAEAAAAAAAAAAQAAAgAAAAABAAAKAAAAAAEAAAQAAAAAAQAAAAAAAAABAAACAAAAAAEAAAoAAAAAAQAABAAAAAABAAAAAAAAAAEAAAIAAAAAAQAACgAAAAABAAAEAAAAAAEAAAAAAAAAAQAAAgAAAAABAAAKAAAAAAEAAAQAAAAAAQAAAAAAAAABAAACAAAAAAEAAAoAAAAAAQAABAAAAAABAAAAAAAAAAEAAAIAAAAAAQAACgAAAAABAAAEAAAAAAEAAAAAAAAAAQAAAgAAAAABAAAKAAAAAAEAAAQAAAAAAQAAAAAAAAABAAACAAAAAAEAAAoAAAAAAQAABAAAAAABAAAAAAAAAAEAAAIAAAAAAQAACAAAAAACAAACAAAAAAEAAAoAAAAAAQAABAAAAAABAAAAAAAAAAEAAAIAAAAAAQAACgAAAAABAAAEAAAAAAEAAAAAAAAAAQAAAgAAAAABAAAKAAAAAAEAAAQAAAAAAQAAAAAAAAABAAACAAAAAAEAAAoAAAAAAQAABAAAAAABAAAAAAAAAAEAAAIAAAAAAQAACgAAAAABAAAEAAAAAAEAAAAAAAAAAQAAAgAAAAABAAAKAAAAAAEAAAQAAAAAAQAAAAAAAAABAAACAAAAAAEAAAoAAAAAAQAABAAAAAABAAAAAAAAAAEAAAIAAAAAAQAACgAAAAABAAAEAAAAAAEAAAAAAAAAAQAAAgAAAAABAAAKAAAAAAEAAAQAAAAAAQAAAAAAAAABAAACAAAAAAEAAAoAAAAAAQAABAAAAAABAAAAAAAAAAEAAAIAAAAAAQAACgAAAAABAAAEAAAAAAEAAAAAAAAAAQAAAgAAAAABAAAKAAAAAAEAAAQAAAAAAQAAAAAAAAABAAACAAAAAAEAAAoAAAAAAQAABAAAAAABAAAAAAAAAAEAAAIAAAAAAQAACgAAAAABAAAEAAAAAAEAAAAAAAAAAQAAAgAAAAABAAAKAAAAAAEAAAQAAAAAAQAAAAAAAAABAAACAAAAAAEAAAoAAAAAAQAABAAAAAABAAAAAAAAAAEAAAIAAAAAAQAACgAAAAABAAAEAAAAAAEAAAAAAAAAAQAAAgAAAAABAAAKAAAAAAEAAAQAAAAAAQAAAAAAAAABAAACAAAAAAEAAAoAAAAAAQAABAAAAAABAAAAAAAAAAEAAAIAAAAAAQAACgAAAAABAAAEAAAAAAEAAAAAAAAAAQAAAgAAAAABAAAKAAAAAAEAAAQAAAAAAQAAAAAAAAABAAACAAAAAAEAAAYAAAAAAQAAAgAAAAABAAAEAAAAAAEAAAoAAAAAAQAABAAAAAABAAAAAAAAAAEAAAIAAAAAAQAACgAAAAABAAAEAAAAAAEAAAAAAAAAAQAAAgAAAAABAAAKAAAAAAEAAAQAAAAAAQAAAAAAAAABAAACAAAAAAEAAAoAAAAAAQAABAAAAAABAAAAAAAAAAEAAAIAAAAAAQAACgAAAAABAAAEAAAAAAEAAAAAAAAAAQAAAgAAAAABAAAKAAAAAAEAAAQAAAAAAQAAAAAAAAABAAACAAAAAAEAAAYAAAAAAQAAAgAAAAABAAAGAAAAAAEAAAIAAAAAAQAACgAAAAABAAAEAAAAAAEAAAAAAAAAAQAAAgAAAAABAAAKAAAAAAEAAAQAAAAAAQAAAAAAAAABAAACAAAAAAEAAAoAAAAAAQAABAAAAAABAAAAAAAAAAEAAAIAAAAAAQAACgAAAAABAAAEAAAAAAEAAAAAAAAAAQAAAgAAAAABAAAKAAAAAAEAAAQAAAAAAQAAAAAAAAABAAACAAAAAAEAAAoAAAAAAQAABAAAAAABAAAAAAAAAAEAAAIAAAAAAQAACgAAAAABAAAEAAAAAAEAAAAAAAAAAQAAAgAAAAABAAAKAAAAAAEAAAQAAAAAAQAAAAAAAAABAAACAAAAAAEAAAoAAAAAAQAABAAAAAABAAAAAAAAAAEAAAIAAAAAAQAACgAAAAABAAAEAAAAAAEAAAAAAAAAAQAAAgAAAAABAAAKAAAAAAEAAAQAAAAAAQAAAAAAAAABAAACAAAAAAEAAAoAAAAAAQAABAAAAAABAAAAAAAAAAEAAAIAAAAAAQAACgAAAAABAAAEAAAAAAEAAAAAAAAAAQAAAgAAAAABAAAKAAAAAAEAAAQAAAAAAQAAAAAAAAABAAACAAAAAAEAAAoAAAAAAQAABAAAAAABAAAAAAAAAAEAAAIAAAAAAQAACgAAAAABAAAEAAAAAAEAAAAAAAAAAQAAAgAAAAABAAAKAAAAAAEAAAQAAAAAAQAAAAAAAAABAAACAAAAAAEAAAoAAAAAAQAABAAAAAABAAAAAAAAAAEAAAIAAAAAAQAACgAAAAABAAAEAAAAAAEAAAAAAAAAAQAAAgAAAAABAAAKAAAAAAEAAAQAAAAAAQAAAAAAAAABAAACAAAAAAEAAAoAAAAAAQAABAAAAAABAAAAAAAAAAEAAAIAAAAAAQAACgAAAAABAAAEAAAAAAEAAAAAAAAAAQAAAgAAAAABAAAKAAAAAAEAAAQAAAAAAQAAAAAAAAABAAACAAAAAAEAAAoAAAAAAQAABAAAAAABAAAAAAAAAAEAAAIAAAAAAQAACgAAAAABAAAEAAAAAAEAAAAAAAAAAQAAAgAAAAABAAAKAAAAAAEAAAQAAAAAAQAAAAAAAAABAAACAAAAAAEAAAoAAAAAAQAABAAAAAABAAAAAAAAAAEAAAIAAAAAAQAACgAAAAABAAAEAAAAAAEAAAAAAAAAAQAAAgAAAAABAAAKAAAAAAEAAAQAAAAAAQAAAAAAAAABAAACAAAAAAEAAAoAAAAAAQAABAAAAAABAAAAAAAAAAEAAAIAAAAAAQAACgAAAAABAAAEAAAAAAEAAAAAAAAAAQAAAgAAAAABAAAKAAAAAAEAAAQAAAAAAQAAAAAAAAABAAACAAAAAAEAAAoAAAAAAQAABAAAAAABAAAAAAAAAAEAAAIAAAAAAQAACgAAAAABAAAEAAAAAAEAAAAAAAAAAQAAAgAAAAABAAAKAAAAAAEAAAQAAAAAAQAAAAAAAAABAAACAAAAAAEAAAoAAAAAAQAABAAAAAABAAAAAAAAAAEAAAIAAAAAAQAACgAAAAABAAAEAAAAAAEAAAAAAAAAAQAAAgAAAAABAAAKAAAAAAEAAAQAAAAAAQAAAAAAAAABAAACAAAAAAEAAAoAAAAAAQAABAAAAAABAAAAAAAAAAEAAAIAAAAAAQAACgAAAAABAAAEAAAAAAEAAAAAAAAAAQAAAgAAAAABAAAKAAAAAAEAAAQAAAAAAQAAAAAAAAABAAACAAAAAAEAAAQAAAAAAQAACgAAAAABAAAEAAAAAAEAAAAAAAAAAQAAAgAAAAABAAAKAAAAAAEAAAQAAAAAAQAAAAAAAAABAAACAAAAAAEAAAoAAAAAAQAABAAAAAABAAAAAAAAAAEAAAIAAAAAAQAACgAAAAABAAAEAAAAAAEAAAAAAAAAAQAAAgAAAAABAAAKAAAAAAEAAAQAAAAAAQAAAAAAAAABAAACAAAAAAEAAAoAAAAAAQAABAAAAAABAAAAAAAAAAEAAAIAAAAAAQAACgAAAAABAAAEAAAAAAEAAAAAAAAAAQAAAgAAAAABAAAKAAAAAAEAAAQAAAAAAQAAAAAAAAABAAACAAAAAAEAAAoAAAAAAQAABAAAAAABAAAAAAAAAAEAAAIAAAAAAQAACgAAAAABAAAEAAAAAAEAAAAAAAAAAQAAAgAAAAABAAAKAAAAAAEAAAQAAAAAAQAAAAAAAAABAAACAAAAAAEAAAoAAAAAAQAABAAAAAABAAAAAAAAAAEAAAIAAAAAAQAACgAAAAABAAAEAAAAAAEAAAAAAAAAAQAAAgAAAAABAAAKAAAAAAEAAAQAAAAAAQAAAAAAAAABAAACAAAAAAEAAAQAAAAAAQAACgAAAAABAAAEAAAAAAEAAAAAAAAAAQAAAgAAAAAcc3RzYwAAAAAAAAABAAAAAQAAA+0AAAABAAAPyHN0c3oAAAAAAAAAAAAAA+0AAATaAAAAZAAAADQAAAAXAAAAOQAAAFwAAAA3AAAAIAAAACAAAABfAAAAMQAAABIAAAAfAAAAfQAAADYAAAASAAAAIAAAAH0AAAAvAAAAEgAAACwAAABqAAAALwAAABQAAAAhAAAAKwAAACQAAAAWAAAAFAAAAF4AAAAvAAAAIgAAABQAAABOAAAALQAAAB8AAAASAAAASgAAAC4AAAAgAAAAEgAAAD8AAAA2AAAAIAAAADEAAABIAAAALAAAABIAAAAfAAAAWAAAADQAAAAVAAAAJQAAAFgAAAAuAAAAFAAAACEAAAA0AAAAMwAAAB0AAAAfAAAAWgAAACwAAAASAAAAHAAAAD0AAAAsAAAAHAAAABIAAABoAAAANwAAACMAAAAiAAAAIwAAACIAAAASAAAAEgAAAI4AAAAsAAAAKAAAABIAAABTAAAAMgAAACEAAAAUAAAANwAAACEAAABAAAAAIgAAACAAAABQAAAANgAAABkAAAAiAAAAdgAAADYAAAAbAAAAHwAAAD8AAAA3AAAAIgAAAB8AAABYAAAAMQAAABQAAAAeAAAAZwAAADgAAAAcAAAAMwAAAEwAAAAxAAAAIAAAABwAAABEAAAAMQAAAB8AAAAUAAAAKgAAACwAAAAeAAAAFwAAAFIAAAAsAAAAIAAAABMAAABfAAAAKwAAACYAAAASAAAARgAAAC4AAAAyAAAAHgAAADwAAAA0AAAAIwAAAB4AAABDAAAALgAAABYAAAAfAAAAJwAAADwAAAAiAAAAHQAAAF8AAAAyAAAAHgAAAB8AAAAjAAAAIQAAABIAAAAvAAAAcwAAACsAAAAmAAAAEgAAADQAAAAnAAAAEgAAABsAAAA7AAAALgAAAB8AAAAUAAAAPgAAADoAAAAfAAAAIAAAAD8AAAAxAAAAHgAAABMAAABRAAAALgAAABMAAAAlAAAAVQAAAC0AAAAUAAAAHQAAAGcAAAAuAAAAFAAAACYAAABoAAAAMAAAABQAAAAhAAAARgAAACkAAAAhAAAAEgAAADgAAAApAAAAEgAAABgAAADsAAAARAAAAB4AAAAjAAAAmQAAAEkAAAAhAAAAHwAAACAAAAAhAAAAEgAAABIAAABoAAAAMAAAAB8AAAAUAAAASgAAAC8AAAAUAAAAHwAAAD8AAAAsAAAAPAAAABIAAAAhAAAAIwAAAC4AAABuAAAAMgAAAB8AAAAZAAAAhQAAADAAAAASAAAAHQAAADAAAAAkAAAARQAAADUAAAAaAAAAIAAAADYAAAAoAAAAEgAAABoAAABDAAAAPwAAACAAAAAcAAAAPAAAADEAAAAoAAACBgAAAG0AAAAyAAAAHwAAABwAAABFAAAAJwAAABIAAAAgAAAALwAAACAAAAAeAAAAEgAAAE8AAABAAAAAJgAAABsAAABZAAAAHgAAABsAAAAoAAAAQQAAACUAAAArAAAAEgAAAIIAAAAoAAAAHAAAACcAAABUAAAANQAAACwAAAAhAAAAgQAAACcAAAAhAAAAIAAAAEwAAAAhAAAAIQAAABIAAABDAAAAHwAAAEAAAAAmAAAAGgAAAJsAAAA7AAAAIAAAACwAAABGAAAAPAAAADIAAAAbAAAASwAAACsAAAAcAAAAJQAAAHwAAAAuAAAAIQAAAB8AAABmAAAASwAAACYAAAAyAAAAKwAAAEoAAAAcAAAAEgAAAB0AAABMAAAAKQAAAB8AAAAmAAAAZwAAACQAAAASAAAALwAAAEUAAAAgAAAAHAAAABIAAABFAAAAKwAAABoAAAAeAAAAMwAAAB4AAAAeAAAAEgAAAFAAAAAqAAAAIAAAABsAAAAbAAAAFAAAABIAAAAsAAAAcQAAACgAAAAlAAAAFAAAAEQAAAAmAAAAFAAAACcAAAAbAAAAHQAAABcAAAAYAAAAWQAAACoAAAApAAAAFAAAAGgAAAAqAAAAFQAAACYAAAA2AAAAFAAAABQAAAATAAAAcQAAACkAAAAuAAAAKQAAABsAAAAWAAAAEgAAABIAAABsAAAAIgAAACYAAAASAAAAUwAAACQAAAASAAAAHwAAACoAAAAbAAAAFAAAABkAAABQAAAAIwAAAB8AAAAUAAAAGwAAABYAAAAUAAAAMwAAASQAAAAwAAAAQAAAABYAAADAAAAAKAAAACIAAAAUAAAAawAAADUAAAAcAAAAJAAAABoAAAAXAAAAMAAAABIAAAAbAAAAFwAAAC4AAABLAAAAJAAAAB8AAAAUAAAAMgAAACYAAAAUAAAAIgAAAD8AAAAhAAAAKgAAACAAAAAbAAAAFAAAABIAAAASAAAAIwAAABQAAAASAAAAEgAAABoAAAAUAAAAEgAAABIAAABLAAAAIwAAACQAAAAjAAAARAAAACYAAAAgAAAAEgAAAFUAAAAkAAAAIgAAAB8AAAAgAAAAGQAAABUAAAASAAAAGgAAAC0AAAAdAAAAHQAAABsAAAAWAAAAEgAAABIAAABOAAAAKwAAAB4AAAAoAAAAGwAAABYAAAAhAAAAEgAAABsAAAA2AAAAHwAAAB4AAAAaAAAAFgAAABIAAAASAAAAUgAAACYAAAAUAAAAIAAAAEYAAAAhAAAAHAAAAB4AAABGAAAAIgAAAB8AAAAlAAAAPgAAACAAAAAeAAAAFAAAAboAAAAnAAAAJAAAAB4AAAAjAAAAGgAAABQAAAASAAAAEgAAADcAAAAiAAAAEgAAAB4AAABPAAAAJwAAACIAAAAbAAAANAAAACQAAAAUAAAAIAAAABsAAAAUAAAAEgAAABIAAABXAAAAIwAAABIAAAAgAAAAJAAAABsAAAArAAAAFAAAADoAAAA1AAAAJgAAAB8AAAAuAAAAHAAAACcAAAAWAAAARQAAACEAAAAWAAAAHgAAAEYAAAAhAAAAJAAAABQAAAAaAAAAFgAAABQAAAAUAAAARgAAACIAAAAfAAAAJAAAADoAAAAgAAAAHAAAABYAAAAxAAAAOQAAACUAAAAiAAAAXgAAACUAAAAgAAAAHAAAAH4AAAAqAAAAFgAAACAAAAAaAAAAFAAAABIAAAASAAAAdQAAACMAAAAUAAAAKwAAADUAAAAeAAAAGQAAABIAAABLAAAAJQAAABIAAAAgAAAAHgAAABYAAAApAAAAHAAAAFUAAAAiAAAAGgAAABsAAABIAAAAHAAAABoAAAASAAAAwQAAADAAAAAZAAAANgAAAGEAAAAnAAAAFgAAAB8AAABkAAAAJgAAACoAAAAkAAAAHQAAAB8AAAAWAAAAFgAAAFkAAAApAAAAIAAAABUAAAB5AAAAJwAAACAAAAAoAAAAQgAAACwAAAAeAAAAHwAAAFAAAAAkAAAAJgAAAB8AAABGAAAANgAAAB4AAAAhAAAAiAAAAD4AAAAvAAAALAAAADUAAAAyAAAAIgAAACEAAAB4AAAAIgAAAC8AAAASAAAAfAAAADAAAAAYAAAAMQAAAFQAAAAsAAAAJgAAABsAAAB3AAAAMQAAABoAAAAhAAAAgQAAADEAAAAdAAAAQwAAACkAAAAfAAAAHAAAAGQAAAAvAAAAKgAAAB8AAABLAAAALQAAACYAAAAdAAAASQAAACsAAAArAAAAHAAAAI0AAAA7AAAAJgAAAC4AAABQAAAAOAAAACoAAAAbAAAAkAAAACsAAAAeAAAAKAAAAFgAAAAtAAAALgAAAB0AAABXAAAALAAAAB4AAAAiAAAATQAAACIAAAAhAAAAFAAAAIYAAAAsAAAAGgAAACkAAABOAAAANgAAADEAAAAjAAAAQAAAADAAAAAeAAAAIgAAAEwAAAAhAAAAHQAAABIAAABRAAAAIQAAACkAAAAmAAAAOwAAACEAAAAbAAAAFwAAAFcAAAAxAAAAJwAAAB0AAABFAAAAKQAAABYAAAApAAAAPwAAACQAAAAmAAAAHgAAAFEAAAAjAAAAFQAAAB8AAAA3AAAAIAAAABsAAAAUAAAALgAAACAAAAH1AAAAPQAAACAAAAAfAAAAFgAAADsAAAAsAAAAHQAAAB4AAAA1AAAAHgAAABIAAAAbAAAAgAAAACMAAAAkAAAAJwAAADwAAAAfAAAAEgAAABsAAABYAAAAKQAAAB8AAAAUAAAAPgAAABwAAAAbAAAAJAAAADwAAAApAAAAHgAAABkAAABlAAAAKQAAABQAAAAgAAAAMgAAABwAAAASAAAAGQAAAGAAAAAiAAAAIAAAABQAAAB9AAAAIAAAABIAAAAoAAAAPQAAACAAAAAbAAAAFAAAASEAAAAyAAAAQQAAABIAAACjAAAAIgAAACYAAAAUAAAAbAAAAC8AAAAjAAAAHgAAAFIAAAAoAAAAKAAAACAAAAAvAAAAIAAAAB0AAAAdAAAAOwAAACIAAAAeAAAAEgAAAGgAAAAnAAAAEgAAAB8AAAAiAAAAFAAAABIAAAASAAAATQAAACEAAAAnAAAAEgAAAEsAAAAjAAAAEgAAAB8AAAAzAAAAHwAAAB4AAAAdAAAARgAAAB8AAAAhAAAAEgAAAD4AAAAfAAAAEgAAABwAAAAbAAAAFAAAABIAAAASAAAASQAAADgAAAAfAAAAIgAAAFkAAAAnAAAAEgAAACAAAAAaAAAAFAAAABIAAAASAAAARwAAACQAAAAeAAAAEwAAADgAAAAcAAAAGwAAABIAAAAqAAAAFAAAABIAAAASAAAANAAAACIAAAAnAAAAFAAAAEsAAAAlAAAAFAAAACEAAABHAAAAJAAAACYAAAAVAAAARwAAACMAAAAgAAAAFwAAAH0AAAAoAAAAGQAAACAAAABLAAAAIwAAABQAAAAbAAAAHQAAABQAAAASAAAANQAAAGoAAAApAAAAEgAAACkAAAArAAAAFAAAADAAAAASAAAAUQAAACMAAAAkAAAAIgAAADcAAAA2AAAAIgAAACIAAAAdAAAAFAAAACgAAAASAAAARwAAACgAAAAjAAAAKwAAAHwAAAAlAAAAFAAAACAAAAAdAAAAFgAAACkAAAAUAAAATwAAACUAAABCAAAAMgAAACMAAAA/AAAALAAAABsAAAAcAAAAXgAAACEAAAAfAAAAEgAAAD0AAAAiAAAAEgAAAB8AAABQAAAAMQAAACMAAAAUAAAASAAAACgAAAAfAAAAFwAAAEsAAAAoAAAAHgAAAB4AAAAkAAAAGQAAABQAAAAWAAAAOwAAADIAAAAhAAAAJQAAAFMAAAApAAAAFgAAACAAAAAeAAAAGQAAABYAAAAUAAAAPAAAACUAAAAnAAAAFgAAADYAAAAjAAAAFgAAACAAAAA0AAAAJgAAACEAAAAUAAABZwAAABUAAAAkAAAAEgAAABIAAAAUc3RjbwAAAAAAAAABAAAAMAAAAGJ1ZHRhAAAAWm1ldGEAAAAAAAAAIWhkbHIAAAAAAAAAAG1kaXJhcHBsAAAAAAAAAAAAAAAALWlsc3QAAAAlqXRvbwAAAB1kYXRhAAAAAQAAAABMYXZmNTguMjkuMTAw\" type=\"video/mp4\">\n",
       "  Your browser does not support the video tag.\n",
       "  </video>"
      ],
      "text/plain": [
       "<IPython.core.display.HTML object>"
      ]
     },
     "execution_count": 38,
     "metadata": {},
     "output_type": "execute_result"
    }
   ],
   "source": [
    "def create_policy_eval_video(policy, filename, num_episodes=5, fps=30):\n",
    "  filename = filename + \".mp4\"\n",
    "  with imageio.get_writer(filename, fps=fps) as video:\n",
    "    for _ in range(num_episodes):\n",
    "      time_step = eval_env.reset()\n",
    "      r = eval_py_env.render()\n",
    "      video.append_data(eval_py_env.render())\n",
    "      while not time_step.is_last():\n",
    "        action_step = policy.action(time_step)\n",
    "        time_step = eval_env.step(action_step.action)\n",
    "        video.append_data(eval_py_env.render())\n",
    "  return embed_mp4(filename)\n",
    "\n",
    "create_policy_eval_video(agent.policy, \"trained-agent\")"
   ]
  },
  {
   "cell_type": "markdown",
   "metadata": {
    "id": "povaAOcZygLw"
   },
   "source": [
    "For fun, compare the trained agent (above) to an agent moving randomly. (It does not do as well.)"
   ]
  },
  {
   "cell_type": "code",
   "execution_count": 39,
   "metadata": {
    "execution": {
     "iopub.execute_input": "2021-09-29T12:23:47.327774Z",
     "iopub.status.busy": "2021-09-29T12:23:47.326987Z",
     "iopub.status.idle": "2021-09-29T12:23:48.494204Z",
     "shell.execute_reply": "2021-09-29T12:23:48.493663Z"
    },
    "id": "pJZIdC37yNH4"
   },
   "outputs": [
    {
     "name": "stderr",
     "output_type": "stream",
     "text": [
      "WARNING:root:IMAGEIO FFMPEG_WRITER WARNING: input image is not divisible by macro_block_size=16, resizing from (400, 600) to (400, 608) to ensure video compatibility with most codecs and players. To prevent resizing, make your input image divisible by the macro_block_size or set the macro_block_size to None (risking incompatibility). You may also see a FFMPEG warning concerning speedloss due to data not being aligned.\n"
     ]
    },
    {
     "data": {
      "text/html": [
       "\n",
       "  <video width=\"640\" height=\"480\" controls>\n",
       "    <source src=\"data:video/mp4;base64,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\" type=\"video/mp4\">\n",
       "  Your browser does not support the video tag.\n",
       "  </video>"
      ],
      "text/plain": [
       "<IPython.core.display.HTML object>"
      ]
     },
     "execution_count": 39,
     "metadata": {},
     "output_type": "execute_result"
    }
   ],
   "source": [
    "create_policy_eval_video(random_policy, \"random-agent\")"
   ]
  },
  {
   "cell_type": "code",
   "execution_count": null,
   "metadata": {},
   "outputs": [],
   "source": []
  }
 ],
 "metadata": {
  "colab": {
   "collapsed_sections": [],
   "name": "DQN Tutorial.ipynb",
   "private_outputs": true,
   "provenance": [],
   "toc_visible": true
  },
  "kernelspec": {
   "display_name": "Python 3",
   "language": "python",
   "name": "python3"
  },
  "language_info": {
   "codemirror_mode": {
    "name": "ipython",
    "version": 3
   },
   "file_extension": ".py",
   "mimetype": "text/x-python",
   "name": "python",
   "nbconvert_exporter": "python",
   "pygments_lexer": "ipython3",
   "version": "3.8.3"
  },
  "pycharm": {
   "stem_cell": {
    "cell_type": "raw",
    "metadata": {
     "collapsed": false
    },
    "source": []
   }
  }
 },
 "nbformat": 4,
 "nbformat_minor": 0
}
