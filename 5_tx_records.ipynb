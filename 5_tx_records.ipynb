{
 "cells": [
  {
   "cell_type": "code",
   "execution_count": 3,
   "metadata": {},
   "outputs": [],
   "source": [
    "import osmnx as ox\n",
    "import networkx as nx\n",
    "import plotly.graph_objects as go\n",
    "import numpy as np\n",
    "import matplotlib.pyplot as plt\n",
    "from src.utils import plot_path\n",
    "import wandb\n",
    "from tqdm import tqdm\n",
    "from collections import defaultdict\n",
    "import pandas as pd\n",
    "\n",
    "# for rendering\n",
    "import imageio\n",
    "import IPython\n",
    "from PIL import Image\n",
    "from pyvirtualdisplay import Display\n",
    "display = Display(visible=0, size=(1400, 900))\n",
    "display.start()\n",
    "%matplotlib inline\n",
    "\n",
    "G = ox.load_graphml(\"./houston_tx_usa_drive_500.graphml\")\n",
    "tx_record_path = \"~/dev/GraphRouteOptimizationRL/datasets/tx_flood.csv\"\n",
    "df = pd.read_csv(tx_record_path)"
   ]
  },
  {
   "cell_type": "code",
   "execution_count": 6,
   "metadata": {},
   "outputs": [],
   "source": [
    "from stable_baselines3 import PPO\n",
    "from stable_baselines3.common.env_checker import check_env"
   ]
  },
  {
   "cell_type": "code",
   "execution_count": 4,
   "metadata": {},
   "outputs": [
    {
     "name": "stdout",
     "output_type": "stream",
     "text": [
      "Using random weights\n"
     ]
    },
    {
     "name": "stderr",
     "output_type": "stream",
     "text": [
      "100%|██████████| 302/302 [00:00<00:00, 77548.66it/s]"
     ]
    },
    {
     "name": "stdout",
     "output_type": "stream",
     "text": [
      "Setting problem\n",
      "Getting dijkstra path:\n",
      "[0, 3, 61, 71, 50, 41, 42, 89, 43, 23, 24, 25, 100]\n"
     ]
    },
    {
     "name": "stderr",
     "output_type": "stream",
     "text": [
      "\n"
     ]
    }
   ],
   "source": [
    "from src.routegym.env import ShortestRouteEnv\n",
    "env = ShortestRouteEnv(G, origin=0, goal=100, random_weights=(0, 100))"
   ]
  },
  {
   "cell_type": "code",
   "execution_count": null,
   "metadata": {},
   "outputs": [],
   "source": [
    "check_env(env)"
   ]
  },
  {
   "cell_type": "code",
   "execution_count": 8,
   "metadata": {},
   "outputs": [
    {
     "data": {
      "text/plain": [
       "Tuple(Discrete(117), Discrete(117))"
      ]
     },
     "execution_count": 8,
     "metadata": {},
     "output_type": "execute_result"
    }
   ],
   "source": [
    "env.observation_space"
   ]
  },
  {
   "cell_type": "code",
   "execution_count": 9,
   "metadata": {},
   "outputs": [
    {
     "name": "stdout",
     "output_type": "stream",
     "text": [
      "Getting dijkstra path:\n",
      "[0, 3, 61, 71, 50, 41, 42, 89, 43, 23, 24, 25, 100]\n"
     ]
    },
    {
     "data": {
      "text/plain": [
       "0"
      ]
     },
     "execution_count": 9,
     "metadata": {},
     "output_type": "execute_result"
    }
   ],
   "source": [
    "env.reset()"
   ]
  },
  {
   "cell_type": "code",
   "execution_count": 11,
   "metadata": {},
   "outputs": [
    {
     "name": "stdout",
     "output_type": "stream",
     "text": [
      "In Parent Class\n",
      "111\n"
     ]
    }
   ],
   "source": [
    "# Python program to demonstrate\n",
    "# inheritance in inner class\n",
    "  \n",
    "class A:\n",
    "    def __init__(self):\n",
    "        self.db = self.Inner()\n",
    "        self.nb = 123\n",
    "          \n",
    "    def display(self):\n",
    "        print('In Parent Class')\n",
    "        self.nb = 124\n",
    "          \n",
    "    # this is inner class\n",
    "    class Inner:\n",
    "        def __init__(self):\n",
    "            self.nb = 111\n",
    "\n",
    "        def __call__(self):\n",
    "            self.nb = A.nb\n",
    "            print('Inner Of Parent Class')\n",
    "\n",
    "        def display(self):\n",
    "            print(self.nb)\n",
    "            \n",
    "# creating child class object\n",
    "p = A()\n",
    "p.display()\n",
    "  \n",
    "# create inner class object\n",
    "x = p.db\n",
    "x.display()"
   ]
  },
  {
   "cell_type": "code",
   "execution_count": null,
   "metadata": {},
   "outputs": [],
   "source": []
  }
 ],
 "metadata": {
  "interpreter": {
   "hash": "370b18453dd911954a8fbfa7dd3788e51d32d9f18de7cedd108b03143a0133b3"
  },
  "kernelspec": {
   "display_name": "Python 3.8.3 ('rl')",
   "language": "python",
   "name": "python3"
  },
  "language_info": {
   "codemirror_mode": {
    "name": "ipython",
    "version": 3
   },
   "file_extension": ".py",
   "mimetype": "text/x-python",
   "name": "python",
   "nbconvert_exporter": "python",
   "pygments_lexer": "ipython3",
   "version": "3.8.3"
  },
  "orig_nbformat": 4
 },
 "nbformat": 4,
 "nbformat_minor": 2
}
