{
 "cells": [
  {
   "cell_type": "code",
   "execution_count": 5,
   "metadata": {},
   "outputs": [],
   "source": [
    "from pathlib import Path\n",
    "from tqdm import tqdm\n",
    "import osmnx as ox\n",
    "import pandas as pd\n",
    "\n",
    "from sb3_contrib import MaskablePPO\n",
    "from sb3_contrib.common.envs import InvalidActionEnvDiscrete\n",
    "from gym_graph_map.envs import GraphMapEnv\n",
    "from sb3_contrib.common.maskable.evaluation import evaluate_policy\n",
    "from sb3_contrib.common.maskable.utils import get_action_masks\n",
    "from stable_baselines3.common.env_checker import check_env\n",
    "from wandb.integration.sb3 import WandbCallback\n",
    "import wandb\n",
    "\n",
    "import torch\n",
    "\n",
    "torch.cuda.empty_cache()"
   ]
  },
  {
   "cell_type": "code",
   "execution_count": 2,
   "metadata": {},
   "outputs": [
    {
     "name": "stdout",
     "output_type": "stream",
     "text": [
      "Loaded graph\n",
      "EP_LENGTH: 1521\n",
      "origin: 383\n",
      "goal: 612\n",
      "num of neg_points: 4\n",
      "action_space: Discrete(1521)\n"
     ]
    }
   ],
   "source": [
    "graph_path = str(Path.home()) + \"/dev/GraphRouteOptimizationRL/houston_tx_usa_drive_2000.graphml\"\n",
    "neg_df_path = str(Path.home()) + \"/dev/GraphRouteOptimizationRL/datasets/tx_flood.csv\"\n",
    "G = ox.load_graphml(graph_path)\n",
    "print(\"Loaded graph\")\n",
    "neg_df = pd.read_csv(neg_df_path)\n",
    "center_node = (29.764050, -95.393030)\n",
    "env = GraphMapEnv(G, neg_df, center_node=center_node, verbose=False)"
   ]
  },
  {
   "cell_type": "code",
   "execution_count": 11,
   "metadata": {},
   "outputs": [],
   "source": [
    "df = pd.DataFrame(columns=[\"sample_id\", \"nx_shortest_path_length\", \"nx_shortest_travel_time_length\"])\n",
    "sample_num = 100000"
   ]
  },
  {
   "cell_type": "code",
   "execution_count": 12,
   "metadata": {},
   "outputs": [
    {
     "name": "stderr",
     "output_type": "stream",
     "text": [
      "  0%|          | 74/100000 [00:06<2:39:23, 10.45it/s]"
     ]
    },
    {
     "name": "stdout",
     "output_type": "stream",
     "text": [
      "No path found for default route. Restting...\n"
     ]
    },
    {
     "name": "stderr",
     "output_type": "stream",
     "text": [
      "  0%|          | 204/100000 [00:16<2:43:17, 10.19it/s]"
     ]
    },
    {
     "name": "stdout",
     "output_type": "stream",
     "text": [
      "No path found for default route. Restting...\n"
     ]
    },
    {
     "name": "stderr",
     "output_type": "stream",
     "text": [
      "  0%|          | 306/100000 [00:25<2:29:18, 11.13it/s]"
     ]
    },
    {
     "name": "stdout",
     "output_type": "stream",
     "text": [
      "No path found for default route. Restting...\n"
     ]
    },
    {
     "name": "stderr",
     "output_type": "stream",
     "text": [
      "  0%|          | 350/100000 [00:29<2:35:00, 10.71it/s]"
     ]
    },
    {
     "name": "stdout",
     "output_type": "stream",
     "text": [
      "No path found for default route. Restting...\n"
     ]
    },
    {
     "name": "stderr",
     "output_type": "stream",
     "text": [
      "  0%|          | 498/100000 [00:41<2:36:58, 10.56it/s]"
     ]
    },
    {
     "name": "stdout",
     "output_type": "stream",
     "text": [
      "No path found for default route. Restting...\n"
     ]
    },
    {
     "name": "stderr",
     "output_type": "stream",
     "text": [
      "  1%|          | 820/100000 [01:07<2:24:01, 11.48it/s]"
     ]
    }
   ],
   "source": [
    "for i in tqdm(range(sample_num)):\n",
    "    env.reset()\n",
    "    env.get_default_route()\n",
    "    default_path = env.nx_shortest_path\n",
    "    # env.render(plot_learned=False, default_path = default_path, save=False)\n",
    "    # print(env.nx_shortest_path_length)\n",
    "    default_travel_path = env.nx_shortest_travel_time\n",
    "    # env.render(plot_learned=False, default_path = default_travel_path, save=False)\n",
    "    # print(env.nx_shortest_travel_time_length)\n",
    "    df.loc[i] = [i, env.nx_shortest_path_length, env.nx_shortest_travel_time_length]"
   ]
  },
  {
   "cell_type": "code",
   "execution_count": 10,
   "metadata": {},
   "outputs": [
    {
     "data": {
      "text/html": [
       "<div>\n",
       "<style scoped>\n",
       "    .dataframe tbody tr th:only-of-type {\n",
       "        vertical-align: middle;\n",
       "    }\n",
       "\n",
       "    .dataframe tbody tr th {\n",
       "        vertical-align: top;\n",
       "    }\n",
       "\n",
       "    .dataframe thead th {\n",
       "        text-align: right;\n",
       "    }\n",
       "</style>\n",
       "<table border=\"1\" class=\"dataframe\">\n",
       "  <thead>\n",
       "    <tr style=\"text-align: right;\">\n",
       "      <th></th>\n",
       "      <th>sample_id</th>\n",
       "      <th>nx_shortest_path_length</th>\n",
       "      <th>nx_shortest_travel_time_length</th>\n",
       "    </tr>\n",
       "  </thead>\n",
       "  <tbody>\n",
       "    <tr>\n",
       "      <th>0</th>\n",
       "      <td>0.0</td>\n",
       "      <td>2421.967</td>\n",
       "      <td>180.6</td>\n",
       "    </tr>\n",
       "    <tr>\n",
       "      <th>1</th>\n",
       "      <td>1.0</td>\n",
       "      <td>2162.712</td>\n",
       "      <td>166.9</td>\n",
       "    </tr>\n",
       "    <tr>\n",
       "      <th>2</th>\n",
       "      <td>2.0</td>\n",
       "      <td>5018.795</td>\n",
       "      <td>305.6</td>\n",
       "    </tr>\n",
       "    <tr>\n",
       "      <th>3</th>\n",
       "      <td>3.0</td>\n",
       "      <td>3038.982</td>\n",
       "      <td>219.2</td>\n",
       "    </tr>\n",
       "    <tr>\n",
       "      <th>4</th>\n",
       "      <td>4.0</td>\n",
       "      <td>1063.847</td>\n",
       "      <td>72.8</td>\n",
       "    </tr>\n",
       "  </tbody>\n",
       "</table>\n",
       "</div>"
      ],
      "text/plain": [
       "   sample_id  nx_shortest_path_length  nx_shortest_travel_time_length\n",
       "0        0.0                 2421.967                           180.6\n",
       "1        1.0                 2162.712                           166.9\n",
       "2        2.0                 5018.795                           305.6\n",
       "3        3.0                 3038.982                           219.2\n",
       "4        4.0                 1063.847                            72.8"
      ]
     },
     "execution_count": 10,
     "metadata": {},
     "output_type": "execute_result"
    }
   ],
   "source": [
    "df.head()"
   ]
  },
  {
   "cell_type": "code",
   "execution_count": null,
   "metadata": {},
   "outputs": [],
   "source": []
  }
 ],
 "metadata": {
  "interpreter": {
   "hash": "370b18453dd911954a8fbfa7dd3788e51d32d9f18de7cedd108b03143a0133b3"
  },
  "kernelspec": {
   "display_name": "Python 3.8.3 ('rl')",
   "language": "python",
   "name": "python3"
  },
  "language_info": {
   "codemirror_mode": {
    "name": "ipython",
    "version": 3
   },
   "file_extension": ".py",
   "mimetype": "text/x-python",
   "name": "python",
   "nbconvert_exporter": "python",
   "pygments_lexer": "ipython3",
   "version": "3.8.3"
  },
  "orig_nbformat": 4
 },
 "nbformat": 4,
 "nbformat_minor": 2
}
