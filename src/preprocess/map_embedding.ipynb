{
 "cells": [
  {
   "cell_type": "code",
   "execution_count": 1,
   "metadata": {},
   "outputs": [],
   "source": [
    "# coding: utf-8\n",
    "\n",
    "from karateclub import NetMF, Node2Vec, FeatherNode\n",
    "\n",
    "import osmnx as ox\n",
    "import networkx as nx\n",
    "import plotly.graph_objects as go\n",
    "import numpy as np\n",
    "import matplotlib.pyplot as plt\n",
    "from pathlib import Path\n",
    "from copy import deepcopy\n",
    "\n",
    "repo_path = str(Path.home()) + \"/dev/GraphRouteOptimizationRL/\"\n",
    "graph_path = repo_path +     \"datasets/osmnx/houston_tx_usa_drive_2000_slope.graphml\"\n",
    "\n",
    "output = repo_path + \"datasets/embeddings/houston_tx_usa_drive_2000_slope\"\n",
    "\n",
    "G = ox.load_graphml(graph_path)\n",
    "G = nx.relabel.convert_node_labels_to_integers(G, first_label=0, ordering='default')"
   ]
  },
  {
   "cell_type": "code",
   "execution_count": 7,
   "metadata": {},
   "outputs": [
    {
     "ename": "TypeError",
     "evalue": "unhashable type: 'list'",
     "output_type": "error",
     "traceback": [
      "\u001b[0;31m---------------------------------------------------------------------------\u001b[0m",
      "\u001b[0;31mTypeError\u001b[0m                                 Traceback (most recent call last)",
      "\u001b[0;32m<ipython-input-7-1483192923b8>\u001b[0m in \u001b[0;36m<module>\u001b[0;34m\u001b[0m\n\u001b[1;32m      3\u001b[0m \u001b[0md\u001b[0m \u001b[0;34m=\u001b[0m \u001b[0mdefaultdict\u001b[0m\u001b[0;34m(\u001b[0m\u001b[0mlist\u001b[0m\u001b[0;34m)\u001b[0m\u001b[0;34m\u001b[0m\u001b[0;34m\u001b[0m\u001b[0m\n\u001b[1;32m      4\u001b[0m \u001b[0;32mfor\u001b[0m \u001b[0mu\u001b[0m\u001b[0;34m,\u001b[0m\u001b[0mv\u001b[0m\u001b[0;34m,\u001b[0m \u001b[0mdata\u001b[0m \u001b[0;32min\u001b[0m \u001b[0mG\u001b[0m\u001b[0;34m.\u001b[0m\u001b[0medges\u001b[0m\u001b[0;34m(\u001b[0m\u001b[0mdata\u001b[0m\u001b[0;34m=\u001b[0m\u001b[0;32mTrue\u001b[0m\u001b[0;34m)\u001b[0m\u001b[0;34m:\u001b[0m\u001b[0;34m\u001b[0m\u001b[0;34m\u001b[0m\u001b[0m\n\u001b[0;32m----> 5\u001b[0;31m     \u001b[0md\u001b[0m\u001b[0;34m[\u001b[0m\u001b[0mdata\u001b[0m\u001b[0;34m[\u001b[0m\u001b[0;34m'highway'\u001b[0m\u001b[0;34m]\u001b[0m\u001b[0;34m]\u001b[0m \u001b[0;34m+=\u001b[0m \u001b[0;36m1\u001b[0m\u001b[0;34m\u001b[0m\u001b[0;34m\u001b[0m\u001b[0m\n\u001b[0m",
      "\u001b[0;31mTypeError\u001b[0m: unhashable type: 'list'"
     ]
    }
   ],
   "source": [
    "from collections import defaultdict\n",
    "road_type = set()\n",
    "d = defaultdict(list)\n",
    "for u,v, data in G.edges(data=True):\n",
    "    d[data['highway']] += 1"
   ]
  },
  {
   "cell_type": "code",
   "execution_count": null,
   "metadata": {},
   "outputs": [],
   "source": [
    "road_type"
   ]
  },
  {
   "cell_type": "code",
   "execution_count": 20,
   "metadata": {},
   "outputs": [
    {
     "name": "stdout",
     "output_type": "stream",
     "text": [
      "Fitting\n",
      "Getting embedding\n"
     ]
    }
   ],
   "source": [
    "model = NetMF(dimensions=8)\n",
    "print(\"Fitting\")\n",
    "model.fit(G)\n",
    "\n",
    "print(\"Getting embedding\")\n",
    "X = model.get_embedding()"
   ]
  },
  {
   "cell_type": "code",
   "execution_count": 21,
   "metadata": {},
   "outputs": [],
   "source": [
    "np.save(output + \"_netmf_tmp.npy\", X)"
   ]
  },
  {
   "cell_type": "code",
   "execution_count": null,
   "metadata": {},
   "outputs": [],
   "source": [
    "\n",
    "\n",
    "\n",
    "model = Node2Vec(dimensions=8, workers=16)\n",
    "print(\"Fitting\")\n",
    "model.fit(G)\n",
    "\n",
    "print(\"Getting embedding\")\n",
    "X = model.get_embedding()\n",
    "\n",
    "np.save(output + \"_node2vec.npy\", X)\n",
    "\n",
    "model = NetMF(dimensions=8)\n",
    "print(\"Fitting\")\n",
    "model.fit(G)\n",
    "\n",
    "print(\"Getting embedding\")\n",
    "X = model.get_embedding()\n",
    "\n",
    "np.save(output + \"_netmf.npy\", X)\n",
    "\n",
    "\n",
    "# model = FeatherNode(reduction_dimensions=32)\n",
    "\n",
    "# print(\"Fitting\")\n",
    "# model.fit(G, X)\n",
    "\n",
    "# print(\"Getting embedding\")\n",
    "# X = model.get_embedding()\n",
    "\n",
    "# np.save(output + \"e_netmf_feather_32d.npy\", X)\n"
   ]
  }
 ],
 "metadata": {
  "interpreter": {
   "hash": "370b18453dd911954a8fbfa7dd3788e51d32d9f18de7cedd108b03143a0133b3"
  },
  "kernelspec": {
   "display_name": "Python 3.8.3 ('rl')",
   "language": "python",
   "name": "python3"
  },
  "language_info": {
   "codemirror_mode": {
    "name": "ipython",
    "version": 3
   },
   "file_extension": ".py",
   "mimetype": "text/x-python",
   "name": "python",
   "nbconvert_exporter": "python",
   "pygments_lexer": "ipython3",
   "version": "3.8.3"
  },
  "orig_nbformat": 4
 },
 "nbformat": 4,
 "nbformat_minor": 2
}
