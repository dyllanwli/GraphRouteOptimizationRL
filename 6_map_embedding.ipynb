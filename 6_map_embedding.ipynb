{
 "cells": [
  {
   "cell_type": "code",
   "execution_count": 1,
   "metadata": {},
   "outputs": [],
   "source": [
    "from karateclub import NetMF, Node2Vec, FeatherNode, AE\n",
    "\n",
    "import osmnx as ox\n",
    "import networkx as nx\n",
    "import plotly.graph_objects as go\n",
    "import numpy as np\n",
    "import matplotlib.pyplot as plt\n",
    "from pathlib import Path\n",
    "from copy import deepcopy\n",
    "\n",
    "repo_path = str(Path.home()) + \"/dev/GraphRouteOptimizationRL/\"\n",
    "graph_path = repo_path + \\\n",
    "    \"datasets/osmnx/houston_tx_usa_drive_2000_slope.graphml\"\n",
    "\n",
    "output = repo_path + \"datasets/embeddings/\"\n",
    "\n",
    "G = ox.load_graphml(graph_path)\n",
    "G = nx.relabel.convert_node_labels_to_integers(G, first_label=0, ordering='default')"
   ]
  },
  {
   "cell_type": "code",
   "execution_count": null,
   "metadata": {},
   "outputs": [],
   "source": [
    "fig, ax = ox.plot_graph(G, show=False, close=False)"
   ]
  },
  {
   "cell_type": "code",
   "execution_count": 3,
   "metadata": {},
   "outputs": [],
   "source": [
    "fig.show()"
   ]
  },
  {
   "cell_type": "code",
   "execution_count": 44,
   "metadata": {},
   "outputs": [
    {
     "name": "stdout",
     "output_type": "stream",
     "text": [
      "Fitting\n",
      "Getting embedding\n"
     ]
    }
   ],
   "source": [
    "# model = Node2Vec(dimensions=32, workers=16)\n",
    "model = NetMF()\n",
    "\n",
    "print(\"Fitting\")\n",
    "model.fit(G)\n",
    "\n",
    "print(\"Getting embedding\")\n",
    "X = model.get_embedding()"
   ]
  },
  {
   "cell_type": "code",
   "execution_count": null,
   "metadata": {},
   "outputs": [],
   "source": [
    "# model = FeatherNode(reduction_dimensions=32)\n",
    "\n",
    "print(\"Fitting\")\n",
    "model.fit(G, X)\n",
    "\n",
    "print(\"Getting embedding\")\n",
    "X = model.get_embedding()"
   ]
  },
  {
   "cell_type": "code",
   "execution_count": 35,
   "metadata": {},
   "outputs": [],
   "source": [
    "np.save(output + \"houston_tx_usa_drive_2000_slope_netmf.npy\", X)"
   ]
  },
  {
   "cell_type": "code",
   "execution_count": 39,
   "metadata": {},
   "outputs": [],
   "source": [
    "embedding = np.load(output + \"houston_tx_usa_drive_2000_slope_netmf.npy\")"
   ]
  },
  {
   "cell_type": "code",
   "execution_count": 42,
   "metadata": {},
   "outputs": [
    {
     "data": {
      "text/plain": [
       "32"
      ]
     },
     "execution_count": 42,
     "metadata": {},
     "output_type": "execute_result"
    }
   ],
   "source": [
    "embedding.shape[1]"
   ]
  },
  {
   "cell_type": "code",
   "execution_count": null,
   "metadata": {},
   "outputs": [],
   "source": []
  }
 ],
 "metadata": {
  "interpreter": {
   "hash": "370b18453dd911954a8fbfa7dd3788e51d32d9f18de7cedd108b03143a0133b3"
  },
  "kernelspec": {
   "display_name": "Python 3.8.3 ('rl')",
   "language": "python",
   "name": "python3"
  },
  "language_info": {
   "codemirror_mode": {
    "name": "ipython",
    "version": 3
   },
   "file_extension": ".py",
   "mimetype": "text/x-python",
   "name": "python",
   "nbconvert_exporter": "python",
   "pygments_lexer": "ipython3",
   "version": "3.8.3"
  },
  "orig_nbformat": 4
 },
 "nbformat": 4,
 "nbformat_minor": 2
}
